{
 "cells": [
  {
   "cell_type": "markdown",
   "metadata": {},
   "source": [
    "## Test training method (Worm Domain).\n",
    "\n",
    "@author: j-huthmacher\n",
    "\n",
    "It is quite straight forward to train an agent within this notebook.\n",
    "Just import the you needed dependencies, initiliaze the trainer for our agent and afterwards let the trainer train the agent on a specific domain.\n",
    "\n",
    "The best models and the correpsonding study is stored in pickle file in `models/[DATE_OF_TRAINING]/[NAME].pickle`\n",
    "\n",
    "After several trianing runs and the best model is stored, you can use \n",
    "\n",
    "```python\n",
    "with open(\"../models/[DATE_OF_TRAINING]/[NAME].pickle\", 'rb') as f:\n",
    "    best_agent = pickle.load(f)\n",
    "````\n",
    "to load the best trained agent and use\n",
    "\n",
    "```python\n",
    "best_agent.run(env, steps=1000)\n",
    "```\n",
    "\n",
    "to executed the trained agent on a specific environment."
   ]
  },
  {
   "cell_type": "code",
   "execution_count": 1,
   "metadata": {},
   "outputs": [],
   "source": [
    "sys.path.insert(0, \"../\")\n",
    "import os\n",
    "os.chdir(\"../\")\n",
    "\n",
    "import pickle\n",
    "\n",
    "import gym\n",
    "from trainer import DDPGTrainer, TD3Trainer\n",
    "from utils.mlagent_utils import get_env\n",
    "from optuna.trial import FixedTrial"
   ]
  },
  {
   "cell_type": "code",
   "execution_count": 2,
   "metadata": {
    "tags": []
   },
   "outputs": [],
   "source": [
    "# win_env = \"envs/worm_dynamic_one_agent/win/UnityEnvironment\"\n",
    "# env = get_env(win_env, False)\n",
    "\n",
    "# print(env.action_space.low, env.action_space.high)\n",
    "# env.close()"
   ]
  },
  {
   "cell_type": "code",
   "execution_count": 3,
   "metadata": {
    "tags": []
   },
   "outputs": [
    {
     "output_type": "stream",
     "name": "stderr",
     "text": "07.07.2020 10:19:08 INFO: Connected to Unity environment with package version 1.0.2-preview and communication version 1.0.0\n07.07.2020 10:19:08 INFO: Connected new brain:\nWormDynamic?team=0\n07.07.2020 10:19:08 INFO: Start TD3 training (WormDomain)...\n07.07.2020 10:19:12 INFO: Start episodes (5) with 10 steps.\n07.07.2020 10:19:12 INFO: Parameter:\n07.07.2020 10:19:12 INFO: {'seed': 0, 'eval_freq': 5, 'training_episodes': 2, 'expl_noise': 0.1, 'random_policy_ratio': 1, 'batch_size': 1, 'discount': 0.99, 'tau': 0.005, 'policy_noise': 0.2, 'noise_clip': 0.5, 'policy_freq': 2, 'save_model': True, 'episodes': 5, 'training_steps': 10, 'evaluation_steps': 10, 'evaluation_lim': 5}\n07.07.2020 10:19:12 INFO: Episode-Step: 0/5\n07.07.2020 10:19:12 INFO: Trainings-Step: 0/10 (Explore)\n07.07.2020 10:19:12 INFO: (9,)\n07.07.2020 10:19:12 INFO: (1, 9)\n07.07.2020 10:19:12 INFO: Trainings-Step: 1/10 (Explore)\n07.07.2020 10:19:12 INFO: (9,)\n07.07.2020 10:19:12 INFO: (1, 9)\n07.07.2020 10:19:13 INFO: Trainings-Step: 2/10 (Explore)\n07.07.2020 10:19:13 INFO: (9,)\n07.07.2020 10:19:13 INFO: (1, 9)\n07.07.2020 10:19:13 INFO: Trainings-Step: 3/10 (Explore)\n07.07.2020 10:19:13 INFO: (9,)\n07.07.2020 10:19:13 INFO: (1, 9)\n07.07.2020 10:19:13 INFO: Trainings-Step: 4/10 (Explore)\n07.07.2020 10:19:13 INFO: (9,)\n07.07.2020 10:19:13 INFO: (1, 9)\n07.07.2020 10:19:13 INFO: Trainings-Step: 5/10 (Explore)\n07.07.2020 10:19:13 INFO: (9,)\n07.07.2020 10:19:13 INFO: (1, 9)\n07.07.2020 10:19:13 INFO: Trainings-Step: 6/10 (Explore)\n07.07.2020 10:19:13 INFO: (9,)\n07.07.2020 10:19:13 INFO: (1, 9)\n07.07.2020 10:19:13 INFO: Trainings-Step: 7/10 (Explore)\n07.07.2020 10:19:13 INFO: (9,)\n07.07.2020 10:19:13 INFO: (1, 9)\n07.07.2020 10:19:13 INFO: Trainings-Step: 8/10 (Explore)\n07.07.2020 10:19:13 INFO: (9,)\n07.07.2020 10:19:13 INFO: (1, 9)\n07.07.2020 10:19:13 INFO: Trainings-Step: 9/10 (Explore)\n07.07.2020 10:19:13 INFO: (9,)\n07.07.2020 10:19:13 INFO: (1, 9)\n07.07.2020 10:19:13 INFO: Start Evaluation: 10\n07.07.2020 10:19:15 INFO: Eval Episode:  0\n07.07.2020 10:19:15 INFO: Eval Episode:  1\n07.07.2020 10:19:15 INFO: Eval Episode:  2\n07.07.2020 10:19:15 INFO: Eval Episode:  3\n07.07.2020 10:19:15 INFO: Eval Episode:  4\n07.07.2020 10:19:15 INFO: Eval Episode:  5\n07.07.2020 10:19:15 INFO: Eval Episode:  6\n07.07.2020 10:19:15 INFO: Eval Episode:  7\n07.07.2020 10:19:15 INFO: Eval Episode:  8\n07.07.2020 10:19:15 INFO: Eval Episode:  9\n07.07.2020 10:19:15 INFO: Evaluation Reward: 0.01747695324011147\n07.07.2020 10:19:15 INFO: Episode-Step: 1/5\n07.07.2020 10:19:15 INFO: Trainings-Step: 0/10 (Explore)\n07.07.2020 10:19:15 INFO: (9,)\n07.07.2020 10:19:15 INFO: (1, 9)\n07.07.2020 10:19:15 INFO: Trainings-Step: 1/10 (Explore)\n07.07.2020 10:19:15 INFO: (9,)\n07.07.2020 10:19:15 INFO: (1, 9)\n07.07.2020 10:19:15 INFO: Trainings-Step: 2/10 (Explore)\n07.07.2020 10:19:16 INFO: (9,)\n07.07.2020 10:19:16 INFO: (1, 9)\n07.07.2020 10:19:16 INFO: Trainings-Step: 3/10 (Explore)\n07.07.2020 10:19:16 INFO: (9,)\n07.07.2020 10:19:16 INFO: (1, 9)\n07.07.2020 10:19:16 INFO: Trainings-Step: 4/10 (Explore)\n07.07.2020 10:19:16 INFO: (9,)\n07.07.2020 10:19:16 INFO: (1, 9)\n07.07.2020 10:19:16 INFO: Trainings-Step: 5/10 (Explore)\n07.07.2020 10:19:16 INFO: (9,)\n07.07.2020 10:19:16 INFO: (1, 9)\n07.07.2020 10:19:16 INFO: Trainings-Step: 6/10 (Explore)\n07.07.2020 10:19:16 INFO: (9,)\n07.07.2020 10:19:16 INFO: (1, 9)\n07.07.2020 10:19:16 INFO: Trainings-Step: 7/10 (Explore)\n07.07.2020 10:19:16 INFO: (9,)\n07.07.2020 10:19:16 INFO: (1, 9)\n07.07.2020 10:19:16 INFO: Trainings-Step: 8/10 (Explore)\n07.07.2020 10:19:16 INFO: (9,)\n07.07.2020 10:19:16 INFO: (1, 9)\n07.07.2020 10:19:16 INFO: Trainings-Step: 9/10 (Explore)\n07.07.2020 10:19:16 INFO: (9,)\n07.07.2020 10:19:16 INFO: (1, 9)\n07.07.2020 10:19:16 INFO: Start Evaluation: 10\n07.07.2020 10:19:17 INFO: Eval Episode:  0\n07.07.2020 10:19:17 INFO: Eval Episode:  1\n07.07.2020 10:19:17 INFO: Eval Episode:  2\n07.07.2020 10:19:17 INFO: Eval Episode:  3\n07.07.2020 10:19:17 INFO: Eval Episode:  4\n07.07.2020 10:19:17 INFO: Eval Episode:  5\n07.07.2020 10:19:17 INFO: Eval Episode:  6\n07.07.2020 10:19:17 INFO: Eval Episode:  7\n07.07.2020 10:19:17 INFO: Eval Episode:  8\n07.07.2020 10:19:17 INFO: Eval Episode:  9\n07.07.2020 10:19:17 INFO: Evaluation Reward: 0.020264948485419154\n07.07.2020 10:19:17 INFO: Episode-Step: 2/5\n07.07.2020 10:19:17 INFO: Trainings-Step: 0/10\n07.07.2020 10:19:17 INFO: (9,)\n07.07.2020 10:19:17 INFO: (1, 9)\n07.07.2020 10:19:18 INFO: Trainings-Step: 1/10\n07.07.2020 10:19:18 INFO: (9,)\n07.07.2020 10:19:18 INFO: (1, 9)\n07.07.2020 10:19:18 INFO: Trainings-Step: 2/10\n07.07.2020 10:19:18 INFO: (9,)\n07.07.2020 10:19:18 INFO: (1, 9)\n07.07.2020 10:19:18 INFO: Trainings-Step: 3/10\n07.07.2020 10:19:18 INFO: (9,)\n07.07.2020 10:19:18 INFO: (1, 9)\n07.07.2020 10:19:18 INFO: Trainings-Step: 4/10\n07.07.2020 10:19:18 INFO: (9,)\n07.07.2020 10:19:18 INFO: (1, 9)\n07.07.2020 10:19:18 INFO: Trainings-Step: 5/10\n07.07.2020 10:19:18 INFO: (9,)\n07.07.2020 10:19:18 INFO: (1, 9)\n07.07.2020 10:19:18 INFO: Trainings-Step: 6/10\n07.07.2020 10:19:18 INFO: (9,)\n07.07.2020 10:19:18 INFO: (1, 9)\n07.07.2020 10:19:18 INFO: Trainings-Step: 7/10\n07.07.2020 10:19:18 INFO: (9,)\n07.07.2020 10:19:18 INFO: (1, 9)\n07.07.2020 10:19:18 INFO: Trainings-Step: 8/10\n07.07.2020 10:19:18 INFO: (9,)\n07.07.2020 10:19:18 INFO: (1, 9)\n07.07.2020 10:19:19 INFO: Trainings-Step: 9/10\n07.07.2020 10:19:19 INFO: (9,)\n07.07.2020 10:19:19 INFO: (1, 9)\n07.07.2020 10:19:19 INFO: state: torch.Size([1, 57])\n07.07.2020 10:19:19 INFO: action: torch.Size([1, 9])\n07.07.2020 10:19:19 INFO: state: torch.Size([1, 57])\n07.07.2020 10:19:19 INFO: action: torch.Size([1, 9])\n07.07.2020 10:19:19 INFO: Start Evaluation: 10\n07.07.2020 10:19:19 INFO: Eval Episode:  0\n07.07.2020 10:19:19 INFO: Eval Episode:  1\n07.07.2020 10:19:19 INFO: Eval Episode:  2\n07.07.2020 10:19:19 INFO: Eval Episode:  3\n07.07.2020 10:19:19 INFO: Eval Episode:  4\n07.07.2020 10:19:20 INFO: Eval Episode:  5\n07.07.2020 10:19:20 INFO: Eval Episode:  6\n07.07.2020 10:19:20 INFO: Eval Episode:  7\n07.07.2020 10:19:20 INFO: Eval Episode:  8\n07.07.2020 10:19:20 INFO: Eval Episode:  9\n07.07.2020 10:19:20 INFO: Evaluation Reward: 0.020202398957917467\n07.07.2020 10:19:20 INFO: Episode-Step: 3/5\n07.07.2020 10:19:20 INFO: Trainings-Step: 0/10\n07.07.2020 10:19:20 INFO: (9,)\n07.07.2020 10:19:20 INFO: (1, 9)\n07.07.2020 10:19:20 INFO: Trainings-Step: 1/10\n07.07.2020 10:19:20 INFO: (9,)\n07.07.2020 10:19:20 INFO: (1, 9)\n07.07.2020 10:19:20 INFO: Trainings-Step: 2/10\n07.07.2020 10:19:20 INFO: (9,)\n07.07.2020 10:19:20 INFO: (1, 9)\n07.07.2020 10:19:20 INFO: Trainings-Step: 3/10\n07.07.2020 10:19:20 INFO: (9,)\n07.07.2020 10:19:20 INFO: (1, 9)\n07.07.2020 10:19:20 INFO: Trainings-Step: 4/10\n07.07.2020 10:19:20 INFO: (9,)\n07.07.2020 10:19:20 INFO: (1, 9)\n07.07.2020 10:19:20 INFO: Trainings-Step: 5/10\n07.07.2020 10:19:20 INFO: (9,)\n07.07.2020 10:19:20 INFO: (1, 9)\n07.07.2020 10:19:20 INFO: Trainings-Step: 6/10\n07.07.2020 10:19:20 INFO: (9,)\n07.07.2020 10:19:21 INFO: (1, 9)\n07.07.2020 10:19:21 INFO: Trainings-Step: 7/10\n07.07.2020 10:19:21 INFO: (9,)\n07.07.2020 10:19:21 INFO: (1, 9)\n07.07.2020 10:19:21 INFO: Trainings-Step: 8/10\n07.07.2020 10:19:21 INFO: (9,)\n07.07.2020 10:19:21 INFO: (1, 9)\n07.07.2020 10:19:21 INFO: Trainings-Step: 9/10\n07.07.2020 10:19:21 INFO: (9,)\n07.07.2020 10:19:21 INFO: (1, 9)\n07.07.2020 10:19:21 INFO: state: torch.Size([1, 57])\n07.07.2020 10:19:21 INFO: action: torch.Size([1, 9])\n07.07.2020 10:19:21 INFO: state: torch.Size([1, 57])\n07.07.2020 10:19:21 INFO: action: torch.Size([1, 9])\n07.07.2020 10:19:21 INFO: Start Evaluation: 10\n07.07.2020 10:19:21 INFO: Eval Episode:  0\n07.07.2020 10:19:21 INFO: Eval Episode:  1\n07.07.2020 10:19:21 INFO: Eval Episode:  2\n07.07.2020 10:19:22 INFO: Eval Episode:  3\n07.07.2020 10:19:22 INFO: Eval Episode:  4\n07.07.2020 10:19:22 INFO: Eval Episode:  5\n07.07.2020 10:19:22 INFO: Eval Episode:  6\n07.07.2020 10:19:22 INFO: Eval Episode:  7\n07.07.2020 10:19:22 INFO: Eval Episode:  8\n07.07.2020 10:19:22 INFO: Eval Episode:  9\n07.07.2020 10:19:22 INFO: Evaluation Reward: -0.017512922175228596\n07.07.2020 10:19:22 INFO: Episode-Step: 4/5\n07.07.2020 10:19:22 INFO: Trainings-Step: 0/10\n07.07.2020 10:19:22 INFO: (9,)\n07.07.2020 10:19:22 INFO: (1, 9)\n07.07.2020 10:19:22 INFO: Trainings-Step: 1/10\n07.07.2020 10:19:22 INFO: (9,)\n07.07.2020 10:19:22 INFO: (1, 9)\n07.07.2020 10:19:22 INFO: Trainings-Step: 2/10\n07.07.2020 10:19:22 INFO: (9,)\n07.07.2020 10:19:22 INFO: (1, 9)\n07.07.2020 10:19:22 INFO: Trainings-Step: 3/10\n07.07.2020 10:19:22 INFO: (9,)\n07.07.2020 10:19:23 INFO: (1, 9)\n07.07.2020 10:19:23 INFO: Trainings-Step: 4/10\n07.07.2020 10:19:23 INFO: (9,)\n07.07.2020 10:19:23 INFO: (1, 9)\n07.07.2020 10:19:23 INFO: Trainings-Step: 5/10\n07.07.2020 10:19:23 INFO: (9,)\n07.07.2020 10:19:23 INFO: (1, 9)\n"
    },
    {
     "output_type": "error",
     "ename": "KeyboardInterrupt",
     "evalue": "",
     "traceback": [
      "\u001b[1;31m---------------------------------------------------------------------------\u001b[0m",
      "\u001b[1;31mKeyboardInterrupt\u001b[0m                         Traceback (most recent call last)",
      "\u001b[1;32m<ipython-input-3-f491cfb7c18d>\u001b[0m in \u001b[0;36m<module>\u001b[1;34m\u001b[0m\n\u001b[0;32m     14\u001b[0m \u001b[0mtrainer\u001b[0m\u001b[1;33m.\u001b[0m\u001b[0mconfig\u001b[0m\u001b[1;33m[\u001b[0m\u001b[1;34m\"batch_size\"\u001b[0m\u001b[1;33m]\u001b[0m \u001b[1;33m=\u001b[0m \u001b[1;36m1\u001b[0m\u001b[1;33m\u001b[0m\u001b[1;33m\u001b[0m\u001b[0m\n\u001b[0;32m     15\u001b[0m \u001b[0mtrainer\u001b[0m\u001b[1;33m.\u001b[0m\u001b[0mconfig\u001b[0m\u001b[1;33m[\u001b[0m\u001b[1;34m\"evaluation_lim\"\u001b[0m\u001b[1;33m]\u001b[0m \u001b[1;33m=\u001b[0m \u001b[1;36m5\u001b[0m\u001b[1;33m\u001b[0m\u001b[1;33m\u001b[0m\u001b[0m\n\u001b[1;32m---> 16\u001b[1;33m \u001b[0mtrainer\u001b[0m\u001b[1;33m.\u001b[0m\u001b[0mtrain\u001b[0m\u001b[1;33m(\u001b[0m\u001b[0menv\u001b[0m\u001b[1;33m,\u001b[0m \u001b[0mname\u001b[0m\u001b[1;33m=\u001b[0m\u001b[1;34m\"TEST-TD3-WormDomain\"\u001b[0m\u001b[1;33m)\u001b[0m\u001b[1;33m\u001b[0m\u001b[1;33m\u001b[0m\u001b[0m\n\u001b[0m\u001b[0;32m     17\u001b[0m \u001b[1;33m\u001b[0m\u001b[0m\n\u001b[0;32m     18\u001b[0m \u001b[0mlog\u001b[0m\u001b[1;33m.\u001b[0m\u001b[0minfo\u001b[0m\u001b[1;33m(\u001b[0m\u001b[1;34m\"Training done!\"\u001b[0m\u001b[1;33m)\u001b[0m\u001b[1;33m\u001b[0m\u001b[1;33m\u001b[0m\u001b[0m\n",
      "\u001b[1;32mc:\\Users\\email\\Documents\\LMU\\4_Semester\\ASP\\Project\\AlphaWorm\\dev\\trainer\\td3_trainer.py\u001b[0m in \u001b[0;36mtrain\u001b[1;34m(self, env, render, name)\u001b[0m\n\u001b[0;32m    153\u001b[0m \u001b[1;33m\u001b[0m\u001b[0m\n\u001b[0;32m    154\u001b[0m                 \u001b[0mstate\u001b[0m \u001b[1;33m=\u001b[0m \u001b[0mnext_state\u001b[0m\u001b[1;33m\u001b[0m\u001b[1;33m\u001b[0m\u001b[0m\n\u001b[1;32m--> 155\u001b[1;33m                 \u001b[0mepisode_reward\u001b[0m \u001b[1;33m+=\u001b[0m \u001b[0mreward\u001b[0m\u001b[1;33m\u001b[0m\u001b[1;33m\u001b[0m\u001b[0m\n\u001b[0m\u001b[0;32m    156\u001b[0m \u001b[1;33m\u001b[0m\u001b[0m\n\u001b[0;32m    157\u001b[0m             \u001b[1;31m# Reset environment\u001b[0m\u001b[1;33m\u001b[0m\u001b[1;33m\u001b[0m\u001b[1;33m\u001b[0m\u001b[0m\n",
      "\u001b[1;31mKeyboardInterrupt\u001b[0m: "
     ]
    }
   ],
   "source": [
    "from config.config import log\n",
    "\n",
    "env = \"envs/worm_dynamic_one_agent/win/UnityEnvironment\"\n",
    "# env = \"./envs/worm_dynamic_one_agent/linux/worm_dynamic\"\n",
    "env = get_env(env, False)\n",
    "\n",
    "trainer = TD3Trainer()\n",
    "\n",
    "log.info(\"Start TD3 training (WormDomain)...\")\n",
    "\n",
    "trainer.config[\"episodes\"] = 5\n",
    "trainer.config[\"training_steps\"] = 10\n",
    "trainer.config[\"training_episodes\"] = 2\n",
    "trainer.config[\"batch_size\"] = 2\n",
    "trainer.config[\"evaluation_lim\"] = 5\n",
    "trainer.train(env, name=\"TEST-TD3-WormDomain\")\n",
    "\n",
    "log.info(\"Training done!\")"
   ]
  },
  {
   "cell_type": "code",
   "execution_count": 3,
   "metadata": {
    "tags": []
   },
   "outputs": [
    {
     "output_type": "stream",
     "name": "stderr",
     "text": "07.07.2020 09:36:01 INFO: Connected to Unity environment with package version 1.0.2-preview and communication version 1.0.0\n07.07.2020 09:36:01 INFO: Connected new brain:\nWormDynamic?team=0\n07.07.2020 09:36:01 INFO: Start DDPG training (WormDomain)...\n07.07.2020 09:36:01 INFO: Start episodes (3) with 10 steps.\n07.07.2020 09:36:01 INFO: Parameter:\n07.07.2020 09:36:01 INFO: {'n_layers': 2, 'n_units_l0': 128, 'n_units_l1': 128, 'actor_lr': 0.001, 'critic_lr': 0.001, 'gamma': 0.999, 'tau': 0.0001, 'episodes': 3, 'training_steps': 10, 'batch_size': 3, 'explore_threshold': 0.5, 'evaluation_steps': 10, 'evaluation_lim': 10}\n07.07.2020 09:36:02 INFO: Episode-Step: 0/3\n07.07.2020 09:36:02 INFO: Trainings-Step: 0/10 (Explore)\n07.07.2020 09:36:02 INFO: (9,)\n07.07.2020 09:36:02 INFO: (1, 9)\n07.07.2020 09:36:02 INFO: Trainings-Step: 1/10 (Explore)\n07.07.2020 09:36:02 INFO: (9,)\n07.07.2020 09:36:02 INFO: (1, 9)\n07.07.2020 09:36:02 INFO: Trainings-Step: 2/10 (Explore)\n07.07.2020 09:36:02 INFO: (9,)\n07.07.2020 09:36:02 INFO: (1, 9)\n07.07.2020 09:36:02 INFO: Trainings-Step: 3/10 (Explore)\n07.07.2020 09:36:02 INFO: (9,)\n07.07.2020 09:36:02 INFO: (1, 9)\n07.07.2020 09:36:02 INFO: Trainings-Step: 4/10 (Explore)\n07.07.2020 09:36:02 INFO: (9,)\n07.07.2020 09:36:02 INFO: (1, 9)\n07.07.2020 09:36:02 INFO: Trainings-Step: 5/10 (Explore)\n07.07.2020 09:36:02 INFO: (9,)\n07.07.2020 09:36:02 INFO: (1, 9)\n07.07.2020 09:36:02 INFO: Trainings-Step: 6/10 (Explore)\n07.07.2020 09:36:02 INFO: (9,)\n07.07.2020 09:36:02 INFO: (1, 9)\n07.07.2020 09:36:02 INFO: Trainings-Step: 7/10 (Explore)\n07.07.2020 09:36:02 INFO: (9,)\n07.07.2020 09:36:02 INFO: (1, 9)\n07.07.2020 09:36:02 INFO: Trainings-Step: 8/10 (Explore)\n07.07.2020 09:36:02 INFO: (9,)\n07.07.2020 09:36:02 INFO: (1, 9)\n07.07.2020 09:36:02 INFO: Trainings-Step: 9/10 (Explore)\n07.07.2020 09:36:02 INFO: (9,)\n07.07.2020 09:36:02 INFO: (1, 9)\n07.07.2020 09:36:02 INFO: action torch.Size([3, 1, 9])\n07.07.2020 09:36:02 INFO: state torch.Size([3, 57])\n"
    },
    {
     "output_type": "error",
     "ename": "RuntimeError",
     "evalue": "Tensors must have same number of dimensions: got 2 and 3",
     "traceback": [
      "\u001b[1;31m---------------------------------------------------------------------------\u001b[0m",
      "\u001b[1;31mRuntimeError\u001b[0m                              Traceback (most recent call last)",
      "\u001b[1;32m<ipython-input-3-a794821719ae>\u001b[0m in \u001b[0;36m<module>\u001b[1;34m\u001b[0m\n\u001b[0;32m     13\u001b[0m \u001b[0mtrainer\u001b[0m\u001b[1;33m.\u001b[0m\u001b[0mconfig\u001b[0m\u001b[1;33m[\u001b[0m\u001b[1;34m\"evaluation_lim\"\u001b[0m\u001b[1;33m]\u001b[0m \u001b[1;33m=\u001b[0m \u001b[1;36m10\u001b[0m\u001b[1;33m\u001b[0m\u001b[1;33m\u001b[0m\u001b[0m\n\u001b[0;32m     14\u001b[0m \u001b[0mtrainer\u001b[0m\u001b[1;33m.\u001b[0m\u001b[0mconfig\u001b[0m\u001b[1;33m[\u001b[0m\u001b[1;34m\"batch_size\"\u001b[0m\u001b[1;33m]\u001b[0m \u001b[1;33m=\u001b[0m \u001b[1;36m3\u001b[0m\u001b[1;33m\u001b[0m\u001b[1;33m\u001b[0m\u001b[0m\n\u001b[1;32m---> 15\u001b[1;33m \u001b[0mtrainer\u001b[0m\u001b[1;33m.\u001b[0m\u001b[0mtrain\u001b[0m\u001b[1;33m(\u001b[0m\u001b[0menv\u001b[0m\u001b[1;33m,\u001b[0m \u001b[0mname\u001b[0m\u001b[1;33m=\u001b[0m\u001b[1;34m\"TEST-DPPG-WormDomain\"\u001b[0m\u001b[1;33m)\u001b[0m\u001b[1;33m\u001b[0m\u001b[1;33m\u001b[0m\u001b[0m\n\u001b[0m\u001b[0;32m     16\u001b[0m \u001b[1;33m\u001b[0m\u001b[0m\n\u001b[0;32m     17\u001b[0m \u001b[0mlog\u001b[0m\u001b[1;33m.\u001b[0m\u001b[0minfo\u001b[0m\u001b[1;33m(\u001b[0m\u001b[1;34m\"Training done!\"\u001b[0m\u001b[1;33m)\u001b[0m\u001b[1;33m\u001b[0m\u001b[1;33m\u001b[0m\u001b[0m\n",
      "\u001b[1;32mc:\\Users\\email\\Documents\\LMU\\4_Semester\\ASP\\Project\\AlphaWorm\\dev\\trainer\\ddpg_trainer.py\u001b[0m in \u001b[0;36mtrain\u001b[1;34m(self, env, render, name)\u001b[0m\n\u001b[0;32m    340\u001b[0m                 \u001b[1;31m# Update neural nets #\u001b[0m\u001b[1;33m\u001b[0m\u001b[1;33m\u001b[0m\u001b[1;33m\u001b[0m\u001b[0m\n\u001b[0;32m    341\u001b[0m                 \u001b[1;31m######################\u001b[0m\u001b[1;33m\u001b[0m\u001b[1;33m\u001b[0m\u001b[1;33m\u001b[0m\u001b[0m\n\u001b[1;32m--> 342\u001b[1;33m                 \u001b[0mself\u001b[0m\u001b[1;33m.\u001b[0m\u001b[0mddpg_agent\u001b[0m\u001b[1;33m.\u001b[0m\u001b[0mupdate\u001b[0m\u001b[1;33m(\u001b[0m\u001b[0mbatch_size\u001b[0m\u001b[1;33m)\u001b[0m\u001b[1;33m\u001b[0m\u001b[1;33m\u001b[0m\u001b[0m\n\u001b[0m\u001b[0;32m    343\u001b[0m \u001b[1;33m\u001b[0m\u001b[0m\n\u001b[0;32m    344\u001b[0m             \u001b[1;31m########################\u001b[0m\u001b[1;33m\u001b[0m\u001b[1;33m\u001b[0m\u001b[1;33m\u001b[0m\u001b[0m\n",
      "\u001b[1;32mc:\\Users\\email\\Documents\\LMU\\4_Semester\\ASP\\Project\\AlphaWorm\\dev\\agents\\ddpg\\ddpg.py\u001b[0m in \u001b[0;36mupdate\u001b[1;34m(self, batch_size, tau)\u001b[0m\n\u001b[0;32m    137\u001b[0m         \u001b[1;31m# Calculate the critic loss (\"feedback\")\u001b[0m\u001b[1;33m\u001b[0m\u001b[1;33m\u001b[0m\u001b[1;33m\u001b[0m\u001b[0m\n\u001b[0;32m    138\u001b[0m         \u001b[1;31m# Old q value -> next action -> next q value -> loss\u001b[0m\u001b[1;33m\u001b[0m\u001b[1;33m\u001b[0m\u001b[1;33m\u001b[0m\u001b[0m\n\u001b[1;32m--> 139\u001b[1;33m         \u001b[0mq_values\u001b[0m \u001b[1;33m=\u001b[0m \u001b[0mself\u001b[0m\u001b[1;33m.\u001b[0m\u001b[0mcritic\u001b[0m\u001b[1;33m(\u001b[0m\u001b[0ms\u001b[0m\u001b[1;33m,\u001b[0m \u001b[0ma\u001b[0m\u001b[1;33m)\u001b[0m\u001b[1;33m\u001b[0m\u001b[1;33m\u001b[0m\u001b[0m\n\u001b[0m\u001b[0;32m    140\u001b[0m         \u001b[1;31m# next_action = self.actor_target(next_s).detach()\u001b[0m\u001b[1;33m\u001b[0m\u001b[1;33m\u001b[0m\u001b[1;33m\u001b[0m\u001b[0m\n\u001b[0;32m    141\u001b[0m         \u001b[0mnext_q\u001b[0m \u001b[1;33m=\u001b[0m \u001b[0mself\u001b[0m\u001b[1;33m.\u001b[0m\u001b[0mcritic_target\u001b[0m\u001b[1;33m(\u001b[0m\u001b[0mnext_s\u001b[0m\u001b[1;33m,\u001b[0m \u001b[0mnext_action\u001b[0m\u001b[1;33m)\u001b[0m  \u001b[1;31m# unsqueeze(2)\u001b[0m\u001b[1;33m\u001b[0m\u001b[1;33m\u001b[0m\u001b[0m\n",
      "\u001b[1;32m~\\.conda\\envs\\asp\\lib\\site-packages\\torch\\nn\\modules\\module.py\u001b[0m in \u001b[0;36m__call__\u001b[1;34m(self, *input, **kwargs)\u001b[0m\n\u001b[0;32m    548\u001b[0m             \u001b[0mresult\u001b[0m \u001b[1;33m=\u001b[0m \u001b[0mself\u001b[0m\u001b[1;33m.\u001b[0m\u001b[0m_slow_forward\u001b[0m\u001b[1;33m(\u001b[0m\u001b[1;33m*\u001b[0m\u001b[0minput\u001b[0m\u001b[1;33m,\u001b[0m \u001b[1;33m**\u001b[0m\u001b[0mkwargs\u001b[0m\u001b[1;33m)\u001b[0m\u001b[1;33m\u001b[0m\u001b[1;33m\u001b[0m\u001b[0m\n\u001b[0;32m    549\u001b[0m         \u001b[1;32melse\u001b[0m\u001b[1;33m:\u001b[0m\u001b[1;33m\u001b[0m\u001b[1;33m\u001b[0m\u001b[0m\n\u001b[1;32m--> 550\u001b[1;33m             \u001b[0mresult\u001b[0m \u001b[1;33m=\u001b[0m \u001b[0mself\u001b[0m\u001b[1;33m.\u001b[0m\u001b[0mforward\u001b[0m\u001b[1;33m(\u001b[0m\u001b[1;33m*\u001b[0m\u001b[0minput\u001b[0m\u001b[1;33m,\u001b[0m \u001b[1;33m**\u001b[0m\u001b[0mkwargs\u001b[0m\u001b[1;33m)\u001b[0m\u001b[1;33m\u001b[0m\u001b[1;33m\u001b[0m\u001b[0m\n\u001b[0m\u001b[0;32m    551\u001b[0m         \u001b[1;32mfor\u001b[0m \u001b[0mhook\u001b[0m \u001b[1;32min\u001b[0m \u001b[0mself\u001b[0m\u001b[1;33m.\u001b[0m\u001b[0m_forward_hooks\u001b[0m\u001b[1;33m.\u001b[0m\u001b[0mvalues\u001b[0m\u001b[1;33m(\u001b[0m\u001b[1;33m)\u001b[0m\u001b[1;33m:\u001b[0m\u001b[1;33m\u001b[0m\u001b[1;33m\u001b[0m\u001b[0m\n\u001b[0;32m    552\u001b[0m             \u001b[0mhook_result\u001b[0m \u001b[1;33m=\u001b[0m \u001b[0mhook\u001b[0m\u001b[1;33m(\u001b[0m\u001b[0mself\u001b[0m\u001b[1;33m,\u001b[0m \u001b[0minput\u001b[0m\u001b[1;33m,\u001b[0m \u001b[0mresult\u001b[0m\u001b[1;33m)\u001b[0m\u001b[1;33m\u001b[0m\u001b[1;33m\u001b[0m\u001b[0m\n",
      "\u001b[1;32mc:\\Users\\email\\Documents\\LMU\\4_Semester\\ASP\\Project\\AlphaWorm\\dev\\agents\\ddpg\\critic.py\u001b[0m in \u001b[0;36mforward\u001b[1;34m(self, state, action)\u001b[0m\n\u001b[0;32m     67\u001b[0m \u001b[1;33m\u001b[0m\u001b[0m\n\u001b[0;32m     68\u001b[0m         \u001b[1;31m# x = torch.cat([state, action.squeeze(1)], 1)\u001b[0m\u001b[1;33m\u001b[0m\u001b[1;33m\u001b[0m\u001b[1;33m\u001b[0m\u001b[0m\n\u001b[1;32m---> 69\u001b[1;33m         \u001b[0mx\u001b[0m \u001b[1;33m=\u001b[0m \u001b[0mtorch\u001b[0m\u001b[1;33m.\u001b[0m\u001b[0mcat\u001b[0m\u001b[1;33m(\u001b[0m\u001b[1;33m[\u001b[0m\u001b[0mstate\u001b[0m\u001b[1;33m,\u001b[0m \u001b[0maction\u001b[0m\u001b[1;33m]\u001b[0m\u001b[1;33m,\u001b[0m \u001b[1;36m1\u001b[0m\u001b[1;33m)\u001b[0m\u001b[1;33m\u001b[0m\u001b[1;33m\u001b[0m\u001b[0m\n\u001b[0m\u001b[0;32m     70\u001b[0m \u001b[1;33m\u001b[0m\u001b[0m\n\u001b[0;32m     71\u001b[0m \u001b[1;33m\u001b[0m\u001b[0m\n",
      "\u001b[1;31mRuntimeError\u001b[0m: Tensors must have same number of dimensions: got 2 and 3"
     ]
    }
   ],
   "source": [
    "from config.config import log\n",
    "\n",
    "env = \"envs/worm_dynamic_one_agent/win/UnityEnvironment\"\n",
    "# env = \"./envs/worm_dynamic_one_agent/linux/worm_dynamic\"\n",
    "env = get_env(env, False)\n",
    "\n",
    "trainer = DDPGTrainer()\n",
    "\n",
    "log.info(\"Start DDPG training (WormDomain)...\")\n",
    "\n",
    "trainer.config[\"episodes\"] = 3\n",
    "trainer.config[\"training_steps\"] = 10\n",
    "trainer.config[\"evaluation_lim\"] = 10\n",
    "trainer.config[\"batch_size\"] = 3\n",
    "trainer.train(env, name=\"TEST-DPPG-WormDomain\")\n",
    "\n",
    "log.info(\"Training done!\")"
   ]
  },
  {
   "cell_type": "code",
   "execution_count": 1,
   "metadata": {
    "tags": []
   },
   "outputs": [
    {
     "output_type": "error",
     "ename": "NameError",
     "evalue": "name 'env' is not defined",
     "traceback": [
      "\u001b[1;31m---------------------------------------------------------------------------\u001b[0m",
      "\u001b[1;31mNameError\u001b[0m                                 Traceback (most recent call last)",
      "\u001b[1;32m<ipython-input-1-1baceacf4cb1>\u001b[0m in \u001b[0;36m<module>\u001b[1;34m\u001b[0m\n\u001b[1;32m----> 1\u001b[1;33m \u001b[0menv\u001b[0m\u001b[1;33m.\u001b[0m\u001b[0mclose\u001b[0m\u001b[1;33m(\u001b[0m\u001b[1;33m)\u001b[0m\u001b[1;33m\u001b[0m\u001b[1;33m\u001b[0m\u001b[0m\n\u001b[0m",
      "\u001b[1;31mNameError\u001b[0m: name 'env' is not defined"
     ]
    }
   ],
   "source": [
    "env.close()"
   ]
  },
  {
   "cell_type": "code",
   "execution_count": 2,
   "metadata": {
    "tags": []
   },
   "outputs": [
    {
     "output_type": "stream",
     "name": "stderr",
     "text": "27.06.2020 00:04:13 INFO: Connected to Unity environment with package version 1.0.2-preview and communication version 1.0.0\n27.06.2020 00:04:14 INFO: Connected new brain:\nWormDynamic?team=0\n27.06.2020 00:04:14 INFO: Optuna set up - trials: 2, name: WormDomain-5_Default\n27.06.2020 00:04:14 INFO: Start optimization!\n27.06.2020 00:04:14 INFO: Start trial#0\n27.06.2020 00:04:14 INFO: Start episodes (2) with 400 steps.\n27.06.2020 00:04:14 INFO: Trainings-Step: 0/400\n27.06.2020 00:04:21 INFO: Trainings-Step: 100/400\n27.06.2020 00:04:27 INFO: Trainings-Step: 200/400\n27.06.2020 00:04:34 INFO: Trainings-Step: 300/400\n27.06.2020 00:04:41 INFO: Trainings-Step: 0/400\n27.06.2020 00:04:47 INFO: Trainings-Step: 100/400\n27.06.2020 00:04:54 INFO: Trainings-Step: 200/400\n27.06.2020 00:05:01 INFO: Trainings-Step: 300/400\n27.06.2020 00:05:07 INFO: End episode!\n27.06.2020 00:05:07 INFO: Initial agent stored at models/2020-06-27/WormDomain-5_Default/best_agent/WormDomain-5_Default_best_agent.pickle\n27.06.2020 00:05:07 INFO: End trial#0\n[I 2020-06-27 00:05:07,898] Finished trial#0 with value: -1.9032108690880705 with parameters: {'n_layers': 1, 'n_units_l0': 93, 'actor_lr': 0.0062985797968160145, 'critic_lr': 0.0030154630538171095, 'gamma': 0.699454271018615, 'tau': 0.0019303039360881794, 'training_steps': 1014, 'explore_threshold': 0.4176992787053211, 'batch_size': 165}. Best is trial#0 with value: -1.9032108690880705.\n27.06.2020 00:05:07 INFO: Start trial#1\n27.06.2020 00:05:07 INFO: Start episodes (2) with 400 steps.\n27.06.2020 00:05:07 INFO: Trainings-Step: 0/400\n27.06.2020 00:05:14 INFO: Trainings-Step: 100/400\n27.06.2020 00:05:21 INFO: Trainings-Step: 200/400\n27.06.2020 00:05:27 INFO: Trainings-Step: 300/400\n27.06.2020 00:05:34 INFO: Trainings-Step: 0/400\n27.06.2020 00:05:41 INFO: Trainings-Step: 100/400\n27.06.2020 00:05:47 INFO: Trainings-Step: 200/400\n27.06.2020 00:05:54 INFO: Trainings-Step: 300/400\n27.06.2020 00:06:01 INFO: End episode!\n27.06.2020 00:06:01 INFO: Best agent stored at models/2020-06-27/WormDomain-5_Default/best_agent/WormDomain-5_Default_best_agent.pickle\n27.06.2020 00:06:01 INFO: End trial#1\n[I 2020-06-27 00:06:01,286] Finished trial#1 with value: 3.0170233083190396 with parameters: {'n_layers': 1, 'n_units_l0': 77, 'actor_lr': 0.005795502378129201, 'critic_lr': 0.002903567068410804, 'gamma': 0.9959423608934536, 'tau': 0.024632564901480483, 'training_steps': 1456, 'explore_threshold': 0.24197565910894958, 'batch_size': 191}. Best is trial#1 with value: 3.0170233083190396.\n27.06.2020 00:06:01 INFO: Optimization done.\n27.06.2020 00:06:01 INFO: Study stored. (models/2020-06-27/WormDomain-5_Default/WormDomain-5_Default_study.pickle)\n27.06.2020 00:06:01 INFO: Environment shut down with return code 0 (CTRL_C_EVENT).\n"
    }
   ],
   "source": [
    "win_env = \"envs/worm_dynamic_one_agent/win/UnityEnvironment\"\n",
    "env = get_env(win_env, True)\n",
    "\n",
    "trainer = DDPGTrainer()\n",
    "\n",
    "study = trainer.start_training(env, trials=2, render=False, name=\"WormDomain-5_Default\", default=True)"
   ]
  },
  {
   "cell_type": "code",
   "execution_count": 3,
   "metadata": {
    "tags": []
   },
   "outputs": [
    {
     "output_type": "execute_result",
     "data": {
      "text/plain": "<matplotlib.axes._subplots.AxesSubplot at 0x292baf66708>"
     },
     "metadata": {},
     "execution_count": 3
    },
    {
     "output_type": "display_data",
     "data": {
      "text/plain": "<Figure size 432x288 with 1 Axes>",
      "image/svg+xml": "<?xml version=\"1.0\" encoding=\"utf-8\" standalone=\"no\"?>\r\n<!DOCTYPE svg PUBLIC \"-//W3C//DTD SVG 1.1//EN\"\r\n  \"http://www.w3.org/Graphics/SVG/1.1/DTD/svg11.dtd\">\r\n<!-- Created with matplotlib (https://matplotlib.org/) -->\r\n<svg height=\"248.518125pt\" version=\"1.1\" viewBox=\"0 0 370.942187 248.518125\" width=\"370.942187pt\" xmlns=\"http://www.w3.org/2000/svg\" xmlns:xlink=\"http://www.w3.org/1999/xlink\">\r\n <defs>\r\n  <style type=\"text/css\">\r\n*{stroke-linecap:butt;stroke-linejoin:round;}\r\n  </style>\r\n </defs>\r\n <g id=\"figure_1\">\r\n  <g id=\"patch_1\">\r\n   <path d=\"M 0 248.518125 \r\nL 370.942187 248.518125 \r\nL 370.942187 0 \r\nL 0 0 \r\nz\r\n\" style=\"fill:none;\"/>\r\n  </g>\r\n  <g id=\"axes_1\">\r\n   <g id=\"patch_2\">\r\n    <path d=\"M 28.942188 224.64 \r\nL 363.742188 224.64 \r\nL 363.742188 7.2 \r\nL 28.942188 7.2 \r\nz\r\n\" style=\"fill:#ffffff;\"/>\r\n   </g>\r\n   <g id=\"matplotlib.axis_1\">\r\n    <g id=\"xtick_1\">\r\n     <g id=\"line2d_1\">\r\n      <defs>\r\n       <path d=\"M 0 0 \r\nL 0 3.5 \r\n\" id=\"mb723593666\" style=\"stroke:#000000;stroke-width:0.8;\"/>\r\n      </defs>\r\n      <g>\r\n       <use style=\"stroke:#000000;stroke-width:0.8;\" x=\"44.160369\" xlink:href=\"#mb723593666\" y=\"224.64\"/>\r\n      </g>\r\n     </g>\r\n     <g id=\"text_1\">\r\n      <!-- 0 -->\r\n      <defs>\r\n       <path d=\"M 31.78125 66.40625 \r\nQ 24.171875 66.40625 20.328125 58.90625 \r\nQ 16.5 51.421875 16.5 36.375 \r\nQ 16.5 21.390625 20.328125 13.890625 \r\nQ 24.171875 6.390625 31.78125 6.390625 \r\nQ 39.453125 6.390625 43.28125 13.890625 \r\nQ 47.125 21.390625 47.125 36.375 \r\nQ 47.125 51.421875 43.28125 58.90625 \r\nQ 39.453125 66.40625 31.78125 66.40625 \r\nz\r\nM 31.78125 74.21875 \r\nQ 44.046875 74.21875 50.515625 64.515625 \r\nQ 56.984375 54.828125 56.984375 36.375 \r\nQ 56.984375 17.96875 50.515625 8.265625 \r\nQ 44.046875 -1.421875 31.78125 -1.421875 \r\nQ 19.53125 -1.421875 13.0625 8.265625 \r\nQ 6.59375 17.96875 6.59375 36.375 \r\nQ 6.59375 54.828125 13.0625 64.515625 \r\nQ 19.53125 74.21875 31.78125 74.21875 \r\nz\r\n\" id=\"DejaVuSans-48\"/>\r\n      </defs>\r\n      <g transform=\"translate(40.979119 239.238437)scale(0.1 -0.1)\">\r\n       <use xlink:href=\"#DejaVuSans-48\"/>\r\n      </g>\r\n     </g>\r\n    </g>\r\n    <g id=\"xtick_2\">\r\n     <g id=\"line2d_2\">\r\n      <g>\r\n       <use style=\"stroke:#000000;stroke-width:0.8;\" x=\"82.301176\" xlink:href=\"#mb723593666\" y=\"224.64\"/>\r\n      </g>\r\n     </g>\r\n     <g id=\"text_2\">\r\n      <!-- 50 -->\r\n      <defs>\r\n       <path d=\"M 10.796875 72.90625 \r\nL 49.515625 72.90625 \r\nL 49.515625 64.59375 \r\nL 19.828125 64.59375 \r\nL 19.828125 46.734375 \r\nQ 21.96875 47.46875 24.109375 47.828125 \r\nQ 26.265625 48.1875 28.421875 48.1875 \r\nQ 40.625 48.1875 47.75 41.5 \r\nQ 54.890625 34.8125 54.890625 23.390625 \r\nQ 54.890625 11.625 47.5625 5.09375 \r\nQ 40.234375 -1.421875 26.90625 -1.421875 \r\nQ 22.3125 -1.421875 17.546875 -0.640625 \r\nQ 12.796875 0.140625 7.71875 1.703125 \r\nL 7.71875 11.625 \r\nQ 12.109375 9.234375 16.796875 8.0625 \r\nQ 21.484375 6.890625 26.703125 6.890625 \r\nQ 35.15625 6.890625 40.078125 11.328125 \r\nQ 45.015625 15.765625 45.015625 23.390625 \r\nQ 45.015625 31 40.078125 35.4375 \r\nQ 35.15625 39.890625 26.703125 39.890625 \r\nQ 22.75 39.890625 18.8125 39.015625 \r\nQ 14.890625 38.140625 10.796875 36.28125 \r\nz\r\n\" id=\"DejaVuSans-53\"/>\r\n      </defs>\r\n      <g transform=\"translate(75.938676 239.238437)scale(0.1 -0.1)\">\r\n       <use xlink:href=\"#DejaVuSans-53\"/>\r\n       <use x=\"63.623047\" xlink:href=\"#DejaVuSans-48\"/>\r\n      </g>\r\n     </g>\r\n    </g>\r\n    <g id=\"xtick_3\">\r\n     <g id=\"line2d_3\">\r\n      <g>\r\n       <use style=\"stroke:#000000;stroke-width:0.8;\" x=\"120.441982\" xlink:href=\"#mb723593666\" y=\"224.64\"/>\r\n      </g>\r\n     </g>\r\n     <g id=\"text_3\">\r\n      <!-- 100 -->\r\n      <defs>\r\n       <path d=\"M 12.40625 8.296875 \r\nL 28.515625 8.296875 \r\nL 28.515625 63.921875 \r\nL 10.984375 60.40625 \r\nL 10.984375 69.390625 \r\nL 28.421875 72.90625 \r\nL 38.28125 72.90625 \r\nL 38.28125 8.296875 \r\nL 54.390625 8.296875 \r\nL 54.390625 0 \r\nL 12.40625 0 \r\nz\r\n\" id=\"DejaVuSans-49\"/>\r\n      </defs>\r\n      <g transform=\"translate(110.898232 239.238437)scale(0.1 -0.1)\">\r\n       <use xlink:href=\"#DejaVuSans-49\"/>\r\n       <use x=\"63.623047\" xlink:href=\"#DejaVuSans-48\"/>\r\n       <use x=\"127.246094\" xlink:href=\"#DejaVuSans-48\"/>\r\n      </g>\r\n     </g>\r\n    </g>\r\n    <g id=\"xtick_4\">\r\n     <g id=\"line2d_4\">\r\n      <g>\r\n       <use style=\"stroke:#000000;stroke-width:0.8;\" x=\"158.582789\" xlink:href=\"#mb723593666\" y=\"224.64\"/>\r\n      </g>\r\n     </g>\r\n     <g id=\"text_4\">\r\n      <!-- 150 -->\r\n      <g transform=\"translate(149.039039 239.238437)scale(0.1 -0.1)\">\r\n       <use xlink:href=\"#DejaVuSans-49\"/>\r\n       <use x=\"63.623047\" xlink:href=\"#DejaVuSans-53\"/>\r\n       <use x=\"127.246094\" xlink:href=\"#DejaVuSans-48\"/>\r\n      </g>\r\n     </g>\r\n    </g>\r\n    <g id=\"xtick_5\">\r\n     <g id=\"line2d_5\">\r\n      <g>\r\n       <use style=\"stroke:#000000;stroke-width:0.8;\" x=\"196.723596\" xlink:href=\"#mb723593666\" y=\"224.64\"/>\r\n      </g>\r\n     </g>\r\n     <g id=\"text_5\">\r\n      <!-- 200 -->\r\n      <defs>\r\n       <path d=\"M 19.1875 8.296875 \r\nL 53.609375 8.296875 \r\nL 53.609375 0 \r\nL 7.328125 0 \r\nL 7.328125 8.296875 \r\nQ 12.9375 14.109375 22.625 23.890625 \r\nQ 32.328125 33.6875 34.8125 36.53125 \r\nQ 39.546875 41.84375 41.421875 45.53125 \r\nQ 43.3125 49.21875 43.3125 52.78125 \r\nQ 43.3125 58.59375 39.234375 62.25 \r\nQ 35.15625 65.921875 28.609375 65.921875 \r\nQ 23.96875 65.921875 18.8125 64.3125 \r\nQ 13.671875 62.703125 7.8125 59.421875 \r\nL 7.8125 69.390625 \r\nQ 13.765625 71.78125 18.9375 73 \r\nQ 24.125 74.21875 28.421875 74.21875 \r\nQ 39.75 74.21875 46.484375 68.546875 \r\nQ 53.21875 62.890625 53.21875 53.421875 \r\nQ 53.21875 48.921875 51.53125 44.890625 \r\nQ 49.859375 40.875 45.40625 35.40625 \r\nQ 44.1875 33.984375 37.640625 27.21875 \r\nQ 31.109375 20.453125 19.1875 8.296875 \r\nz\r\n\" id=\"DejaVuSans-50\"/>\r\n      </defs>\r\n      <g transform=\"translate(187.179846 239.238437)scale(0.1 -0.1)\">\r\n       <use xlink:href=\"#DejaVuSans-50\"/>\r\n       <use x=\"63.623047\" xlink:href=\"#DejaVuSans-48\"/>\r\n       <use x=\"127.246094\" xlink:href=\"#DejaVuSans-48\"/>\r\n      </g>\r\n     </g>\r\n    </g>\r\n    <g id=\"xtick_6\">\r\n     <g id=\"line2d_6\">\r\n      <g>\r\n       <use style=\"stroke:#000000;stroke-width:0.8;\" x=\"234.864402\" xlink:href=\"#mb723593666\" y=\"224.64\"/>\r\n      </g>\r\n     </g>\r\n     <g id=\"text_6\">\r\n      <!-- 250 -->\r\n      <g transform=\"translate(225.320652 239.238437)scale(0.1 -0.1)\">\r\n       <use xlink:href=\"#DejaVuSans-50\"/>\r\n       <use x=\"63.623047\" xlink:href=\"#DejaVuSans-53\"/>\r\n       <use x=\"127.246094\" xlink:href=\"#DejaVuSans-48\"/>\r\n      </g>\r\n     </g>\r\n    </g>\r\n    <g id=\"xtick_7\">\r\n     <g id=\"line2d_7\">\r\n      <g>\r\n       <use style=\"stroke:#000000;stroke-width:0.8;\" x=\"273.005209\" xlink:href=\"#mb723593666\" y=\"224.64\"/>\r\n      </g>\r\n     </g>\r\n     <g id=\"text_7\">\r\n      <!-- 300 -->\r\n      <defs>\r\n       <path d=\"M 40.578125 39.3125 \r\nQ 47.65625 37.796875 51.625 33 \r\nQ 55.609375 28.21875 55.609375 21.1875 \r\nQ 55.609375 10.40625 48.1875 4.484375 \r\nQ 40.765625 -1.421875 27.09375 -1.421875 \r\nQ 22.515625 -1.421875 17.65625 -0.515625 \r\nQ 12.796875 0.390625 7.625 2.203125 \r\nL 7.625 11.71875 \r\nQ 11.71875 9.328125 16.59375 8.109375 \r\nQ 21.484375 6.890625 26.8125 6.890625 \r\nQ 36.078125 6.890625 40.9375 10.546875 \r\nQ 45.796875 14.203125 45.796875 21.1875 \r\nQ 45.796875 27.640625 41.28125 31.265625 \r\nQ 36.765625 34.90625 28.71875 34.90625 \r\nL 20.21875 34.90625 \r\nL 20.21875 43.015625 \r\nL 29.109375 43.015625 \r\nQ 36.375 43.015625 40.234375 45.921875 \r\nQ 44.09375 48.828125 44.09375 54.296875 \r\nQ 44.09375 59.90625 40.109375 62.90625 \r\nQ 36.140625 65.921875 28.71875 65.921875 \r\nQ 24.65625 65.921875 20.015625 65.03125 \r\nQ 15.375 64.15625 9.8125 62.3125 \r\nL 9.8125 71.09375 \r\nQ 15.4375 72.65625 20.34375 73.4375 \r\nQ 25.25 74.21875 29.59375 74.21875 \r\nQ 40.828125 74.21875 47.359375 69.109375 \r\nQ 53.90625 64.015625 53.90625 55.328125 \r\nQ 53.90625 49.265625 50.4375 45.09375 \r\nQ 46.96875 40.921875 40.578125 39.3125 \r\nz\r\n\" id=\"DejaVuSans-51\"/>\r\n      </defs>\r\n      <g transform=\"translate(263.461459 239.238437)scale(0.1 -0.1)\">\r\n       <use xlink:href=\"#DejaVuSans-51\"/>\r\n       <use x=\"63.623047\" xlink:href=\"#DejaVuSans-48\"/>\r\n       <use x=\"127.246094\" xlink:href=\"#DejaVuSans-48\"/>\r\n      </g>\r\n     </g>\r\n    </g>\r\n    <g id=\"xtick_8\">\r\n     <g id=\"line2d_8\">\r\n      <g>\r\n       <use style=\"stroke:#000000;stroke-width:0.8;\" x=\"311.146015\" xlink:href=\"#mb723593666\" y=\"224.64\"/>\r\n      </g>\r\n     </g>\r\n     <g id=\"text_8\">\r\n      <!-- 350 -->\r\n      <g transform=\"translate(301.602265 239.238437)scale(0.1 -0.1)\">\r\n       <use xlink:href=\"#DejaVuSans-51\"/>\r\n       <use x=\"63.623047\" xlink:href=\"#DejaVuSans-53\"/>\r\n       <use x=\"127.246094\" xlink:href=\"#DejaVuSans-48\"/>\r\n      </g>\r\n     </g>\r\n    </g>\r\n    <g id=\"xtick_9\">\r\n     <g id=\"line2d_9\">\r\n      <g>\r\n       <use style=\"stroke:#000000;stroke-width:0.8;\" x=\"349.286822\" xlink:href=\"#mb723593666\" y=\"224.64\"/>\r\n      </g>\r\n     </g>\r\n     <g id=\"text_9\">\r\n      <!-- 400 -->\r\n      <defs>\r\n       <path d=\"M 37.796875 64.3125 \r\nL 12.890625 25.390625 \r\nL 37.796875 25.390625 \r\nz\r\nM 35.203125 72.90625 \r\nL 47.609375 72.90625 \r\nL 47.609375 25.390625 \r\nL 58.015625 25.390625 \r\nL 58.015625 17.1875 \r\nL 47.609375 17.1875 \r\nL 47.609375 0 \r\nL 37.796875 0 \r\nL 37.796875 17.1875 \r\nL 4.890625 17.1875 \r\nL 4.890625 26.703125 \r\nz\r\n\" id=\"DejaVuSans-52\"/>\r\n      </defs>\r\n      <g transform=\"translate(339.743072 239.238437)scale(0.1 -0.1)\">\r\n       <use xlink:href=\"#DejaVuSans-52\"/>\r\n       <use x=\"63.623047\" xlink:href=\"#DejaVuSans-48\"/>\r\n       <use x=\"127.246094\" xlink:href=\"#DejaVuSans-48\"/>\r\n      </g>\r\n     </g>\r\n    </g>\r\n   </g>\r\n   <g id=\"matplotlib.axis_2\">\r\n    <g id=\"ytick_1\">\r\n     <g id=\"line2d_10\">\r\n      <defs>\r\n       <path d=\"M 0 0 \r\nL -3.5 0 \r\n\" id=\"m69fe43613b\" style=\"stroke:#000000;stroke-width:0.8;\"/>\r\n      </defs>\r\n      <g>\r\n       <use style=\"stroke:#000000;stroke-width:0.8;\" x=\"28.942188\" xlink:href=\"#m69fe43613b\" y=\"206.356912\"/>\r\n      </g>\r\n     </g>\r\n     <g id=\"text_10\">\r\n      <!-- −8 -->\r\n      <defs>\r\n       <path d=\"M 10.59375 35.5 \r\nL 73.1875 35.5 \r\nL 73.1875 27.203125 \r\nL 10.59375 27.203125 \r\nz\r\n\" id=\"DejaVuSans-8722\"/>\r\n       <path d=\"M 31.78125 34.625 \r\nQ 24.75 34.625 20.71875 30.859375 \r\nQ 16.703125 27.09375 16.703125 20.515625 \r\nQ 16.703125 13.921875 20.71875 10.15625 \r\nQ 24.75 6.390625 31.78125 6.390625 \r\nQ 38.8125 6.390625 42.859375 10.171875 \r\nQ 46.921875 13.96875 46.921875 20.515625 \r\nQ 46.921875 27.09375 42.890625 30.859375 \r\nQ 38.875 34.625 31.78125 34.625 \r\nz\r\nM 21.921875 38.8125 \r\nQ 15.578125 40.375 12.03125 44.71875 \r\nQ 8.5 49.078125 8.5 55.328125 \r\nQ 8.5 64.0625 14.71875 69.140625 \r\nQ 20.953125 74.21875 31.78125 74.21875 \r\nQ 42.671875 74.21875 48.875 69.140625 \r\nQ 55.078125 64.0625 55.078125 55.328125 \r\nQ 55.078125 49.078125 51.53125 44.71875 \r\nQ 48 40.375 41.703125 38.8125 \r\nQ 48.828125 37.15625 52.796875 32.3125 \r\nQ 56.78125 27.484375 56.78125 20.515625 \r\nQ 56.78125 9.90625 50.3125 4.234375 \r\nQ 43.84375 -1.421875 31.78125 -1.421875 \r\nQ 19.734375 -1.421875 13.25 4.234375 \r\nQ 6.78125 9.90625 6.78125 20.515625 \r\nQ 6.78125 27.484375 10.78125 32.3125 \r\nQ 14.796875 37.15625 21.921875 38.8125 \r\nz\r\nM 18.3125 54.390625 \r\nQ 18.3125 48.734375 21.84375 45.5625 \r\nQ 25.390625 42.390625 31.78125 42.390625 \r\nQ 38.140625 42.390625 41.71875 45.5625 \r\nQ 45.3125 48.734375 45.3125 54.390625 \r\nQ 45.3125 60.0625 41.71875 63.234375 \r\nQ 38.140625 66.40625 31.78125 66.40625 \r\nQ 25.390625 66.40625 21.84375 63.234375 \r\nQ 18.3125 60.0625 18.3125 54.390625 \r\nz\r\n\" id=\"DejaVuSans-56\"/>\r\n      </defs>\r\n      <g transform=\"translate(7.2 210.156131)scale(0.1 -0.1)\">\r\n       <use xlink:href=\"#DejaVuSans-8722\"/>\r\n       <use x=\"83.789062\" xlink:href=\"#DejaVuSans-56\"/>\r\n      </g>\r\n     </g>\r\n    </g>\r\n    <g id=\"ytick_2\">\r\n     <g id=\"line2d_11\">\r\n      <g>\r\n       <use style=\"stroke:#000000;stroke-width:0.8;\" x=\"28.942188\" xlink:href=\"#m69fe43613b\" y=\"181.297937\"/>\r\n      </g>\r\n     </g>\r\n     <g id=\"text_11\">\r\n      <!-- −6 -->\r\n      <defs>\r\n       <path d=\"M 33.015625 40.375 \r\nQ 26.375 40.375 22.484375 35.828125 \r\nQ 18.609375 31.296875 18.609375 23.390625 \r\nQ 18.609375 15.53125 22.484375 10.953125 \r\nQ 26.375 6.390625 33.015625 6.390625 \r\nQ 39.65625 6.390625 43.53125 10.953125 \r\nQ 47.40625 15.53125 47.40625 23.390625 \r\nQ 47.40625 31.296875 43.53125 35.828125 \r\nQ 39.65625 40.375 33.015625 40.375 \r\nz\r\nM 52.59375 71.296875 \r\nL 52.59375 62.3125 \r\nQ 48.875 64.0625 45.09375 64.984375 \r\nQ 41.3125 65.921875 37.59375 65.921875 \r\nQ 27.828125 65.921875 22.671875 59.328125 \r\nQ 17.53125 52.734375 16.796875 39.40625 \r\nQ 19.671875 43.65625 24.015625 45.921875 \r\nQ 28.375 48.1875 33.59375 48.1875 \r\nQ 44.578125 48.1875 50.953125 41.515625 \r\nQ 57.328125 34.859375 57.328125 23.390625 \r\nQ 57.328125 12.15625 50.6875 5.359375 \r\nQ 44.046875 -1.421875 33.015625 -1.421875 \r\nQ 20.359375 -1.421875 13.671875 8.265625 \r\nQ 6.984375 17.96875 6.984375 36.375 \r\nQ 6.984375 53.65625 15.1875 63.9375 \r\nQ 23.390625 74.21875 37.203125 74.21875 \r\nQ 40.921875 74.21875 44.703125 73.484375 \r\nQ 48.484375 72.75 52.59375 71.296875 \r\nz\r\n\" id=\"DejaVuSans-54\"/>\r\n      </defs>\r\n      <g transform=\"translate(7.2 185.097156)scale(0.1 -0.1)\">\r\n       <use xlink:href=\"#DejaVuSans-8722\"/>\r\n       <use x=\"83.789062\" xlink:href=\"#DejaVuSans-54\"/>\r\n      </g>\r\n     </g>\r\n    </g>\r\n    <g id=\"ytick_3\">\r\n     <g id=\"line2d_12\">\r\n      <g>\r\n       <use style=\"stroke:#000000;stroke-width:0.8;\" x=\"28.942188\" xlink:href=\"#m69fe43613b\" y=\"156.238962\"/>\r\n      </g>\r\n     </g>\r\n     <g id=\"text_12\">\r\n      <!-- −4 -->\r\n      <g transform=\"translate(7.2 160.038181)scale(0.1 -0.1)\">\r\n       <use xlink:href=\"#DejaVuSans-8722\"/>\r\n       <use x=\"83.789062\" xlink:href=\"#DejaVuSans-52\"/>\r\n      </g>\r\n     </g>\r\n    </g>\r\n    <g id=\"ytick_4\">\r\n     <g id=\"line2d_13\">\r\n      <g>\r\n       <use style=\"stroke:#000000;stroke-width:0.8;\" x=\"28.942188\" xlink:href=\"#m69fe43613b\" y=\"131.179987\"/>\r\n      </g>\r\n     </g>\r\n     <g id=\"text_13\">\r\n      <!-- −2 -->\r\n      <g transform=\"translate(7.2 134.979206)scale(0.1 -0.1)\">\r\n       <use xlink:href=\"#DejaVuSans-8722\"/>\r\n       <use x=\"83.789062\" xlink:href=\"#DejaVuSans-50\"/>\r\n      </g>\r\n     </g>\r\n    </g>\r\n    <g id=\"ytick_5\">\r\n     <g id=\"line2d_14\">\r\n      <g>\r\n       <use style=\"stroke:#000000;stroke-width:0.8;\" x=\"28.942188\" xlink:href=\"#m69fe43613b\" y=\"106.121012\"/>\r\n      </g>\r\n     </g>\r\n     <g id=\"text_14\">\r\n      <!-- 0 -->\r\n      <g transform=\"translate(15.579688 109.920231)scale(0.1 -0.1)\">\r\n       <use xlink:href=\"#DejaVuSans-48\"/>\r\n      </g>\r\n     </g>\r\n    </g>\r\n    <g id=\"ytick_6\">\r\n     <g id=\"line2d_15\">\r\n      <g>\r\n       <use style=\"stroke:#000000;stroke-width:0.8;\" x=\"28.942188\" xlink:href=\"#m69fe43613b\" y=\"81.062037\"/>\r\n      </g>\r\n     </g>\r\n     <g id=\"text_15\">\r\n      <!-- 2 -->\r\n      <g transform=\"translate(15.579688 84.861256)scale(0.1 -0.1)\">\r\n       <use xlink:href=\"#DejaVuSans-50\"/>\r\n      </g>\r\n     </g>\r\n    </g>\r\n    <g id=\"ytick_7\">\r\n     <g id=\"line2d_16\">\r\n      <g>\r\n       <use style=\"stroke:#000000;stroke-width:0.8;\" x=\"28.942188\" xlink:href=\"#m69fe43613b\" y=\"56.003062\"/>\r\n      </g>\r\n     </g>\r\n     <g id=\"text_16\">\r\n      <!-- 4 -->\r\n      <g transform=\"translate(15.579688 59.802281)scale(0.1 -0.1)\">\r\n       <use xlink:href=\"#DejaVuSans-52\"/>\r\n      </g>\r\n     </g>\r\n    </g>\r\n    <g id=\"ytick_8\">\r\n     <g id=\"line2d_17\">\r\n      <g>\r\n       <use style=\"stroke:#000000;stroke-width:0.8;\" x=\"28.942188\" xlink:href=\"#m69fe43613b\" y=\"30.944087\"/>\r\n      </g>\r\n     </g>\r\n     <g id=\"text_17\">\r\n      <!-- 6 -->\r\n      <g transform=\"translate(15.579688 34.743306)scale(0.1 -0.1)\">\r\n       <use xlink:href=\"#DejaVuSans-54\"/>\r\n      </g>\r\n     </g>\r\n    </g>\r\n   </g>\r\n   <g id=\"line2d_18\">\r\n    <path clip-path=\"url(#pc98a65bbb1)\" d=\"M 44.160369 105.777413 \r\nL 44.923185 106.132033 \r\nL 45.686002 105.715679 \r\nL 46.448818 105.137147 \r\nL 47.211634 105.015682 \r\nL 47.97445 103.648001 \r\nL 48.737266 102.554495 \r\nL 49.500082 103.103627 \r\nL 50.262898 102.668506 \r\nL 51.025714 100.840671 \r\nL 51.788531 98.479943 \r\nL 52.551347 97.513184 \r\nL 53.314163 96.852713 \r\nL 54.076979 96.866183 \r\nL 54.839795 97.134956 \r\nL 55.602611 97.685694 \r\nL 57.128244 97.492832 \r\nL 57.89106 96.804589 \r\nL 58.653876 95.369478 \r\nL 59.416692 94.256917 \r\nL 60.179508 93.893913 \r\nL 60.942324 93.840803 \r\nL 61.70514 93.516524 \r\nL 62.467956 94.004459 \r\nL 63.230773 94.681434 \r\nL 63.993589 95.155638 \r\nL 64.756405 95.084583 \r\nL 65.519221 94.538938 \r\nL 66.282037 95.315614 \r\nL 67.044853 95.215466 \r\nL 68.570486 97.66332 \r\nL 70.096118 98.64867 \r\nL 71.62175 101.831396 \r\nL 72.384566 102.69454 \r\nL 73.147382 103.081931 \r\nL 73.910198 102.41207 \r\nL 74.673015 102.046752 \r\nL 75.435831 102.755841 \r\nL 76.198647 102.955416 \r\nL 77.724279 103.814587 \r\nL 78.487095 103.703854 \r\nL 79.249911 103.385587 \r\nL 80.012727 103.92146 \r\nL 80.775544 104.088384 \r\nL 81.53836 104.014883 \r\nL 83.063992 102.120806 \r\nL 83.826808 101.748909 \r\nL 84.589624 102.120736 \r\nL 86.115257 100.539195 \r\nL 86.878073 100.345413 \r\nL 87.640889 99.187242 \r\nL 89.166521 97.797917 \r\nL 89.929337 98.148116 \r\nL 90.692153 98.728999 \r\nL 91.454969 98.475406 \r\nL 92.217786 99.447593 \r\nL 92.980602 99.472707 \r\nL 94.506234 101.050523 \r\nL 95.26905 101.10425 \r\nL 96.031866 100.978952 \r\nL 98.320315 103.788773 \r\nL 99.083131 103.773953 \r\nL 99.845947 103.313972 \r\nL 100.608763 103.518737 \r\nL 101.371579 103.968779 \r\nL 102.134395 103.795923 \r\nL 102.897211 104.466394 \r\nL 103.660028 104.719754 \r\nL 104.422844 105.611409 \r\nL 105.18566 107.221419 \r\nL 105.948476 109.723093 \r\nL 106.711292 111.482909 \r\nL 108.99974 114.376866 \r\nL 110.525373 114.852136 \r\nL 111.288189 116.189297 \r\nL 112.051005 117.10888 \r\nL 112.813821 117.196501 \r\nL 113.576637 118.361756 \r\nL 114.339453 120.13826 \r\nL 115.10227 120.787529 \r\nL 115.865086 120.973787 \r\nL 116.627902 121.971179 \r\nL 117.390718 122.458413 \r\nL 119.679166 127.262353 \r\nL 122.730431 131.184539 \r\nL 123.493247 131.268504 \r\nL 124.256063 131.55379 \r\nL 125.018879 131.470591 \r\nL 126.544511 130.9429 \r\nL 127.307328 130.324563 \r\nL 128.070144 129.115564 \r\nL 128.83296 128.396007 \r\nL 129.595776 128.435027 \r\nL 130.358592 128.93401 \r\nL 131.121408 129.988792 \r\nL 131.884224 131.382377 \r\nL 132.647041 132.502708 \r\nL 133.409857 133.340974 \r\nL 134.172673 133.386125 \r\nL 134.935489 132.995138 \r\nL 135.698305 133.022625 \r\nL 136.461121 133.628834 \r\nL 137.223937 134.576367 \r\nL 137.986753 135.931932 \r\nL 139.512386 137.307832 \r\nL 140.275202 139.016245 \r\nL 141.038018 139.586414 \r\nL 141.800834 140.662519 \r\nL 142.56365 141.277427 \r\nL 143.326466 142.722565 \r\nL 144.089283 143.424344 \r\nL 144.852099 143.550322 \r\nL 146.377731 145.382129 \r\nL 149.428995 151.607491 \r\nL 151.717444 157.527978 \r\nL 153.243076 162.78539 \r\nL 154.768708 167.106084 \r\nL 155.531524 168.742934 \r\nL 157.057157 171.404912 \r\nL 157.819973 171.680895 \r\nL 158.582789 171.751282 \r\nL 159.345605 171.595541 \r\nL 160.108421 171.275928 \r\nL 161.634054 169.632359 \r\nL 162.39687 169.219192 \r\nL 163.159686 169.186011 \r\nL 163.922502 169.349437 \r\nL 164.685318 170.305049 \r\nL 165.448134 171.007445 \r\nL 166.973766 171.538689 \r\nL 168.499399 172.591556 \r\nL 170.787847 173.509469 \r\nL 171.550663 173.577841 \r\nL 172.313479 173.415925 \r\nL 173.076295 172.995392 \r\nL 173.839112 173.113723 \r\nL 174.601928 173.53572 \r\nL 175.364744 173.82883 \r\nL 176.12756 173.561471 \r\nL 177.653192 173.369612 \r\nL 179.178825 173.687985 \r\nL 180.704457 173.449727 \r\nL 182.230089 173.836194 \r\nL 183.755721 175.044991 \r\nL 184.518537 175.71283 \r\nL 186.04417 177.547649 \r\nL 188.332618 179.402423 \r\nL 189.095434 180.198229 \r\nL 189.85825 180.822992 \r\nL 190.621067 181.199696 \r\nL 191.383883 181.182817 \r\nL 192.146699 180.999599 \r\nL 195.197963 177.721755 \r\nL 195.960779 177.074662 \r\nL 196.723596 176.579927 \r\nL 197.486412 176.390371 \r\nL 199.012044 175.665233 \r\nL 199.77486 175.712727 \r\nL 200.537676 176.049424 \r\nL 202.063308 177.091675 \r\nL 202.826125 177.498079 \r\nL 205.877389 177.664754 \r\nL 206.640205 177.758323 \r\nL 207.403021 177.627962 \r\nL 208.165838 176.824623 \r\nL 208.928654 175.789767 \r\nL 210.454286 173.211742 \r\nL 211.217102 172.230721 \r\nL 212.742734 171.208787 \r\nL 214.268367 170.46359 \r\nL 215.031183 169.628007 \r\nL 215.793999 168.564222 \r\nL 217.319631 165.48994 \r\nL 218.082447 163.695072 \r\nL 218.845263 162.277787 \r\nL 219.60808 161.702085 \r\nL 221.133712 161.200832 \r\nL 222.659344 160.464453 \r\nL 223.42216 160.360786 \r\nL 224.184976 159.572641 \r\nL 224.947792 157.91049 \r\nL 225.710609 155.534956 \r\nL 226.473425 153.620509 \r\nL 227.999057 150.880707 \r\nL 228.761873 150.407185 \r\nL 229.524689 150.840442 \r\nL 230.287505 150.876712 \r\nL 231.050321 150.674871 \r\nL 233.33877 150.803164 \r\nL 234.101586 150.410528 \r\nL 234.864402 149.822701 \r\nL 235.627218 149.011668 \r\nL 236.390034 147.851437 \r\nL 237.152851 146.360042 \r\nL 237.915667 145.184249 \r\nL 238.678483 144.490018 \r\nL 239.441299 144.112882 \r\nL 240.204115 143.246444 \r\nL 240.966931 142.174668 \r\nL 241.729747 141.521391 \r\nL 243.25538 141.266474 \r\nL 244.018196 141.43849 \r\nL 245.543828 141.109926 \r\nL 247.06946 139.908728 \r\nL 247.832276 139.499664 \r\nL 249.357909 138.967336 \r\nL 251.646357 137.032342 \r\nL 252.409173 136.359616 \r\nL 253.171989 135.852367 \r\nL 254.697622 134.323287 \r\nL 256.223254 132.621321 \r\nL 257.748886 131.271233 \r\nL 259.274518 130.2162 \r\nL 260.037334 129.345042 \r\nL 261.562967 126.878133 \r\nL 262.325783 125.560314 \r\nL 263.088599 124.658874 \r\nL 264.614231 124.056365 \r\nL 266.139864 122.514582 \r\nL 266.90268 122.372045 \r\nL 267.665496 122.586836 \r\nL 268.428312 122.966333 \r\nL 269.191128 123.678954 \r\nL 269.953944 124.796042 \r\nL 270.71676 125.431978 \r\nL 272.242393 125.788487 \r\nL 273.005209 126.182215 \r\nL 273.768025 127.095561 \r\nL 274.530841 128.536147 \r\nL 275.293657 130.21618 \r\nL 278.344922 139.0956 \r\nL 279.107738 140.691493 \r\nL 279.870554 141.130823 \r\nL 280.63337 141.197272 \r\nL 281.396186 141.05912 \r\nL 282.921818 140.161433 \r\nL 283.684635 139.62481 \r\nL 285.210267 137.972723 \r\nL 285.973083 137.329666 \r\nL 286.735899 136.885431 \r\nL 288.261531 136.925982 \r\nL 290.54998 135.495961 \r\nL 292.838428 135.21894 \r\nL 293.601244 135.325807 \r\nL 295.889693 136.412396 \r\nL 297.415325 137.401682 \r\nL 298.178141 137.685448 \r\nL 298.940957 137.41556 \r\nL 299.703773 136.842456 \r\nL 300.466589 136.001098 \r\nL 301.229406 135.337625 \r\nL 303.517854 134.381215 \r\nL 305.043486 133.387409 \r\nL 305.806302 133.105594 \r\nL 306.569118 133.049128 \r\nL 307.331935 133.209845 \r\nL 308.094751 133.484184 \r\nL 308.857567 133.60753 \r\nL 309.620383 133.607588 \r\nL 310.383199 133.46257 \r\nL 311.908831 133.546826 \r\nL 313.434464 134.064092 \r\nL 314.19728 134.689277 \r\nL 315.722912 136.258883 \r\nL 316.485728 136.655985 \r\nL 317.248544 136.355131 \r\nL 318.01136 135.4038 \r\nL 320.299809 130.943477 \r\nL 321.062625 129.904129 \r\nL 321.825441 129.42387 \r\nL 323.351073 128.967143 \r\nL 324.113889 128.443324 \r\nL 325.639522 127.123749 \r\nL 327.92797 126.425417 \r\nL 328.690786 126.338021 \r\nL 329.453602 126.39406 \r\nL 330.216419 126.255796 \r\nL 333.267683 125.043205 \r\nL 334.030499 124.482909 \r\nL 334.793315 123.602094 \r\nL 336.318948 121.392214 \r\nL 337.081764 120.813326 \r\nL 337.84458 120.788368 \r\nL 338.607396 120.572438 \r\nL 340.133028 119.182714 \r\nL 340.895844 118.26479 \r\nL 341.658661 117.092259 \r\nL 343.184293 114.076748 \r\nL 344.709925 110.666918 \r\nL 345.472741 109.795609 \r\nL 346.235557 109.603549 \r\nL 346.998373 109.768861 \r\nL 348.524006 110.298276 \r\nL 348.524006 110.298276 \r\n\" style=\"fill:none;stroke:#1f77b4;stroke-linecap:square;stroke-width:1.5;\"/>\r\n   </g>\r\n   <g id=\"line2d_19\">\r\n    <path clip-path=\"url(#pc98a65bbb1)\" d=\"M 44.160369 106.321151 \r\nL 44.923185 106.728828 \r\nL 45.686002 107.298026 \r\nL 46.448818 108.31079 \r\nL 47.211634 108.788703 \r\nL 48.737266 108.177275 \r\nL 49.500082 108.747702 \r\nL 50.262898 109.090611 \r\nL 51.025714 108.724514 \r\nL 51.788531 109.417179 \r\nL 52.551347 110.414393 \r\nL 53.314163 110.519721 \r\nL 54.076979 111.101495 \r\nL 54.839795 111.114876 \r\nL 55.602611 111.631238 \r\nL 56.365427 113.946527 \r\nL 57.89106 116.64642 \r\nL 58.653876 117.056861 \r\nL 59.416692 117.825717 \r\nL 60.179508 118.952083 \r\nL 60.942324 119.695724 \r\nL 61.70514 120.262555 \r\nL 63.230773 122.681894 \r\nL 64.756405 125.941704 \r\nL 65.519221 127.960904 \r\nL 67.044853 130.637216 \r\nL 67.807669 131.405066 \r\nL 68.570486 131.355767 \r\nL 69.333302 131.186116 \r\nL 70.096118 131.448867 \r\nL 70.858934 131.903062 \r\nL 72.384566 132.247676 \r\nL 73.147382 132.543482 \r\nL 73.910198 132.622236 \r\nL 75.435831 133.248918 \r\nL 76.198647 133.205126 \r\nL 76.961463 133.532222 \r\nL 77.724279 134.552821 \r\nL 78.487095 136.126691 \r\nL 80.012727 140.158011 \r\nL 80.775544 141.440662 \r\nL 83.063992 144.756243 \r\nL 83.826808 144.595512 \r\nL 84.589624 144.316183 \r\nL 85.35244 145.245363 \r\nL 86.878073 149.166297 \r\nL 89.166521 152.636762 \r\nL 89.929337 154.18004 \r\nL 91.454969 155.171527 \r\nL 92.217786 156.401528 \r\nL 92.980602 158.132967 \r\nL 93.743418 159.462997 \r\nL 94.506234 159.444243 \r\nL 95.26905 159.635545 \r\nL 96.794682 161.149506 \r\nL 97.557499 161.373156 \r\nL 98.320315 161.874474 \r\nL 99.083131 161.426101 \r\nL 99.845947 161.433355 \r\nL 101.371579 162.878645 \r\nL 102.897211 164.812598 \r\nL 103.660028 166.108671 \r\nL 104.422844 167.102907 \r\nL 105.948476 168.410192 \r\nL 106.711292 169.644896 \r\nL 107.474108 170.021549 \r\nL 108.236924 168.94312 \r\nL 108.99974 168.428958 \r\nL 109.762557 168.339005 \r\nL 110.525373 168.608913 \r\nL 111.288189 167.902399 \r\nL 112.051005 165.932656 \r\nL 112.813821 163.119018 \r\nL 115.865086 156.346612 \r\nL 116.627902 156.004601 \r\nL 117.390718 156.317034 \r\nL 118.153534 156.957671 \r\nL 118.91635 157.40717 \r\nL 119.679166 157.288835 \r\nL 121.204799 155.411325 \r\nL 122.730431 154.457515 \r\nL 123.493247 154.402938 \r\nL 124.256063 154.649833 \r\nL 125.018879 154.637106 \r\nL 126.544511 152.571286 \r\nL 127.307328 152.36022 \r\nL 128.070144 152.553601 \r\nL 128.83296 152.497572 \r\nL 129.595776 152.582316 \r\nL 130.358592 152.814182 \r\nL 131.884224 153.570874 \r\nL 133.409857 153.753659 \r\nL 134.172673 153.998913 \r\nL 134.935489 153.626317 \r\nL 135.698305 152.054405 \r\nL 137.223937 147.855651 \r\nL 137.986753 147.297546 \r\nL 138.74957 147.537094 \r\nL 139.512386 146.52554 \r\nL 140.275202 146.865588 \r\nL 142.56365 148.279642 \r\nL 143.326466 147.879224 \r\nL 144.089283 147.175128 \r\nL 144.852099 146.829072 \r\nL 145.614915 146.0459 \r\nL 146.377731 145.569161 \r\nL 147.140547 145.679705 \r\nL 148.666179 147.898112 \r\nL 149.428995 148.52423 \r\nL 150.191812 148.584008 \r\nL 151.717444 149.699214 \r\nL 152.48026 149.690124 \r\nL 153.243076 149.236483 \r\nL 154.005892 148.588709 \r\nL 154.768708 148.460457 \r\nL 155.531524 147.651104 \r\nL 156.294341 148.846179 \r\nL 157.057157 150.638844 \r\nL 157.819973 151.021765 \r\nL 158.582789 150.060332 \r\nL 159.345605 149.510542 \r\nL 160.108421 150.163449 \r\nL 160.871237 149.647932 \r\nL 161.634054 150.399095 \r\nL 162.39687 152.036661 \r\nL 163.159686 152.225566 \r\nL 163.922502 152.692926 \r\nL 165.448134 155.60607 \r\nL 166.973766 157.930511 \r\nL 167.736583 159.857728 \r\nL 168.499399 161.270157 \r\nL 169.262215 161.892242 \r\nL 170.025031 163.995018 \r\nL 170.787847 165.708321 \r\nL 172.313479 167.457185 \r\nL 173.839112 171.237591 \r\nL 175.364744 173.580574 \r\nL 176.890376 175.131227 \r\nL 179.941641 178.132599 \r\nL 180.704457 179.056244 \r\nL 181.467273 180.244123 \r\nL 182.230089 181.764286 \r\nL 183.755721 186.159385 \r\nL 184.518537 188.430241 \r\nL 185.281354 190.228021 \r\nL 186.806986 192.723609 \r\nL 188.332618 195.776056 \r\nL 189.095434 196.912705 \r\nL 189.85825 197.404945 \r\nL 190.621067 197.579064 \r\nL 192.909515 196.656199 \r\nL 194.435147 195.792134 \r\nL 195.197963 195.782648 \r\nL 195.960779 196.146665 \r\nL 197.486412 197.29266 \r\nL 199.012044 197.45099 \r\nL 200.537676 198.488145 \r\nL 202.063308 200.702565 \r\nL 203.588941 201.610404 \r\nL 205.114573 202.375452 \r\nL 206.640205 202.854385 \r\nL 208.165838 204.054793 \r\nL 208.928654 204.99432 \r\nL 210.454286 207.154229 \r\nL 211.217102 208.275625 \r\nL 212.742734 210.934119 \r\nL 213.50555 211.447445 \r\nL 216.556815 212.246533 \r\nL 218.082447 212.57223 \r\nL 218.845263 212.940385 \r\nL 221.896528 213.826878 \r\nL 223.42216 214.661137 \r\nL 224.184976 214.756364 \r\nL 224.947792 214.584472 \r\nL 225.710609 214.008041 \r\nL 226.473425 213.196212 \r\nL 227.236241 212.072901 \r\nL 227.999057 211.351494 \r\nL 228.761873 211.255836 \r\nL 230.287505 211.484912 \r\nL 231.050321 211.508125 \r\nL 231.813138 211.109028 \r\nL 233.33877 209.596245 \r\nL 234.864402 208.733984 \r\nL 236.390034 208.090496 \r\nL 237.152851 207.495478 \r\nL 240.966931 203.671635 \r\nL 241.729747 203.597667 \r\nL 242.492563 203.679492 \r\nL 244.018196 203.104493 \r\nL 246.306644 203.990377 \r\nL 247.832276 204.606593 \r\nL 250.120725 206.06441 \r\nL 251.646357 205.509493 \r\nL 252.409173 205.69443 \r\nL 253.934805 205.727907 \r\nL 255.460438 205.60559 \r\nL 256.98607 204.936425 \r\nL 257.748886 205.007653 \r\nL 258.511702 205.466303 \r\nL 259.274518 205.615488 \r\nL 260.800151 205.05539 \r\nL 261.562967 204.972853 \r\nL 262.325783 204.685463 \r\nL 263.088599 203.856813 \r\nL 264.614231 201.845268 \r\nL 265.377047 201.576823 \r\nL 266.139864 201.018003 \r\nL 266.90268 201.068976 \r\nL 267.665496 200.996067 \r\nL 269.191128 200.284272 \r\nL 269.953944 200.144796 \r\nL 273.005209 200.730598 \r\nL 274.530841 200.501078 \r\nL 276.056473 200.081304 \r\nL 277.582105 199.540976 \r\nL 278.344922 199.50132 \r\nL 279.107738 199.336431 \r\nL 279.870554 198.572948 \r\nL 280.63337 197.623351 \r\nL 281.396186 196.173715 \r\nL 282.921818 192.853255 \r\nL 283.684635 191.570067 \r\nL 284.447451 190.680913 \r\nL 285.210267 190.57095 \r\nL 285.973083 191.332128 \r\nL 286.735899 192.483579 \r\nL 287.498715 192.973557 \r\nL 288.261531 193.170304 \r\nL 289.024347 193.014212 \r\nL 292.075612 192.967524 \r\nL 293.601244 193.551632 \r\nL 295.126876 194.323315 \r\nL 295.889693 194.516336 \r\nL 296.652509 194.847848 \r\nL 297.415325 195.337651 \r\nL 298.178141 195.310949 \r\nL 298.940957 194.5383 \r\nL 299.703773 193.366015 \r\nL 300.466589 192.438243 \r\nL 301.229406 191.235776 \r\nL 304.28067 187.285888 \r\nL 305.806302 184.491659 \r\nL 308.857567 177.099758 \r\nL 309.620383 175.415597 \r\nL 310.383199 174.005605 \r\nL 311.146015 173.132609 \r\nL 311.908831 172.620857 \r\nL 312.671648 172.367417 \r\nL 314.19728 172.347316 \r\nL 314.960096 172.101306 \r\nL 317.248544 170.726003 \r\nL 318.01136 170.052499 \r\nL 319.536993 168.087766 \r\nL 320.299809 167.636091 \r\nL 321.062625 167.808899 \r\nL 321.825441 168.421339 \r\nL 322.588257 168.737774 \r\nL 323.351073 168.487213 \r\nL 324.113889 167.790741 \r\nL 324.876706 166.64974 \r\nL 326.402338 163.739909 \r\nL 327.165154 162.675871 \r\nL 327.92797 161.31678 \r\nL 329.453602 157.658036 \r\nL 330.216419 156.366301 \r\nL 331.742051 155.396576 \r\nL 332.504867 155.272736 \r\nL 333.267683 154.916345 \r\nL 334.030499 154.353504 \r\nL 334.793315 153.418704 \r\nL 335.556131 152.096314 \r\nL 336.318948 151.861855 \r\nL 337.84458 153.143534 \r\nL 338.607396 153.024282 \r\nL 339.370212 153.187137 \r\nL 340.895844 154.786627 \r\nL 341.658661 154.946959 \r\nL 342.421477 154.393994 \r\nL 343.184293 153.215806 \r\nL 343.947109 152.267154 \r\nL 344.709925 151.862245 \r\nL 345.472741 151.749731 \r\nL 346.235557 151.41257 \r\nL 348.524006 149.636261 \r\nL 348.524006 149.636261 \r\n\" style=\"fill:none;stroke:#ff7f0e;stroke-linecap:square;stroke-width:1.5;\"/>\r\n   </g>\r\n   <g id=\"line2d_20\">\r\n    <path clip-path=\"url(#pc98a65bbb1)\" d=\"M 44.160369 105.38303 \r\nL 44.923185 104.865113 \r\nL 45.686002 104.806162 \r\nL 47.97445 105.563021 \r\nL 48.737266 105.55854 \r\nL 50.262898 105.901014 \r\nL 51.025714 106.273923 \r\nL 52.551347 108.152406 \r\nL 53.314163 109.691691 \r\nL 54.076979 110.286526 \r\nL 55.602611 110.758404 \r\nL 57.128244 110.130087 \r\nL 58.653876 109.888394 \r\nL 59.416692 110.17906 \r\nL 60.179508 110.740434 \r\nL 60.942324 111.706943 \r\nL 62.467956 113.8829 \r\nL 63.230773 114.295605 \r\nL 63.993589 114.478712 \r\nL 64.756405 114.872898 \r\nL 65.519221 114.945477 \r\nL 66.282037 114.899135 \r\nL 67.807669 115.898907 \r\nL 68.570486 116.76926 \r\nL 69.333302 118.218409 \r\nL 70.858934 120.371544 \r\nL 71.62175 120.467474 \r\nL 72.384566 120.099374 \r\nL 73.147382 120.153611 \r\nL 74.673015 121.227636 \r\nL 76.961463 121.366369 \r\nL 77.724279 120.195133 \r\nL 78.487095 120.080508 \r\nL 79.249911 121.092801 \r\nL 80.775544 123.573856 \r\nL 81.53836 124.397579 \r\nL 82.301176 124.922856 \r\nL 86.115257 129.256214 \r\nL 87.640889 132.07146 \r\nL 88.403705 132.783118 \r\nL 89.166521 132.386632 \r\nL 89.929337 133.262407 \r\nL 90.692153 134.74769 \r\nL 91.454969 135.766211 \r\nL 92.980602 138.360035 \r\nL 93.743418 138.924591 \r\nL 94.506234 138.999666 \r\nL 95.26905 140.055382 \r\nL 96.794682 140.393553 \r\nL 97.557499 140.301199 \r\nL 98.320315 139.740108 \r\nL 99.845947 139.384738 \r\nL 100.608763 139.445885 \r\nL 101.371579 139.12333 \r\nL 102.134395 139.025265 \r\nL 102.897211 139.485599 \r\nL 103.660028 140.084493 \r\nL 104.422844 140.22895 \r\nL 105.18566 139.985106 \r\nL 105.948476 138.833811 \r\nL 106.711292 139.670204 \r\nL 107.474108 140.110508 \r\nL 108.236924 140.043691 \r\nL 108.99974 139.654326 \r\nL 109.762557 139.555301 \r\nL 110.525373 139.193539 \r\nL 111.288189 139.278736 \r\nL 112.051005 139.200292 \r\nL 114.339453 139.723601 \r\nL 115.10227 140.276031 \r\nL 115.865086 140.399324 \r\nL 116.627902 141.087219 \r\nL 117.390718 142.09515 \r\nL 118.153534 142.652805 \r\nL 118.91635 142.689371 \r\nL 120.441982 141.447499 \r\nL 121.204799 141.38792 \r\nL 121.967615 142.206175 \r\nL 122.730431 143.67597 \r\nL 123.493247 144.806705 \r\nL 124.256063 144.815093 \r\nL 125.018879 145.686965 \r\nL 125.781695 147.535819 \r\nL 126.544511 148.211828 \r\nL 128.070144 147.434103 \r\nL 128.83296 147.430305 \r\nL 129.595776 147.619333 \r\nL 131.121408 148.403701 \r\nL 131.884224 148.496465 \r\nL 132.647041 148.880779 \r\nL 133.409857 148.426947 \r\nL 134.172673 147.383965 \r\nL 134.935489 146.788772 \r\nL 135.698305 147.115222 \r\nL 136.461121 147.280592 \r\nL 137.223937 146.372298 \r\nL 139.512386 142.426088 \r\nL 140.275202 142.484368 \r\nL 141.038018 143.854755 \r\nL 142.56365 147.046009 \r\nL 145.614915 151.247182 \r\nL 146.377731 151.871642 \r\nL 147.140547 151.926571 \r\nL 147.903363 151.774923 \r\nL 148.666179 152.0751 \r\nL 149.428995 152.555463 \r\nL 152.48026 152.80803 \r\nL 154.768708 152.309096 \r\nL 155.531524 151.746622 \r\nL 156.294341 150.814968 \r\nL 157.057157 150.335806 \r\nL 157.819973 150.567012 \r\nL 158.582789 151.469262 \r\nL 159.345605 152.185158 \r\nL 161.634054 152.51439 \r\nL 162.39687 152.038368 \r\nL 163.159686 151.079813 \r\nL 163.922502 150.737637 \r\nL 165.448134 149.652131 \r\nL 166.21095 149.702787 \r\nL 166.973766 150.117997 \r\nL 168.499399 151.661387 \r\nL 169.262215 151.811009 \r\nL 170.025031 151.320999 \r\nL 171.550663 151.439639 \r\nL 174.601928 152.225249 \r\nL 175.364744 151.976107 \r\nL 176.12756 152.439262 \r\nL 176.890376 152.418037 \r\nL 177.653192 151.725096 \r\nL 178.416008 150.757788 \r\nL 179.178825 150.707311 \r\nL 179.941641 151.027831 \r\nL 180.704457 150.399217 \r\nL 182.230089 149.629808 \r\nL 182.992905 148.795445 \r\nL 183.755721 147.403858 \r\nL 184.518537 147.086348 \r\nL 185.281354 147.947106 \r\nL 186.04417 147.857458 \r\nL 189.095434 145.521304 \r\nL 190.621067 143.989733 \r\nL 191.383883 143.579566 \r\nL 192.146699 142.933064 \r\nL 192.909515 142.720241 \r\nL 193.672331 141.70887 \r\nL 194.435147 141.290238 \r\nL 195.197963 141.267624 \r\nL 195.960779 141.62443 \r\nL 196.723596 142.756394 \r\nL 198.249228 145.614158 \r\nL 199.77486 147.638896 \r\nL 200.537676 148.291913 \r\nL 201.300492 148.734583 \r\nL 203.588941 149.087682 \r\nL 205.114573 149.193357 \r\nL 205.877389 148.918619 \r\nL 206.640205 148.40608 \r\nL 207.403021 148.257002 \r\nL 208.928654 148.474879 \r\nL 209.69147 148.089185 \r\nL 210.454286 147.365394 \r\nL 211.979918 144.460875 \r\nL 212.742734 143.508593 \r\nL 213.50555 143.402715 \r\nL 214.268367 143.772328 \r\nL 215.031183 144.617485 \r\nL 215.793999 145.222073 \r\nL 216.556815 145.366752 \r\nL 217.319631 145.865907 \r\nL 219.60808 149.003368 \r\nL 221.133712 149.015476 \r\nL 221.896528 149.452551 \r\nL 222.659344 150.023704 \r\nL 223.42216 150.21589 \r\nL 224.184976 150.119881 \r\nL 224.947792 149.281356 \r\nL 225.710609 148.704935 \r\nL 226.473425 148.366744 \r\nL 227.236241 148.300743 \r\nL 227.999057 148.353264 \r\nL 228.761873 148.161278 \r\nL 229.524689 147.766865 \r\nL 230.287505 147.779027 \r\nL 231.050321 148.006932 \r\nL 232.575954 148.163623 \r\nL 233.33877 147.845863 \r\nL 234.101586 146.857421 \r\nL 234.864402 146.096205 \r\nL 235.627218 144.735455 \r\nL 236.390034 144.275066 \r\nL 237.915667 142.781865 \r\nL 240.204115 141.918508 \r\nL 240.966931 141.512549 \r\nL 241.729747 141.717409 \r\nL 242.492563 141.720177 \r\nL 243.25538 141.888716 \r\nL 244.018196 143.117943 \r\nL 244.781012 144.93022 \r\nL 245.543828 146.065938 \r\nL 246.306644 145.902747 \r\nL 247.832276 144.614518 \r\nL 249.357909 142.333492 \r\nL 250.120725 141.126133 \r\nL 250.883541 140.371822 \r\nL 251.646357 140.288586 \r\nL 252.409173 141.198985 \r\nL 253.171989 142.831567 \r\nL 253.934805 144.128298 \r\nL 254.697622 144.41546 \r\nL 255.460438 144.08036 \r\nL 256.223254 143.269366 \r\nL 257.748886 140.914586 \r\nL 258.511702 140.087381 \r\nL 260.037334 139.241149 \r\nL 261.562967 138.467405 \r\nL 262.325783 137.946203 \r\nL 263.088599 137.699277 \r\nL 263.851415 138.140711 \r\nL 264.614231 137.646142 \r\nL 266.139864 135.653727 \r\nL 266.90268 134.701624 \r\nL 267.665496 134.595576 \r\nL 268.428312 134.263034 \r\nL 269.191128 133.772799 \r\nL 270.71676 132.082853 \r\nL 273.005209 129.284519 \r\nL 276.056473 126.645501 \r\nL 277.582105 125.079809 \r\nL 278.344922 124.557761 \r\nL 279.107738 124.363419 \r\nL 280.63337 124.321766 \r\nL 281.396186 124.296117 \r\nL 282.921818 123.63318 \r\nL 284.447451 122.905102 \r\nL 285.210267 122.618838 \r\nL 286.735899 121.68502 \r\nL 288.261531 120.877983 \r\nL 289.787164 121.231181 \r\nL 290.54998 121.116059 \r\nL 291.312796 121.20175 \r\nL 292.075612 121.048848 \r\nL 292.838428 120.753586 \r\nL 293.601244 120.203021 \r\nL 296.652509 117.145057 \r\nL 297.415325 116.624897 \r\nL 299.703773 115.841475 \r\nL 300.466589 115.703027 \r\nL 301.229406 115.74056 \r\nL 301.992222 115.969519 \r\nL 303.517854 116.569779 \r\nL 304.28067 116.65772 \r\nL 305.806302 116.477732 \r\nL 306.569118 116.204181 \r\nL 308.094751 115.036155 \r\nL 310.383199 113.99863 \r\nL 311.908831 112.691277 \r\nL 312.671648 112.243487 \r\nL 314.19728 111.863476 \r\nL 314.960096 111.875157 \r\nL 316.485728 112.661836 \r\nL 317.248544 113.075333 \r\nL 318.01136 113.277748 \r\nL 318.774177 113.113366 \r\nL 320.299809 112.247255 \r\nL 321.062625 111.740197 \r\nL 322.588257 109.726966 \r\nL 323.351073 109.456483 \r\nL 324.113889 109.790715 \r\nL 324.876706 110.810319 \r\nL 325.639522 111.27453 \r\nL 326.402338 111.593131 \r\nL 327.165154 111.370914 \r\nL 327.92797 110.775608 \r\nL 328.690786 110.327084 \r\nL 330.216419 109.123068 \r\nL 331.742051 108.985265 \r\nL 334.793315 106.865641 \r\nL 335.556131 106.2347 \r\nL 337.081764 105.929412 \r\nL 337.84458 105.85606 \r\nL 338.607396 105.655992 \r\nL 339.370212 105.307032 \r\nL 340.895844 104.975815 \r\nL 341.658661 104.663722 \r\nL 342.421477 104.218034 \r\nL 343.184293 104.172865 \r\nL 343.947109 104.468855 \r\nL 344.709925 105.022709 \r\nL 345.472741 105.936042 \r\nL 346.235557 107.067823 \r\nL 346.998373 107.662439 \r\nL 347.76119 107.814836 \r\nL 348.524006 107.654949 \r\nL 348.524006 107.654949 \r\n\" style=\"fill:none;stroke:#2ca02c;stroke-linecap:square;stroke-width:1.5;\"/>\r\n   </g>\r\n   <g id=\"line2d_21\">\r\n    <path clip-path=\"url(#pc98a65bbb1)\" d=\"M 44.160369 105.465526 \r\nL 44.923185 105.050696 \r\nL 45.686002 105.497219 \r\nL 46.448818 105.20752 \r\nL 47.211634 103.26967 \r\nL 47.97445 101.682991 \r\nL 48.737266 101.363715 \r\nL 49.500082 102.172429 \r\nL 50.262898 102.266481 \r\nL 51.025714 101.246625 \r\nL 51.788531 98.897859 \r\nL 52.551347 97.651985 \r\nL 54.076979 98.460895 \r\nL 54.839795 98.054201 \r\nL 55.602611 98.163348 \r\nL 56.365427 97.965823 \r\nL 57.128244 98.816688 \r\nL 58.653876 98.939023 \r\nL 59.416692 99.157302 \r\nL 60.179508 99.145721 \r\nL 60.942324 98.61428 \r\nL 61.70514 99.018944 \r\nL 62.467956 99.256725 \r\nL 63.230773 99.058891 \r\nL 63.993589 99.28532 \r\nL 64.756405 98.631802 \r\nL 67.807669 96.493526 \r\nL 69.333302 96.053247 \r\nL 70.858934 95.046936 \r\nL 71.62175 93.543102 \r\nL 73.147382 92.83185 \r\nL 74.673015 92.248793 \r\nL 75.435831 91.528842 \r\nL 76.198647 90.146933 \r\nL 77.724279 89.254648 \r\nL 78.487095 88.643172 \r\nL 79.249911 88.418576 \r\nL 80.012727 88.692977 \r\nL 81.53836 86.590214 \r\nL 83.063992 85.598785 \r\nL 83.826808 84.958423 \r\nL 84.589624 83.834438 \r\nL 85.35244 83.372796 \r\nL 86.115257 83.38987 \r\nL 86.878073 83.683796 \r\nL 88.403705 83.016172 \r\nL 89.166521 83.595738 \r\nL 89.929337 83.555242 \r\nL 90.692153 83.379148 \r\nL 91.454969 82.513123 \r\nL 92.217786 82.150134 \r\nL 92.980602 82.757966 \r\nL 93.743418 83.624041 \r\nL 94.506234 84.15567 \r\nL 95.26905 83.934724 \r\nL 96.031866 83.223997 \r\nL 96.794682 82.727919 \r\nL 97.557499 81.844921 \r\nL 98.320315 81.467844 \r\nL 99.083131 81.399981 \r\nL 99.845947 81.934038 \r\nL 100.608763 83.117149 \r\nL 102.134395 84.076239 \r\nL 102.897211 85.229266 \r\nL 106.711292 94.332382 \r\nL 107.474108 95.43753 \r\nL 108.236924 96.909858 \r\nL 108.99974 97.396922 \r\nL 109.762557 96.94642 \r\nL 110.525373 96.763413 \r\nL 111.288189 97.113599 \r\nL 112.051005 97.100316 \r\nL 112.813821 97.743482 \r\nL 113.576637 99.175319 \r\nL 114.339453 99.469053 \r\nL 115.10227 99.192783 \r\nL 115.865086 98.620914 \r\nL 117.390718 96.997793 \r\nL 118.153534 96.72867 \r\nL 121.204799 100.308529 \r\nL 121.967615 100.658534 \r\nL 122.730431 100.371595 \r\nL 123.493247 99.900954 \r\nL 125.018879 99.513006 \r\nL 126.544511 99.486962 \r\nL 128.070144 98.958758 \r\nL 128.83296 98.300794 \r\nL 129.595776 97.947948 \r\nL 130.358592 97.999324 \r\nL 131.121408 98.456627 \r\nL 131.884224 99.094529 \r\nL 132.647041 99.518956 \r\nL 133.409857 99.725894 \r\nL 134.172673 99.811575 \r\nL 134.935489 99.293864 \r\nL 135.698305 98.101332 \r\nL 136.461121 97.1364 \r\nL 137.223937 97.156672 \r\nL 137.986753 97.592137 \r\nL 138.74957 98.752252 \r\nL 139.512386 100.439976 \r\nL 140.275202 101.816069 \r\nL 141.038018 102.087234 \r\nL 142.56365 102.317487 \r\nL 143.326466 102.193319 \r\nL 144.089283 101.728346 \r\nL 145.614915 100.04696 \r\nL 146.377731 99.800712 \r\nL 147.140547 99.950395 \r\nL 147.903363 100.506314 \r\nL 150.191812 103.34116 \r\nL 150.954628 103.091725 \r\nL 151.717444 102.227839 \r\nL 152.48026 100.959529 \r\nL 154.005892 98.160427 \r\nL 154.768708 97.738138 \r\nL 155.531524 97.598158 \r\nL 156.294341 98.025775 \r\nL 157.057157 98.693624 \r\nL 157.819973 99.107872 \r\nL 160.108421 98.124896 \r\nL 161.634054 98.081846 \r\nL 163.159686 98.510189 \r\nL 163.922502 98.956637 \r\nL 164.685318 99.691617 \r\nL 165.448134 99.965144 \r\nL 166.21095 99.722184 \r\nL 167.736583 98.994359 \r\nL 168.499399 98.786103 \r\nL 169.262215 98.444229 \r\nL 170.787847 98.119086 \r\nL 173.839112 96.922611 \r\nL 175.364744 94.655375 \r\nL 176.12756 93.936337 \r\nL 176.890376 93.675011 \r\nL 179.178825 94.728772 \r\nL 179.941641 94.830225 \r\nL 180.704457 94.730405 \r\nL 181.467273 94.82291 \r\nL 182.230089 95.236307 \r\nL 182.992905 95.391597 \r\nL 186.04417 94.450173 \r\nL 186.806986 94.331072 \r\nL 188.332618 94.431378 \r\nL 189.095434 94.290206 \r\nL 191.383883 94.347971 \r\nL 192.146699 94.603942 \r\nL 192.909515 95.334839 \r\nL 193.672331 96.525833 \r\nL 194.435147 97.482749 \r\nL 195.197963 97.744593 \r\nL 195.960779 97.430553 \r\nL 196.723596 96.813826 \r\nL 199.77486 93.560347 \r\nL 200.537676 93.050617 \r\nL 201.300492 92.694008 \r\nL 202.063308 92.133912 \r\nL 202.826125 90.722716 \r\nL 203.588941 89.068996 \r\nL 204.351757 88.218485 \r\nL 205.114573 87.594498 \r\nL 205.877389 86.582305 \r\nL 206.640205 86.011482 \r\nL 209.69147 85.415499 \r\nL 210.454286 85.678448 \r\nL 212.742734 88.276387 \r\nL 213.50555 89.023348 \r\nL 214.268367 89.531704 \r\nL 215.031183 89.517826 \r\nL 216.556815 88.086716 \r\nL 217.319631 87.555271 \r\nL 220.370896 86.932453 \r\nL 222.659344 87.150549 \r\nL 224.184976 87.17554 \r\nL 224.947792 86.909215 \r\nL 225.710609 86.314506 \r\nL 227.236241 84.555625 \r\nL 228.761873 83.022657 \r\nL 229.524689 81.764072 \r\nL 231.050321 77.474981 \r\nL 233.33877 70.819032 \r\nL 234.864402 67.644485 \r\nL 235.627218 66.192319 \r\nL 236.390034 65.10901 \r\nL 237.152851 63.425863 \r\nL 241.729747 51.314287 \r\nL 243.25538 47.763209 \r\nL 244.018196 46.379242 \r\nL 246.306644 43.246689 \r\nL 247.06946 41.922381 \r\nL 248.595092 39.072282 \r\nL 249.357909 38.937891 \r\nL 250.883541 40.288517 \r\nL 251.646357 40.676155 \r\nL 252.409173 40.560631 \r\nL 253.171989 39.994666 \r\nL 254.697622 38.462164 \r\nL 255.460438 37.539863 \r\nL 257.748886 34.008583 \r\nL 259.274518 31.912763 \r\nL 260.037334 31.20604 \r\nL 260.800151 30.743991 \r\nL 261.562967 30.068755 \r\nL 263.088599 28.483395 \r\nL 263.851415 27.906216 \r\nL 266.139864 26.685123 \r\nL 268.428312 25.090402 \r\nL 269.191128 24.400476 \r\nL 269.953944 23.544509 \r\nL 273.005209 19.576344 \r\nL 273.768025 18.760983 \r\nL 274.530841 18.366709 \r\nL 275.293657 18.40576 \r\nL 276.056473 18.28547 \r\nL 277.582105 17.510202 \r\nL 278.344922 17.083636 \r\nL 279.870554 17.195465 \r\nL 280.63337 17.597059 \r\nL 281.396186 18.215173 \r\nL 282.921818 18.549012 \r\nL 284.447451 18.707112 \r\nL 285.973083 19.338389 \r\nL 286.735899 19.474272 \r\nL 288.261531 19.303078 \r\nL 289.787164 19.568021 \r\nL 292.075612 18.77355 \r\nL 293.601244 19.102454 \r\nL 295.126876 19.079031 \r\nL 295.889693 19.215516 \r\nL 298.178141 19.177165 \r\nL 300.466589 18.539928 \r\nL 301.229406 18.270233 \r\nL 301.992222 18.18727 \r\nL 302.755038 18.37625 \r\nL 303.517854 18.918204 \r\nL 304.28067 19.869781 \r\nL 305.043486 20.589705 \r\nL 305.806302 20.717127 \r\nL 306.569118 20.307824 \r\nL 308.094751 19.826242 \r\nL 308.857567 19.700884 \r\nL 310.383199 19.940537 \r\nL 311.908831 20.06742 \r\nL 313.434464 19.941471 \r\nL 314.19728 19.915414 \r\nL 314.960096 19.777654 \r\nL 315.722912 19.884342 \r\nL 316.485728 20.428876 \r\nL 317.248544 21.16482 \r\nL 319.536993 22.481435 \r\nL 321.062625 23.393429 \r\nL 321.825441 23.533408 \r\nL 322.588257 23.442859 \r\nL 323.351073 23.159094 \r\nL 325.639522 23.176426 \r\nL 327.165154 23.67704 \r\nL 327.92797 24.024107 \r\nL 328.690786 24.553541 \r\nL 329.453602 24.450523 \r\nL 330.216419 24.603445 \r\nL 330.979235 25.012637 \r\nL 331.742051 25.07863 \r\nL 332.504867 25.384505 \r\nL 334.030499 26.189376 \r\nL 334.793315 26.355162 \r\nL 335.556131 26.718357 \r\nL 336.318948 27.238203 \r\nL 337.081764 27.429021 \r\nL 337.84458 27.272279 \r\nL 339.370212 26.796585 \r\nL 340.133028 26.987559 \r\nL 340.895844 28.365701 \r\nL 341.658661 29.473942 \r\nL 342.421477 30.168532 \r\nL 343.184293 30.253409 \r\nL 346.235557 30.0178 \r\nL 346.998373 29.574776 \r\nL 347.76119 28.930277 \r\nL 348.524006 28.983563 \r\nL 348.524006 28.983563 \r\n\" style=\"fill:none;stroke:#d62728;stroke-linecap:square;stroke-width:1.5;\"/>\r\n   </g>\r\n   <g id=\"patch_3\">\r\n    <path d=\"M 28.942188 224.64 \r\nL 28.942188 7.2 \r\n\" style=\"fill:none;stroke:#000000;stroke-linecap:square;stroke-linejoin:miter;stroke-width:0.8;\"/>\r\n   </g>\r\n   <g id=\"patch_4\">\r\n    <path d=\"M 363.742188 224.64 \r\nL 363.742188 7.2 \r\n\" style=\"fill:none;stroke:#000000;stroke-linecap:square;stroke-linejoin:miter;stroke-width:0.8;\"/>\r\n   </g>\r\n   <g id=\"patch_5\">\r\n    <path d=\"M 28.942188 224.64 \r\nL 363.742188 224.64 \r\n\" style=\"fill:none;stroke:#000000;stroke-linecap:square;stroke-linejoin:miter;stroke-width:0.8;\"/>\r\n   </g>\r\n   <g id=\"patch_6\">\r\n    <path d=\"M 28.942188 7.2 \r\nL 363.742188 7.2 \r\n\" style=\"fill:none;stroke:#000000;stroke-linecap:square;stroke-linejoin:miter;stroke-width:0.8;\"/>\r\n   </g>\r\n   <g id=\"legend_1\">\r\n    <g id=\"patch_7\">\r\n     <path d=\"M 35.942188 73.9125 \r\nL 116.757813 73.9125 \r\nQ 118.757813 73.9125 118.757813 71.9125 \r\nL 118.757813 14.2 \r\nQ 118.757813 12.2 116.757813 12.2 \r\nL 35.942188 12.2 \r\nQ 33.942188 12.2 33.942188 14.2 \r\nL 33.942188 71.9125 \r\nQ 33.942188 73.9125 35.942188 73.9125 \r\nz\r\n\" style=\"fill:#ffffff;opacity:0.8;stroke:#cccccc;stroke-linejoin:miter;\"/>\r\n    </g>\r\n    <g id=\"line2d_22\">\r\n     <path d=\"M 37.942188 20.298437 \r\nL 57.942188 20.298437 \r\n\" style=\"fill:none;stroke:#1f77b4;stroke-linecap:square;stroke-width:1.5;\"/>\r\n    </g>\r\n    <g id=\"line2d_23\"/>\r\n    <g id=\"text_18\">\r\n     <!-- Episode 0 -->\r\n     <defs>\r\n      <path d=\"M 9.8125 72.90625 \r\nL 55.90625 72.90625 \r\nL 55.90625 64.59375 \r\nL 19.671875 64.59375 \r\nL 19.671875 43.015625 \r\nL 54.390625 43.015625 \r\nL 54.390625 34.71875 \r\nL 19.671875 34.71875 \r\nL 19.671875 8.296875 \r\nL 56.78125 8.296875 \r\nL 56.78125 0 \r\nL 9.8125 0 \r\nz\r\n\" id=\"DejaVuSans-69\"/>\r\n      <path d=\"M 18.109375 8.203125 \r\nL 18.109375 -20.796875 \r\nL 9.078125 -20.796875 \r\nL 9.078125 54.6875 \r\nL 18.109375 54.6875 \r\nL 18.109375 46.390625 \r\nQ 20.953125 51.265625 25.265625 53.625 \r\nQ 29.59375 56 35.59375 56 \r\nQ 45.5625 56 51.78125 48.09375 \r\nQ 58.015625 40.1875 58.015625 27.296875 \r\nQ 58.015625 14.40625 51.78125 6.484375 \r\nQ 45.5625 -1.421875 35.59375 -1.421875 \r\nQ 29.59375 -1.421875 25.265625 0.953125 \r\nQ 20.953125 3.328125 18.109375 8.203125 \r\nz\r\nM 48.6875 27.296875 \r\nQ 48.6875 37.203125 44.609375 42.84375 \r\nQ 40.53125 48.484375 33.40625 48.484375 \r\nQ 26.265625 48.484375 22.1875 42.84375 \r\nQ 18.109375 37.203125 18.109375 27.296875 \r\nQ 18.109375 17.390625 22.1875 11.75 \r\nQ 26.265625 6.109375 33.40625 6.109375 \r\nQ 40.53125 6.109375 44.609375 11.75 \r\nQ 48.6875 17.390625 48.6875 27.296875 \r\nz\r\n\" id=\"DejaVuSans-112\"/>\r\n      <path d=\"M 9.421875 54.6875 \r\nL 18.40625 54.6875 \r\nL 18.40625 0 \r\nL 9.421875 0 \r\nz\r\nM 9.421875 75.984375 \r\nL 18.40625 75.984375 \r\nL 18.40625 64.59375 \r\nL 9.421875 64.59375 \r\nz\r\n\" id=\"DejaVuSans-105\"/>\r\n      <path d=\"M 44.28125 53.078125 \r\nL 44.28125 44.578125 \r\nQ 40.484375 46.53125 36.375 47.5 \r\nQ 32.28125 48.484375 27.875 48.484375 \r\nQ 21.1875 48.484375 17.84375 46.4375 \r\nQ 14.5 44.390625 14.5 40.28125 \r\nQ 14.5 37.15625 16.890625 35.375 \r\nQ 19.28125 33.59375 26.515625 31.984375 \r\nL 29.59375 31.296875 \r\nQ 39.15625 29.25 43.1875 25.515625 \r\nQ 47.21875 21.78125 47.21875 15.09375 \r\nQ 47.21875 7.46875 41.1875 3.015625 \r\nQ 35.15625 -1.421875 24.609375 -1.421875 \r\nQ 20.21875 -1.421875 15.453125 -0.5625 \r\nQ 10.6875 0.296875 5.421875 2 \r\nL 5.421875 11.28125 \r\nQ 10.40625 8.6875 15.234375 7.390625 \r\nQ 20.0625 6.109375 24.8125 6.109375 \r\nQ 31.15625 6.109375 34.5625 8.28125 \r\nQ 37.984375 10.453125 37.984375 14.40625 \r\nQ 37.984375 18.0625 35.515625 20.015625 \r\nQ 33.0625 21.96875 24.703125 23.78125 \r\nL 21.578125 24.515625 \r\nQ 13.234375 26.265625 9.515625 29.90625 \r\nQ 5.8125 33.546875 5.8125 39.890625 \r\nQ 5.8125 47.609375 11.28125 51.796875 \r\nQ 16.75 56 26.8125 56 \r\nQ 31.78125 56 36.171875 55.265625 \r\nQ 40.578125 54.546875 44.28125 53.078125 \r\nz\r\n\" id=\"DejaVuSans-115\"/>\r\n      <path d=\"M 30.609375 48.390625 \r\nQ 23.390625 48.390625 19.1875 42.75 \r\nQ 14.984375 37.109375 14.984375 27.296875 \r\nQ 14.984375 17.484375 19.15625 11.84375 \r\nQ 23.34375 6.203125 30.609375 6.203125 \r\nQ 37.796875 6.203125 41.984375 11.859375 \r\nQ 46.1875 17.53125 46.1875 27.296875 \r\nQ 46.1875 37.015625 41.984375 42.703125 \r\nQ 37.796875 48.390625 30.609375 48.390625 \r\nz\r\nM 30.609375 56 \r\nQ 42.328125 56 49.015625 48.375 \r\nQ 55.71875 40.765625 55.71875 27.296875 \r\nQ 55.71875 13.875 49.015625 6.21875 \r\nQ 42.328125 -1.421875 30.609375 -1.421875 \r\nQ 18.84375 -1.421875 12.171875 6.21875 \r\nQ 5.515625 13.875 5.515625 27.296875 \r\nQ 5.515625 40.765625 12.171875 48.375 \r\nQ 18.84375 56 30.609375 56 \r\nz\r\n\" id=\"DejaVuSans-111\"/>\r\n      <path d=\"M 45.40625 46.390625 \r\nL 45.40625 75.984375 \r\nL 54.390625 75.984375 \r\nL 54.390625 0 \r\nL 45.40625 0 \r\nL 45.40625 8.203125 \r\nQ 42.578125 3.328125 38.25 0.953125 \r\nQ 33.9375 -1.421875 27.875 -1.421875 \r\nQ 17.96875 -1.421875 11.734375 6.484375 \r\nQ 5.515625 14.40625 5.515625 27.296875 \r\nQ 5.515625 40.1875 11.734375 48.09375 \r\nQ 17.96875 56 27.875 56 \r\nQ 33.9375 56 38.25 53.625 \r\nQ 42.578125 51.265625 45.40625 46.390625 \r\nz\r\nM 14.796875 27.296875 \r\nQ 14.796875 17.390625 18.875 11.75 \r\nQ 22.953125 6.109375 30.078125 6.109375 \r\nQ 37.203125 6.109375 41.296875 11.75 \r\nQ 45.40625 17.390625 45.40625 27.296875 \r\nQ 45.40625 37.203125 41.296875 42.84375 \r\nQ 37.203125 48.484375 30.078125 48.484375 \r\nQ 22.953125 48.484375 18.875 42.84375 \r\nQ 14.796875 37.203125 14.796875 27.296875 \r\nz\r\n\" id=\"DejaVuSans-100\"/>\r\n      <path d=\"M 56.203125 29.59375 \r\nL 56.203125 25.203125 \r\nL 14.890625 25.203125 \r\nQ 15.484375 15.921875 20.484375 11.0625 \r\nQ 25.484375 6.203125 34.421875 6.203125 \r\nQ 39.59375 6.203125 44.453125 7.46875 \r\nQ 49.3125 8.734375 54.109375 11.28125 \r\nL 54.109375 2.78125 \r\nQ 49.265625 0.734375 44.1875 -0.34375 \r\nQ 39.109375 -1.421875 33.890625 -1.421875 \r\nQ 20.796875 -1.421875 13.15625 6.1875 \r\nQ 5.515625 13.8125 5.515625 26.8125 \r\nQ 5.515625 40.234375 12.765625 48.109375 \r\nQ 20.015625 56 32.328125 56 \r\nQ 43.359375 56 49.78125 48.890625 \r\nQ 56.203125 41.796875 56.203125 29.59375 \r\nz\r\nM 47.21875 32.234375 \r\nQ 47.125 39.59375 43.09375 43.984375 \r\nQ 39.0625 48.390625 32.421875 48.390625 \r\nQ 24.90625 48.390625 20.390625 44.140625 \r\nQ 15.875 39.890625 15.1875 32.171875 \r\nz\r\n\" id=\"DejaVuSans-101\"/>\r\n      <path id=\"DejaVuSans-32\"/>\r\n     </defs>\r\n     <g transform=\"translate(65.942188 23.798437)scale(0.1 -0.1)\">\r\n      <use xlink:href=\"#DejaVuSans-69\"/>\r\n      <use x=\"63.183594\" xlink:href=\"#DejaVuSans-112\"/>\r\n      <use x=\"126.660156\" xlink:href=\"#DejaVuSans-105\"/>\r\n      <use x=\"154.443359\" xlink:href=\"#DejaVuSans-115\"/>\r\n      <use x=\"206.542969\" xlink:href=\"#DejaVuSans-111\"/>\r\n      <use x=\"267.724609\" xlink:href=\"#DejaVuSans-100\"/>\r\n      <use x=\"331.201172\" xlink:href=\"#DejaVuSans-101\"/>\r\n      <use x=\"392.724609\" xlink:href=\"#DejaVuSans-32\"/>\r\n      <use x=\"424.511719\" xlink:href=\"#DejaVuSans-48\"/>\r\n     </g>\r\n    </g>\r\n    <g id=\"line2d_24\">\r\n     <path d=\"M 37.942188 34.976562 \r\nL 57.942188 34.976562 \r\n\" style=\"fill:none;stroke:#ff7f0e;stroke-linecap:square;stroke-width:1.5;\"/>\r\n    </g>\r\n    <g id=\"line2d_25\"/>\r\n    <g id=\"text_19\">\r\n     <!-- Episode 1 -->\r\n     <g transform=\"translate(65.942188 38.476562)scale(0.1 -0.1)\">\r\n      <use xlink:href=\"#DejaVuSans-69\"/>\r\n      <use x=\"63.183594\" xlink:href=\"#DejaVuSans-112\"/>\r\n      <use x=\"126.660156\" xlink:href=\"#DejaVuSans-105\"/>\r\n      <use x=\"154.443359\" xlink:href=\"#DejaVuSans-115\"/>\r\n      <use x=\"206.542969\" xlink:href=\"#DejaVuSans-111\"/>\r\n      <use x=\"267.724609\" xlink:href=\"#DejaVuSans-100\"/>\r\n      <use x=\"331.201172\" xlink:href=\"#DejaVuSans-101\"/>\r\n      <use x=\"392.724609\" xlink:href=\"#DejaVuSans-32\"/>\r\n      <use x=\"424.511719\" xlink:href=\"#DejaVuSans-49\"/>\r\n     </g>\r\n    </g>\r\n    <g id=\"line2d_26\">\r\n     <path d=\"M 37.942188 49.654687 \r\nL 57.942188 49.654687 \r\n\" style=\"fill:none;stroke:#2ca02c;stroke-linecap:square;stroke-width:1.5;\"/>\r\n    </g>\r\n    <g id=\"line2d_27\"/>\r\n    <g id=\"text_20\">\r\n     <!-- Episode 2 -->\r\n     <g transform=\"translate(65.942188 53.154687)scale(0.1 -0.1)\">\r\n      <use xlink:href=\"#DejaVuSans-69\"/>\r\n      <use x=\"63.183594\" xlink:href=\"#DejaVuSans-112\"/>\r\n      <use x=\"126.660156\" xlink:href=\"#DejaVuSans-105\"/>\r\n      <use x=\"154.443359\" xlink:href=\"#DejaVuSans-115\"/>\r\n      <use x=\"206.542969\" xlink:href=\"#DejaVuSans-111\"/>\r\n      <use x=\"267.724609\" xlink:href=\"#DejaVuSans-100\"/>\r\n      <use x=\"331.201172\" xlink:href=\"#DejaVuSans-101\"/>\r\n      <use x=\"392.724609\" xlink:href=\"#DejaVuSans-32\"/>\r\n      <use x=\"424.511719\" xlink:href=\"#DejaVuSans-50\"/>\r\n     </g>\r\n    </g>\r\n    <g id=\"line2d_28\">\r\n     <path d=\"M 37.942188 64.332812 \r\nL 57.942188 64.332812 \r\n\" style=\"fill:none;stroke:#d62728;stroke-linecap:square;stroke-width:1.5;\"/>\r\n    </g>\r\n    <g id=\"line2d_29\"/>\r\n    <g id=\"text_21\">\r\n     <!-- Episode 3 -->\r\n     <g transform=\"translate(65.942188 67.832812)scale(0.1 -0.1)\">\r\n      <use xlink:href=\"#DejaVuSans-69\"/>\r\n      <use x=\"63.183594\" xlink:href=\"#DejaVuSans-112\"/>\r\n      <use x=\"126.660156\" xlink:href=\"#DejaVuSans-105\"/>\r\n      <use x=\"154.443359\" xlink:href=\"#DejaVuSans-115\"/>\r\n      <use x=\"206.542969\" xlink:href=\"#DejaVuSans-111\"/>\r\n      <use x=\"267.724609\" xlink:href=\"#DejaVuSans-100\"/>\r\n      <use x=\"331.201172\" xlink:href=\"#DejaVuSans-101\"/>\r\n      <use x=\"392.724609\" xlink:href=\"#DejaVuSans-32\"/>\r\n      <use x=\"424.511719\" xlink:href=\"#DejaVuSans-51\"/>\r\n     </g>\r\n    </g>\r\n   </g>\r\n  </g>\r\n </g>\r\n <defs>\r\n  <clipPath id=\"pc98a65bbb1\">\r\n   <rect height=\"217.44\" width=\"334.8\" x=\"28.942188\" y=\"7.2\"/>\r\n  </clipPath>\r\n </defs>\r\n</svg>\r\n",
      "image/png": "[encoded data removed]"
     },
     "metadata": {
      "needs_background": "light"
     }
    }
   ],
   "source": [
    "trainer.training_rewards_df.plot()"
   ]
  },
  {
   "cell_type": "code",
   "execution_count": 4,
   "metadata": {},
   "outputs": [
    {
     "output_type": "execute_result",
     "data": {
      "text/plain": "<matplotlib.axes._subplots.AxesSubplot at 0x292c5221fc8>"
     },
     "metadata": {},
     "execution_count": 4
    },
    {
     "output_type": "display_data",
     "data": {
      "text/plain": "<Figure size 432x288 with 1 Axes>",
      "image/svg+xml": "<?xml version=\"1.0\" encoding=\"utf-8\" standalone=\"no\"?>\r\n<!DOCTYPE svg PUBLIC \"-//W3C//DTD SVG 1.1//EN\"\r\n  \"http://www.w3.org/Graphics/SVG/1.1/DTD/svg11.dtd\">\r\n<!-- Created with matplotlib (https://matplotlib.org/) -->\r\n<svg height=\"248.518125pt\" version=\"1.1\" viewBox=\"0 0 370.942187 248.518125\" width=\"370.942187pt\" xmlns=\"http://www.w3.org/2000/svg\" xmlns:xlink=\"http://www.w3.org/1999/xlink\">\r\n <defs>\r\n  <style type=\"text/css\">\r\n*{stroke-linecap:butt;stroke-linejoin:round;}\r\n  </style>\r\n </defs>\r\n <g id=\"figure_1\">\r\n  <g id=\"patch_1\">\r\n   <path d=\"M 0 248.518125 \r\nL 370.942187 248.518125 \r\nL 370.942187 0 \r\nL 0 0 \r\nz\r\n\" style=\"fill:none;\"/>\r\n  </g>\r\n  <g id=\"axes_1\">\r\n   <g id=\"patch_2\">\r\n    <path d=\"M 28.942188 224.64 \r\nL 363.742188 224.64 \r\nL 363.742188 7.2 \r\nL 28.942188 7.2 \r\nz\r\n\" style=\"fill:#ffffff;\"/>\r\n   </g>\r\n   <g id=\"matplotlib.axis_1\">\r\n    <g id=\"xtick_1\">\r\n     <g id=\"line2d_1\">\r\n      <defs>\r\n       <path d=\"M 0 0 \r\nL 0 3.5 \r\n\" id=\"m990f68d979\" style=\"stroke:#000000;stroke-width:0.8;\"/>\r\n      </defs>\r\n      <g>\r\n       <use style=\"stroke:#000000;stroke-width:0.8;\" x=\"44.160369\" xlink:href=\"#m990f68d979\" y=\"224.64\"/>\r\n      </g>\r\n     </g>\r\n     <g id=\"text_1\">\r\n      <!-- 0.0 -->\r\n      <defs>\r\n       <path d=\"M 31.78125 66.40625 \r\nQ 24.171875 66.40625 20.328125 58.90625 \r\nQ 16.5 51.421875 16.5 36.375 \r\nQ 16.5 21.390625 20.328125 13.890625 \r\nQ 24.171875 6.390625 31.78125 6.390625 \r\nQ 39.453125 6.390625 43.28125 13.890625 \r\nQ 47.125 21.390625 47.125 36.375 \r\nQ 47.125 51.421875 43.28125 58.90625 \r\nQ 39.453125 66.40625 31.78125 66.40625 \r\nz\r\nM 31.78125 74.21875 \r\nQ 44.046875 74.21875 50.515625 64.515625 \r\nQ 56.984375 54.828125 56.984375 36.375 \r\nQ 56.984375 17.96875 50.515625 8.265625 \r\nQ 44.046875 -1.421875 31.78125 -1.421875 \r\nQ 19.53125 -1.421875 13.0625 8.265625 \r\nQ 6.59375 17.96875 6.59375 36.375 \r\nQ 6.59375 54.828125 13.0625 64.515625 \r\nQ 19.53125 74.21875 31.78125 74.21875 \r\nz\r\n\" id=\"DejaVuSans-48\"/>\r\n       <path d=\"M 10.6875 12.40625 \r\nL 21 12.40625 \r\nL 21 0 \r\nL 10.6875 0 \r\nz\r\n\" id=\"DejaVuSans-46\"/>\r\n      </defs>\r\n      <g transform=\"translate(36.208807 239.238437)scale(0.1 -0.1)\">\r\n       <use xlink:href=\"#DejaVuSans-48\"/>\r\n       <use x=\"63.623047\" xlink:href=\"#DejaVuSans-46\"/>\r\n       <use x=\"95.410156\" xlink:href=\"#DejaVuSans-48\"/>\r\n      </g>\r\n     </g>\r\n    </g>\r\n    <g id=\"xtick_2\">\r\n     <g id=\"line2d_2\">\r\n      <g>\r\n       <use style=\"stroke:#000000;stroke-width:0.8;\" x=\"105.033097\" xlink:href=\"#m990f68d979\" y=\"224.64\"/>\r\n      </g>\r\n     </g>\r\n     <g id=\"text_2\">\r\n      <!-- 0.2 -->\r\n      <defs>\r\n       <path d=\"M 19.1875 8.296875 \r\nL 53.609375 8.296875 \r\nL 53.609375 0 \r\nL 7.328125 0 \r\nL 7.328125 8.296875 \r\nQ 12.9375 14.109375 22.625 23.890625 \r\nQ 32.328125 33.6875 34.8125 36.53125 \r\nQ 39.546875 41.84375 41.421875 45.53125 \r\nQ 43.3125 49.21875 43.3125 52.78125 \r\nQ 43.3125 58.59375 39.234375 62.25 \r\nQ 35.15625 65.921875 28.609375 65.921875 \r\nQ 23.96875 65.921875 18.8125 64.3125 \r\nQ 13.671875 62.703125 7.8125 59.421875 \r\nL 7.8125 69.390625 \r\nQ 13.765625 71.78125 18.9375 73 \r\nQ 24.125 74.21875 28.421875 74.21875 \r\nQ 39.75 74.21875 46.484375 68.546875 \r\nQ 53.21875 62.890625 53.21875 53.421875 \r\nQ 53.21875 48.921875 51.53125 44.890625 \r\nQ 49.859375 40.875 45.40625 35.40625 \r\nQ 44.1875 33.984375 37.640625 27.21875 \r\nQ 31.109375 20.453125 19.1875 8.296875 \r\nz\r\n\" id=\"DejaVuSans-50\"/>\r\n      </defs>\r\n      <g transform=\"translate(97.081534 239.238437)scale(0.1 -0.1)\">\r\n       <use xlink:href=\"#DejaVuSans-48\"/>\r\n       <use x=\"63.623047\" xlink:href=\"#DejaVuSans-46\"/>\r\n       <use x=\"95.410156\" xlink:href=\"#DejaVuSans-50\"/>\r\n      </g>\r\n     </g>\r\n    </g>\r\n    <g id=\"xtick_3\">\r\n     <g id=\"line2d_3\">\r\n      <g>\r\n       <use style=\"stroke:#000000;stroke-width:0.8;\" x=\"165.905824\" xlink:href=\"#m990f68d979\" y=\"224.64\"/>\r\n      </g>\r\n     </g>\r\n     <g id=\"text_3\">\r\n      <!-- 0.4 -->\r\n      <defs>\r\n       <path d=\"M 37.796875 64.3125 \r\nL 12.890625 25.390625 \r\nL 37.796875 25.390625 \r\nz\r\nM 35.203125 72.90625 \r\nL 47.609375 72.90625 \r\nL 47.609375 25.390625 \r\nL 58.015625 25.390625 \r\nL 58.015625 17.1875 \r\nL 47.609375 17.1875 \r\nL 47.609375 0 \r\nL 37.796875 0 \r\nL 37.796875 17.1875 \r\nL 4.890625 17.1875 \r\nL 4.890625 26.703125 \r\nz\r\n\" id=\"DejaVuSans-52\"/>\r\n      </defs>\r\n      <g transform=\"translate(157.954261 239.238437)scale(0.1 -0.1)\">\r\n       <use xlink:href=\"#DejaVuSans-48\"/>\r\n       <use x=\"63.623047\" xlink:href=\"#DejaVuSans-46\"/>\r\n       <use x=\"95.410156\" xlink:href=\"#DejaVuSans-52\"/>\r\n      </g>\r\n     </g>\r\n    </g>\r\n    <g id=\"xtick_4\">\r\n     <g id=\"line2d_4\">\r\n      <g>\r\n       <use style=\"stroke:#000000;stroke-width:0.8;\" x=\"226.778551\" xlink:href=\"#m990f68d979\" y=\"224.64\"/>\r\n      </g>\r\n     </g>\r\n     <g id=\"text_4\">\r\n      <!-- 0.6 -->\r\n      <defs>\r\n       <path d=\"M 33.015625 40.375 \r\nQ 26.375 40.375 22.484375 35.828125 \r\nQ 18.609375 31.296875 18.609375 23.390625 \r\nQ 18.609375 15.53125 22.484375 10.953125 \r\nQ 26.375 6.390625 33.015625 6.390625 \r\nQ 39.65625 6.390625 43.53125 10.953125 \r\nQ 47.40625 15.53125 47.40625 23.390625 \r\nQ 47.40625 31.296875 43.53125 35.828125 \r\nQ 39.65625 40.375 33.015625 40.375 \r\nz\r\nM 52.59375 71.296875 \r\nL 52.59375 62.3125 \r\nQ 48.875 64.0625 45.09375 64.984375 \r\nQ 41.3125 65.921875 37.59375 65.921875 \r\nQ 27.828125 65.921875 22.671875 59.328125 \r\nQ 17.53125 52.734375 16.796875 39.40625 \r\nQ 19.671875 43.65625 24.015625 45.921875 \r\nQ 28.375 48.1875 33.59375 48.1875 \r\nQ 44.578125 48.1875 50.953125 41.515625 \r\nQ 57.328125 34.859375 57.328125 23.390625 \r\nQ 57.328125 12.15625 50.6875 5.359375 \r\nQ 44.046875 -1.421875 33.015625 -1.421875 \r\nQ 20.359375 -1.421875 13.671875 8.265625 \r\nQ 6.984375 17.96875 6.984375 36.375 \r\nQ 6.984375 53.65625 15.1875 63.9375 \r\nQ 23.390625 74.21875 37.203125 74.21875 \r\nQ 40.921875 74.21875 44.703125 73.484375 \r\nQ 48.484375 72.75 52.59375 71.296875 \r\nz\r\n\" id=\"DejaVuSans-54\"/>\r\n      </defs>\r\n      <g transform=\"translate(218.826989 239.238437)scale(0.1 -0.1)\">\r\n       <use xlink:href=\"#DejaVuSans-48\"/>\r\n       <use x=\"63.623047\" xlink:href=\"#DejaVuSans-46\"/>\r\n       <use x=\"95.410156\" xlink:href=\"#DejaVuSans-54\"/>\r\n      </g>\r\n     </g>\r\n    </g>\r\n    <g id=\"xtick_5\">\r\n     <g id=\"line2d_5\">\r\n      <g>\r\n       <use style=\"stroke:#000000;stroke-width:0.8;\" x=\"287.651278\" xlink:href=\"#m990f68d979\" y=\"224.64\"/>\r\n      </g>\r\n     </g>\r\n     <g id=\"text_5\">\r\n      <!-- 0.8 -->\r\n      <defs>\r\n       <path d=\"M 31.78125 34.625 \r\nQ 24.75 34.625 20.71875 30.859375 \r\nQ 16.703125 27.09375 16.703125 20.515625 \r\nQ 16.703125 13.921875 20.71875 10.15625 \r\nQ 24.75 6.390625 31.78125 6.390625 \r\nQ 38.8125 6.390625 42.859375 10.171875 \r\nQ 46.921875 13.96875 46.921875 20.515625 \r\nQ 46.921875 27.09375 42.890625 30.859375 \r\nQ 38.875 34.625 31.78125 34.625 \r\nz\r\nM 21.921875 38.8125 \r\nQ 15.578125 40.375 12.03125 44.71875 \r\nQ 8.5 49.078125 8.5 55.328125 \r\nQ 8.5 64.0625 14.71875 69.140625 \r\nQ 20.953125 74.21875 31.78125 74.21875 \r\nQ 42.671875 74.21875 48.875 69.140625 \r\nQ 55.078125 64.0625 55.078125 55.328125 \r\nQ 55.078125 49.078125 51.53125 44.71875 \r\nQ 48 40.375 41.703125 38.8125 \r\nQ 48.828125 37.15625 52.796875 32.3125 \r\nQ 56.78125 27.484375 56.78125 20.515625 \r\nQ 56.78125 9.90625 50.3125 4.234375 \r\nQ 43.84375 -1.421875 31.78125 -1.421875 \r\nQ 19.734375 -1.421875 13.25 4.234375 \r\nQ 6.78125 9.90625 6.78125 20.515625 \r\nQ 6.78125 27.484375 10.78125 32.3125 \r\nQ 14.796875 37.15625 21.921875 38.8125 \r\nz\r\nM 18.3125 54.390625 \r\nQ 18.3125 48.734375 21.84375 45.5625 \r\nQ 25.390625 42.390625 31.78125 42.390625 \r\nQ 38.140625 42.390625 41.71875 45.5625 \r\nQ 45.3125 48.734375 45.3125 54.390625 \r\nQ 45.3125 60.0625 41.71875 63.234375 \r\nQ 38.140625 66.40625 31.78125 66.40625 \r\nQ 25.390625 66.40625 21.84375 63.234375 \r\nQ 18.3125 60.0625 18.3125 54.390625 \r\nz\r\n\" id=\"DejaVuSans-56\"/>\r\n      </defs>\r\n      <g transform=\"translate(279.699716 239.238437)scale(0.1 -0.1)\">\r\n       <use xlink:href=\"#DejaVuSans-48\"/>\r\n       <use x=\"63.623047\" xlink:href=\"#DejaVuSans-46\"/>\r\n       <use x=\"95.410156\" xlink:href=\"#DejaVuSans-56\"/>\r\n      </g>\r\n     </g>\r\n    </g>\r\n    <g id=\"xtick_6\">\r\n     <g id=\"line2d_6\">\r\n      <g>\r\n       <use style=\"stroke:#000000;stroke-width:0.8;\" x=\"348.524006\" xlink:href=\"#m990f68d979\" y=\"224.64\"/>\r\n      </g>\r\n     </g>\r\n     <g id=\"text_6\">\r\n      <!-- 1.0 -->\r\n      <defs>\r\n       <path d=\"M 12.40625 8.296875 \r\nL 28.515625 8.296875 \r\nL 28.515625 63.921875 \r\nL 10.984375 60.40625 \r\nL 10.984375 69.390625 \r\nL 28.421875 72.90625 \r\nL 38.28125 72.90625 \r\nL 38.28125 8.296875 \r\nL 54.390625 8.296875 \r\nL 54.390625 0 \r\nL 12.40625 0 \r\nz\r\n\" id=\"DejaVuSans-49\"/>\r\n      </defs>\r\n      <g transform=\"translate(340.572443 239.238437)scale(0.1 -0.1)\">\r\n       <use xlink:href=\"#DejaVuSans-49\"/>\r\n       <use x=\"63.623047\" xlink:href=\"#DejaVuSans-46\"/>\r\n       <use x=\"95.410156\" xlink:href=\"#DejaVuSans-48\"/>\r\n      </g>\r\n     </g>\r\n    </g>\r\n   </g>\r\n   <g id=\"matplotlib.axis_2\">\r\n    <g id=\"ytick_1\">\r\n     <g id=\"line2d_7\">\r\n      <defs>\r\n       <path d=\"M 0 0 \r\nL -3.5 0 \r\n\" id=\"m51df289daa\" style=\"stroke:#000000;stroke-width:0.8;\"/>\r\n      </defs>\r\n      <g>\r\n       <use style=\"stroke:#000000;stroke-width:0.8;\" x=\"28.942188\" xlink:href=\"#m51df289daa\" y=\"199.807328\"/>\r\n      </g>\r\n     </g>\r\n     <g id=\"text_7\">\r\n      <!-- −2 -->\r\n      <defs>\r\n       <path d=\"M 10.59375 35.5 \r\nL 73.1875 35.5 \r\nL 73.1875 27.203125 \r\nL 10.59375 27.203125 \r\nz\r\n\" id=\"DejaVuSans-8722\"/>\r\n      </defs>\r\n      <g transform=\"translate(7.2 203.606547)scale(0.1 -0.1)\">\r\n       <use xlink:href=\"#DejaVuSans-8722\"/>\r\n       <use x=\"83.789062\" xlink:href=\"#DejaVuSans-50\"/>\r\n      </g>\r\n     </g>\r\n    </g>\r\n    <g id=\"ytick_2\">\r\n     <g id=\"line2d_8\">\r\n      <g>\r\n       <use style=\"stroke:#000000;stroke-width:0.8;\" x=\"28.942188\" xlink:href=\"#m51df289daa\" y=\"173.533695\"/>\r\n      </g>\r\n     </g>\r\n     <g id=\"text_8\">\r\n      <!-- −1 -->\r\n      <g transform=\"translate(7.2 177.332913)scale(0.1 -0.1)\">\r\n       <use xlink:href=\"#DejaVuSans-8722\"/>\r\n       <use x=\"83.789062\" xlink:href=\"#DejaVuSans-49\"/>\r\n      </g>\r\n     </g>\r\n    </g>\r\n    <g id=\"ytick_3\">\r\n     <g id=\"line2d_9\">\r\n      <g>\r\n       <use style=\"stroke:#000000;stroke-width:0.8;\" x=\"28.942188\" xlink:href=\"#m51df289daa\" y=\"147.260061\"/>\r\n      </g>\r\n     </g>\r\n     <g id=\"text_9\">\r\n      <!-- 0 -->\r\n      <g transform=\"translate(15.579688 151.05928)scale(0.1 -0.1)\">\r\n       <use xlink:href=\"#DejaVuSans-48\"/>\r\n      </g>\r\n     </g>\r\n    </g>\r\n    <g id=\"ytick_4\">\r\n     <g id=\"line2d_10\">\r\n      <g>\r\n       <use style=\"stroke:#000000;stroke-width:0.8;\" x=\"28.942188\" xlink:href=\"#m51df289daa\" y=\"120.986427\"/>\r\n      </g>\r\n     </g>\r\n     <g id=\"text_10\">\r\n      <!-- 1 -->\r\n      <g transform=\"translate(15.579688 124.785646)scale(0.1 -0.1)\">\r\n       <use xlink:href=\"#DejaVuSans-49\"/>\r\n      </g>\r\n     </g>\r\n    </g>\r\n    <g id=\"ytick_5\">\r\n     <g id=\"line2d_11\">\r\n      <g>\r\n       <use style=\"stroke:#000000;stroke-width:0.8;\" x=\"28.942188\" xlink:href=\"#m51df289daa\" y=\"94.712793\"/>\r\n      </g>\r\n     </g>\r\n     <g id=\"text_11\">\r\n      <!-- 2 -->\r\n      <g transform=\"translate(15.579688 98.512012)scale(0.1 -0.1)\">\r\n       <use xlink:href=\"#DejaVuSans-50\"/>\r\n      </g>\r\n     </g>\r\n    </g>\r\n    <g id=\"ytick_6\">\r\n     <g id=\"line2d_12\">\r\n      <g>\r\n       <use style=\"stroke:#000000;stroke-width:0.8;\" x=\"28.942188\" xlink:href=\"#m51df289daa\" y=\"68.43916\"/>\r\n      </g>\r\n     </g>\r\n     <g id=\"text_12\">\r\n      <!-- 3 -->\r\n      <defs>\r\n       <path d=\"M 40.578125 39.3125 \r\nQ 47.65625 37.796875 51.625 33 \r\nQ 55.609375 28.21875 55.609375 21.1875 \r\nQ 55.609375 10.40625 48.1875 4.484375 \r\nQ 40.765625 -1.421875 27.09375 -1.421875 \r\nQ 22.515625 -1.421875 17.65625 -0.515625 \r\nQ 12.796875 0.390625 7.625 2.203125 \r\nL 7.625 11.71875 \r\nQ 11.71875 9.328125 16.59375 8.109375 \r\nQ 21.484375 6.890625 26.8125 6.890625 \r\nQ 36.078125 6.890625 40.9375 10.546875 \r\nQ 45.796875 14.203125 45.796875 21.1875 \r\nQ 45.796875 27.640625 41.28125 31.265625 \r\nQ 36.765625 34.90625 28.71875 34.90625 \r\nL 20.21875 34.90625 \r\nL 20.21875 43.015625 \r\nL 29.109375 43.015625 \r\nQ 36.375 43.015625 40.234375 45.921875 \r\nQ 44.09375 48.828125 44.09375 54.296875 \r\nQ 44.09375 59.90625 40.109375 62.90625 \r\nQ 36.140625 65.921875 28.71875 65.921875 \r\nQ 24.65625 65.921875 20.015625 65.03125 \r\nQ 15.375 64.15625 9.8125 62.3125 \r\nL 9.8125 71.09375 \r\nQ 15.4375 72.65625 20.34375 73.4375 \r\nQ 25.25 74.21875 29.59375 74.21875 \r\nQ 40.828125 74.21875 47.359375 69.109375 \r\nQ 53.90625 64.015625 53.90625 55.328125 \r\nQ 53.90625 49.265625 50.4375 45.09375 \r\nQ 46.96875 40.921875 40.578125 39.3125 \r\nz\r\n\" id=\"DejaVuSans-51\"/>\r\n      </defs>\r\n      <g transform=\"translate(15.579688 72.238378)scale(0.1 -0.1)\">\r\n       <use xlink:href=\"#DejaVuSans-51\"/>\r\n      </g>\r\n     </g>\r\n    </g>\r\n    <g id=\"ytick_7\">\r\n     <g id=\"line2d_13\">\r\n      <g>\r\n       <use style=\"stroke:#000000;stroke-width:0.8;\" x=\"28.942188\" xlink:href=\"#m51df289daa\" y=\"42.165526\"/>\r\n      </g>\r\n     </g>\r\n     <g id=\"text_13\">\r\n      <!-- 4 -->\r\n      <g transform=\"translate(15.579688 45.964745)scale(0.1 -0.1)\">\r\n       <use xlink:href=\"#DejaVuSans-52\"/>\r\n      </g>\r\n     </g>\r\n    </g>\r\n    <g id=\"ytick_8\">\r\n     <g id=\"line2d_14\">\r\n      <g>\r\n       <use style=\"stroke:#000000;stroke-width:0.8;\" x=\"28.942188\" xlink:href=\"#m51df289daa\" y=\"15.891892\"/>\r\n      </g>\r\n     </g>\r\n     <g id=\"text_14\">\r\n      <!-- 5 -->\r\n      <defs>\r\n       <path d=\"M 10.796875 72.90625 \r\nL 49.515625 72.90625 \r\nL 49.515625 64.59375 \r\nL 19.828125 64.59375 \r\nL 19.828125 46.734375 \r\nQ 21.96875 47.46875 24.109375 47.828125 \r\nQ 26.265625 48.1875 28.421875 48.1875 \r\nQ 40.625 48.1875 47.75 41.5 \r\nQ 54.890625 34.8125 54.890625 23.390625 \r\nQ 54.890625 11.625 47.5625 5.09375 \r\nQ 40.234375 -1.421875 26.90625 -1.421875 \r\nQ 22.3125 -1.421875 17.546875 -0.640625 \r\nQ 12.796875 0.140625 7.71875 1.703125 \r\nL 7.71875 11.625 \r\nQ 12.109375 9.234375 16.796875 8.0625 \r\nQ 21.484375 6.890625 26.703125 6.890625 \r\nQ 35.15625 6.890625 40.078125 11.328125 \r\nQ 45.015625 15.765625 45.015625 23.390625 \r\nQ 45.015625 31 40.078125 35.4375 \r\nQ 35.15625 39.890625 26.703125 39.890625 \r\nQ 22.75 39.890625 18.8125 39.015625 \r\nQ 14.890625 38.140625 10.796875 36.28125 \r\nz\r\n\" id=\"DejaVuSans-53\"/>\r\n      </defs>\r\n      <g transform=\"translate(15.579688 19.691111)scale(0.1 -0.1)\">\r\n       <use xlink:href=\"#DejaVuSans-53\"/>\r\n      </g>\r\n     </g>\r\n    </g>\r\n   </g>\r\n   <g id=\"line2d_15\">\r\n    <path clip-path=\"url(#p8ee0b73c42)\" d=\"M 44.160369 17.083636 \r\nL 348.524006 214.756364 \r\n\" style=\"fill:none;stroke:#1f77b4;stroke-linecap:square;stroke-width:1.5;\"/>\r\n   </g>\r\n   <g id=\"line2d_16\">\r\n    <path clip-path=\"url(#p8ee0b73c42)\" d=\"M 44.160369 147.260061 \r\nL 348.524006 120.986427 \r\n\" style=\"fill:none;stroke:#ff7f0e;stroke-linecap:square;stroke-width:1.5;\"/>\r\n   </g>\r\n   <g id=\"patch_3\">\r\n    <path d=\"M 28.942188 224.64 \r\nL 28.942188 7.2 \r\n\" style=\"fill:none;stroke:#000000;stroke-linecap:square;stroke-linejoin:miter;stroke-width:0.8;\"/>\r\n   </g>\r\n   <g id=\"patch_4\">\r\n    <path d=\"M 363.742188 224.64 \r\nL 363.742188 7.2 \r\n\" style=\"fill:none;stroke:#000000;stroke-linecap:square;stroke-linejoin:miter;stroke-width:0.8;\"/>\r\n   </g>\r\n   <g id=\"patch_5\">\r\n    <path d=\"M 28.942188 224.64 \r\nL 363.742188 224.64 \r\n\" style=\"fill:none;stroke:#000000;stroke-linecap:square;stroke-linejoin:miter;stroke-width:0.8;\"/>\r\n   </g>\r\n   <g id=\"patch_6\">\r\n    <path d=\"M 28.942188 7.2 \r\nL 363.742188 7.2 \r\n\" style=\"fill:none;stroke:#000000;stroke-linecap:square;stroke-linejoin:miter;stroke-width:0.8;\"/>\r\n   </g>\r\n   <g id=\"legend_1\">\r\n    <g id=\"patch_7\">\r\n     <path d=\"M 285.632812 44.55625 \r\nL 356.742188 44.55625 \r\nQ 358.742188 44.55625 358.742188 42.55625 \r\nL 358.742188 14.2 \r\nQ 358.742188 12.2 356.742188 12.2 \r\nL 285.632812 12.2 \r\nQ 283.632812 12.2 283.632812 14.2 \r\nL 283.632812 42.55625 \r\nQ 283.632812 44.55625 285.632812 44.55625 \r\nz\r\n\" style=\"fill:#ffffff;opacity:0.8;stroke:#cccccc;stroke-linejoin:miter;\"/>\r\n    </g>\r\n    <g id=\"line2d_17\">\r\n     <path d=\"M 287.632812 20.298437 \r\nL 307.632812 20.298437 \r\n\" style=\"fill:none;stroke:#1f77b4;stroke-linecap:square;stroke-width:1.5;\"/>\r\n    </g>\r\n    <g id=\"line2d_18\"/>\r\n    <g id=\"text_15\">\r\n     <!-- reward -->\r\n     <defs>\r\n      <path d=\"M 41.109375 46.296875 \r\nQ 39.59375 47.171875 37.8125 47.578125 \r\nQ 36.03125 48 33.890625 48 \r\nQ 26.265625 48 22.1875 43.046875 \r\nQ 18.109375 38.09375 18.109375 28.8125 \r\nL 18.109375 0 \r\nL 9.078125 0 \r\nL 9.078125 54.6875 \r\nL 18.109375 54.6875 \r\nL 18.109375 46.1875 \r\nQ 20.953125 51.171875 25.484375 53.578125 \r\nQ 30.03125 56 36.53125 56 \r\nQ 37.453125 56 38.578125 55.875 \r\nQ 39.703125 55.765625 41.0625 55.515625 \r\nz\r\n\" id=\"DejaVuSans-114\"/>\r\n      <path d=\"M 56.203125 29.59375 \r\nL 56.203125 25.203125 \r\nL 14.890625 25.203125 \r\nQ 15.484375 15.921875 20.484375 11.0625 \r\nQ 25.484375 6.203125 34.421875 6.203125 \r\nQ 39.59375 6.203125 44.453125 7.46875 \r\nQ 49.3125 8.734375 54.109375 11.28125 \r\nL 54.109375 2.78125 \r\nQ 49.265625 0.734375 44.1875 -0.34375 \r\nQ 39.109375 -1.421875 33.890625 -1.421875 \r\nQ 20.796875 -1.421875 13.15625 6.1875 \r\nQ 5.515625 13.8125 5.515625 26.8125 \r\nQ 5.515625 40.234375 12.765625 48.109375 \r\nQ 20.015625 56 32.328125 56 \r\nQ 43.359375 56 49.78125 48.890625 \r\nQ 56.203125 41.796875 56.203125 29.59375 \r\nz\r\nM 47.21875 32.234375 \r\nQ 47.125 39.59375 43.09375 43.984375 \r\nQ 39.0625 48.390625 32.421875 48.390625 \r\nQ 24.90625 48.390625 20.390625 44.140625 \r\nQ 15.875 39.890625 15.1875 32.171875 \r\nz\r\n\" id=\"DejaVuSans-101\"/>\r\n      <path d=\"M 4.203125 54.6875 \r\nL 13.1875 54.6875 \r\nL 24.421875 12.015625 \r\nL 35.59375 54.6875 \r\nL 46.1875 54.6875 \r\nL 57.421875 12.015625 \r\nL 68.609375 54.6875 \r\nL 77.59375 54.6875 \r\nL 63.28125 0 \r\nL 52.6875 0 \r\nL 40.921875 44.828125 \r\nL 29.109375 0 \r\nL 18.5 0 \r\nz\r\n\" id=\"DejaVuSans-119\"/>\r\n      <path d=\"M 34.28125 27.484375 \r\nQ 23.390625 27.484375 19.1875 25 \r\nQ 14.984375 22.515625 14.984375 16.5 \r\nQ 14.984375 11.71875 18.140625 8.90625 \r\nQ 21.296875 6.109375 26.703125 6.109375 \r\nQ 34.1875 6.109375 38.703125 11.40625 \r\nQ 43.21875 16.703125 43.21875 25.484375 \r\nL 43.21875 27.484375 \r\nz\r\nM 52.203125 31.203125 \r\nL 52.203125 0 \r\nL 43.21875 0 \r\nL 43.21875 8.296875 \r\nQ 40.140625 3.328125 35.546875 0.953125 \r\nQ 30.953125 -1.421875 24.3125 -1.421875 \r\nQ 15.921875 -1.421875 10.953125 3.296875 \r\nQ 6 8.015625 6 15.921875 \r\nQ 6 25.140625 12.171875 29.828125 \r\nQ 18.359375 34.515625 30.609375 34.515625 \r\nL 43.21875 34.515625 \r\nL 43.21875 35.40625 \r\nQ 43.21875 41.609375 39.140625 45 \r\nQ 35.0625 48.390625 27.6875 48.390625 \r\nQ 23 48.390625 18.546875 47.265625 \r\nQ 14.109375 46.140625 10.015625 43.890625 \r\nL 10.015625 52.203125 \r\nQ 14.9375 54.109375 19.578125 55.046875 \r\nQ 24.21875 56 28.609375 56 \r\nQ 40.484375 56 46.34375 49.84375 \r\nQ 52.203125 43.703125 52.203125 31.203125 \r\nz\r\n\" id=\"DejaVuSans-97\"/>\r\n      <path d=\"M 45.40625 46.390625 \r\nL 45.40625 75.984375 \r\nL 54.390625 75.984375 \r\nL 54.390625 0 \r\nL 45.40625 0 \r\nL 45.40625 8.203125 \r\nQ 42.578125 3.328125 38.25 0.953125 \r\nQ 33.9375 -1.421875 27.875 -1.421875 \r\nQ 17.96875 -1.421875 11.734375 6.484375 \r\nQ 5.515625 14.40625 5.515625 27.296875 \r\nQ 5.515625 40.1875 11.734375 48.09375 \r\nQ 17.96875 56 27.875 56 \r\nQ 33.9375 56 38.25 53.625 \r\nQ 42.578125 51.265625 45.40625 46.390625 \r\nz\r\nM 14.796875 27.296875 \r\nQ 14.796875 17.390625 18.875 11.75 \r\nQ 22.953125 6.109375 30.078125 6.109375 \r\nQ 37.203125 6.109375 41.296875 11.75 \r\nQ 45.40625 17.390625 45.40625 27.296875 \r\nQ 45.40625 37.203125 41.296875 42.84375 \r\nQ 37.203125 48.484375 30.078125 48.484375 \r\nQ 22.953125 48.484375 18.875 42.84375 \r\nQ 14.796875 37.203125 14.796875 27.296875 \r\nz\r\n\" id=\"DejaVuSans-100\"/>\r\n     </defs>\r\n     <g transform=\"translate(315.632812 23.798437)scale(0.1 -0.1)\">\r\n      <use xlink:href=\"#DejaVuSans-114\"/>\r\n      <use x=\"38.863281\" xlink:href=\"#DejaVuSans-101\"/>\r\n      <use x=\"100.386719\" xlink:href=\"#DejaVuSans-119\"/>\r\n      <use x=\"182.173828\" xlink:href=\"#DejaVuSans-97\"/>\r\n      <use x=\"243.453125\" xlink:href=\"#DejaVuSans-114\"/>\r\n      <use x=\"282.816406\" xlink:href=\"#DejaVuSans-100\"/>\r\n     </g>\r\n    </g>\r\n    <g id=\"line2d_19\">\r\n     <path d=\"M 287.632812 34.976562 \r\nL 307.632812 34.976562 \r\n\" style=\"fill:none;stroke:#ff7f0e;stroke-linecap:square;stroke-width:1.5;\"/>\r\n    </g>\r\n    <g id=\"line2d_20\"/>\r\n    <g id=\"text_16\">\r\n     <!-- episode -->\r\n     <defs>\r\n      <path d=\"M 18.109375 8.203125 \r\nL 18.109375 -20.796875 \r\nL 9.078125 -20.796875 \r\nL 9.078125 54.6875 \r\nL 18.109375 54.6875 \r\nL 18.109375 46.390625 \r\nQ 20.953125 51.265625 25.265625 53.625 \r\nQ 29.59375 56 35.59375 56 \r\nQ 45.5625 56 51.78125 48.09375 \r\nQ 58.015625 40.1875 58.015625 27.296875 \r\nQ 58.015625 14.40625 51.78125 6.484375 \r\nQ 45.5625 -1.421875 35.59375 -1.421875 \r\nQ 29.59375 -1.421875 25.265625 0.953125 \r\nQ 20.953125 3.328125 18.109375 8.203125 \r\nz\r\nM 48.6875 27.296875 \r\nQ 48.6875 37.203125 44.609375 42.84375 \r\nQ 40.53125 48.484375 33.40625 48.484375 \r\nQ 26.265625 48.484375 22.1875 42.84375 \r\nQ 18.109375 37.203125 18.109375 27.296875 \r\nQ 18.109375 17.390625 22.1875 11.75 \r\nQ 26.265625 6.109375 33.40625 6.109375 \r\nQ 40.53125 6.109375 44.609375 11.75 \r\nQ 48.6875 17.390625 48.6875 27.296875 \r\nz\r\n\" id=\"DejaVuSans-112\"/>\r\n      <path d=\"M 9.421875 54.6875 \r\nL 18.40625 54.6875 \r\nL 18.40625 0 \r\nL 9.421875 0 \r\nz\r\nM 9.421875 75.984375 \r\nL 18.40625 75.984375 \r\nL 18.40625 64.59375 \r\nL 9.421875 64.59375 \r\nz\r\n\" id=\"DejaVuSans-105\"/>\r\n      <path d=\"M 44.28125 53.078125 \r\nL 44.28125 44.578125 \r\nQ 40.484375 46.53125 36.375 47.5 \r\nQ 32.28125 48.484375 27.875 48.484375 \r\nQ 21.1875 48.484375 17.84375 46.4375 \r\nQ 14.5 44.390625 14.5 40.28125 \r\nQ 14.5 37.15625 16.890625 35.375 \r\nQ 19.28125 33.59375 26.515625 31.984375 \r\nL 29.59375 31.296875 \r\nQ 39.15625 29.25 43.1875 25.515625 \r\nQ 47.21875 21.78125 47.21875 15.09375 \r\nQ 47.21875 7.46875 41.1875 3.015625 \r\nQ 35.15625 -1.421875 24.609375 -1.421875 \r\nQ 20.21875 -1.421875 15.453125 -0.5625 \r\nQ 10.6875 0.296875 5.421875 2 \r\nL 5.421875 11.28125 \r\nQ 10.40625 8.6875 15.234375 7.390625 \r\nQ 20.0625 6.109375 24.8125 6.109375 \r\nQ 31.15625 6.109375 34.5625 8.28125 \r\nQ 37.984375 10.453125 37.984375 14.40625 \r\nQ 37.984375 18.0625 35.515625 20.015625 \r\nQ 33.0625 21.96875 24.703125 23.78125 \r\nL 21.578125 24.515625 \r\nQ 13.234375 26.265625 9.515625 29.90625 \r\nQ 5.8125 33.546875 5.8125 39.890625 \r\nQ 5.8125 47.609375 11.28125 51.796875 \r\nQ 16.75 56 26.8125 56 \r\nQ 31.78125 56 36.171875 55.265625 \r\nQ 40.578125 54.546875 44.28125 53.078125 \r\nz\r\n\" id=\"DejaVuSans-115\"/>\r\n      <path d=\"M 30.609375 48.390625 \r\nQ 23.390625 48.390625 19.1875 42.75 \r\nQ 14.984375 37.109375 14.984375 27.296875 \r\nQ 14.984375 17.484375 19.15625 11.84375 \r\nQ 23.34375 6.203125 30.609375 6.203125 \r\nQ 37.796875 6.203125 41.984375 11.859375 \r\nQ 46.1875 17.53125 46.1875 27.296875 \r\nQ 46.1875 37.015625 41.984375 42.703125 \r\nQ 37.796875 48.390625 30.609375 48.390625 \r\nz\r\nM 30.609375 56 \r\nQ 42.328125 56 49.015625 48.375 \r\nQ 55.71875 40.765625 55.71875 27.296875 \r\nQ 55.71875 13.875 49.015625 6.21875 \r\nQ 42.328125 -1.421875 30.609375 -1.421875 \r\nQ 18.84375 -1.421875 12.171875 6.21875 \r\nQ 5.515625 13.875 5.515625 27.296875 \r\nQ 5.515625 40.765625 12.171875 48.375 \r\nQ 18.84375 56 30.609375 56 \r\nz\r\n\" id=\"DejaVuSans-111\"/>\r\n     </defs>\r\n     <g transform=\"translate(315.632812 38.476562)scale(0.1 -0.1)\">\r\n      <use xlink:href=\"#DejaVuSans-101\"/>\r\n      <use x=\"61.523438\" xlink:href=\"#DejaVuSans-112\"/>\r\n      <use x=\"125\" xlink:href=\"#DejaVuSans-105\"/>\r\n      <use x=\"152.783203\" xlink:href=\"#DejaVuSans-115\"/>\r\n      <use x=\"204.882812\" xlink:href=\"#DejaVuSans-111\"/>\r\n      <use x=\"266.064453\" xlink:href=\"#DejaVuSans-100\"/>\r\n      <use x=\"329.541016\" xlink:href=\"#DejaVuSans-101\"/>\r\n     </g>\r\n    </g>\r\n   </g>\r\n  </g>\r\n </g>\r\n <defs>\r\n  <clipPath id=\"p8ee0b73c42\">\r\n   <rect height=\"217.44\" width=\"334.8\" x=\"28.942188\" y=\"7.2\"/>\r\n  </clipPath>\r\n </defs>\r\n</svg>\r\n",
      "image/png": "[encoded data removed]"
     },
     "metadata": {
      "needs_background": "light"
     }
    }
   ],
   "source": [
    "import pandas as pd \n",
    "\n",
    "pd.read_csv(r\"C:\\Users\\email\\Documents\\LMU\\4_Semester\\ASP\\Project\\AlphaWorm\\dev\\models\\2020-06-26\\WormDomain-5_Default\\best_agent\\rewards.csv\").plot()"
   ]
  },
  {
   "cell_type": "code",
   "execution_count": 3,
   "metadata": {
    "tags": []
   },
   "outputs": [
    {
     "output_type": "stream",
     "name": "stderr",
     "text": "26.06.2020 23:04:32 INFO: Environment shut down with return code 0 (CTRL_C_EVENT).\n"
    }
   ],
   "source": [
    "env.close()"
   ]
  },
  {
   "cell_type": "code",
   "execution_count": 5,
   "metadata": {},
   "outputs": [
    {
     "output_type": "display_data",
     "data": {
      "application/vnd.plotly.v1+json": {
       "config": {
        "plotlyServerURL": "https://plot.ly"
       },
       "data": [
        {
         "mode": "markers",
         "name": "Objective Value",
         "type": "scatter",
         "x": [
          0,
          1
         ],
         "y": [
          6.645492023293627,
          3.4315685650217347
         ]
        },
        {
         "name": "Best Value",
         "type": "scatter",
         "x": [
          0,
          1
         ],
         "y": [
          6.645492023293627,
          6.645492023293627
         ]
        }
       ],
       "layout": {
        "template": {
         "data": {
          "bar": [
           {
            "error_x": {
             "color": "#2a3f5f"
            },
            "error_y": {
             "color": "#2a3f5f"
            },
            "marker": {
             "line": {
              "color": "#E5ECF6",
              "width": 0.5
             }
            },
            "type": "bar"
           }
          ],
          "barpolar": [
           {
            "marker": {
             "line": {
              "color": "#E5ECF6",
              "width": 0.5
             }
            },
            "type": "barpolar"
           }
          ],
          "carpet": [
           {
            "aaxis": {
             "endlinecolor": "#2a3f5f",
             "gridcolor": "white",
             "linecolor": "white",
             "minorgridcolor": "white",
             "startlinecolor": "#2a3f5f"
            },
            "baxis": {
             "endlinecolor": "#2a3f5f",
             "gridcolor": "white",
             "linecolor": "white",
             "minorgridcolor": "white",
             "startlinecolor": "#2a3f5f"
            },
            "type": "carpet"
           }
          ],
          "choropleth": [
           {
            "colorbar": {
             "outlinewidth": 0,
             "ticks": ""
            },
            "type": "choropleth"
           }
          ],
          "contour": [
           {
            "colorbar": {
             "outlinewidth": 0,
             "ticks": ""
            },
            "colorscale": [
             [
              0,
              "#0d0887"
             ],
             [
              0.1111111111111111,
              "#46039f"
             ],
             [
              0.2222222222222222,
              "#7201a8"
             ],
             [
              0.3333333333333333,
              "#9c179e"
             ],
             [
              0.4444444444444444,
              "#bd3786"
             ],
             [
              0.5555555555555556,
              "#d8576b"
             ],
             [
              0.6666666666666666,
              "#ed7953"
             ],
             [
              0.7777777777777778,
              "#fb9f3a"
             ],
             [
              0.8888888888888888,
              "#fdca26"
             ],
             [
              1,
              "#f0f921"
             ]
            ],
            "type": "contour"
           }
          ],
          "contourcarpet": [
           {
            "colorbar": {
             "outlinewidth": 0,
             "ticks": ""
            },
            "type": "contourcarpet"
           }
          ],
          "heatmap": [
           {
            "colorbar": {
             "outlinewidth": 0,
             "ticks": ""
            },
            "colorscale": [
             [
              0,
              "#0d0887"
             ],
             [
              0.1111111111111111,
              "#46039f"
             ],
             [
              0.2222222222222222,
              "#7201a8"
             ],
             [
              0.3333333333333333,
              "#9c179e"
             ],
             [
              0.4444444444444444,
              "#bd3786"
             ],
             [
              0.5555555555555556,
              "#d8576b"
             ],
             [
              0.6666666666666666,
              "#ed7953"
             ],
             [
              0.7777777777777778,
              "#fb9f3a"
             ],
             [
              0.8888888888888888,
              "#fdca26"
             ],
             [
              1,
              "#f0f921"
             ]
            ],
            "type": "heatmap"
           }
          ],
          "heatmapgl": [
           {
            "colorbar": {
             "outlinewidth": 0,
             "ticks": ""
            },
            "colorscale": [
             [
              0,
              "#0d0887"
             ],
             [
              0.1111111111111111,
              "#46039f"
             ],
             [
              0.2222222222222222,
              "#7201a8"
             ],
             [
              0.3333333333333333,
              "#9c179e"
             ],
             [
              0.4444444444444444,
              "#bd3786"
             ],
             [
              0.5555555555555556,
              "#d8576b"
             ],
             [
              0.6666666666666666,
              "#ed7953"
             ],
             [
              0.7777777777777778,
              "#fb9f3a"
             ],
             [
              0.8888888888888888,
              "#fdca26"
             ],
             [
              1,
              "#f0f921"
             ]
            ],
            "type": "heatmapgl"
           }
          ],
          "histogram": [
           {
            "marker": {
             "colorbar": {
              "outlinewidth": 0,
              "ticks": ""
             }
            },
            "type": "histogram"
           }
          ],
          "histogram2d": [
           {
            "colorbar": {
             "outlinewidth": 0,
             "ticks": ""
            },
            "colorscale": [
             [
              0,
              "#0d0887"
             ],
             [
              0.1111111111111111,
              "#46039f"
             ],
             [
              0.2222222222222222,
              "#7201a8"
             ],
             [
              0.3333333333333333,
              "#9c179e"
             ],
             [
              0.4444444444444444,
              "#bd3786"
             ],
             [
              0.5555555555555556,
              "#d8576b"
             ],
             [
              0.6666666666666666,
              "#ed7953"
             ],
             [
              0.7777777777777778,
              "#fb9f3a"
             ],
             [
              0.8888888888888888,
              "#fdca26"
             ],
             [
              1,
              "#f0f921"
             ]
            ],
            "type": "histogram2d"
           }
          ],
          "histogram2dcontour": [
           {
            "colorbar": {
             "outlinewidth": 0,
             "ticks": ""
            },
            "colorscale": [
             [
              0,
              "#0d0887"
             ],
             [
              0.1111111111111111,
              "#46039f"
             ],
             [
              0.2222222222222222,
              "#7201a8"
             ],
             [
              0.3333333333333333,
              "#9c179e"
             ],
             [
              0.4444444444444444,
              "#bd3786"
             ],
             [
              0.5555555555555556,
              "#d8576b"
             ],
             [
              0.6666666666666666,
              "#ed7953"
             ],
             [
              0.7777777777777778,
              "#fb9f3a"
             ],
             [
              0.8888888888888888,
              "#fdca26"
             ],
             [
              1,
              "#f0f921"
             ]
            ],
            "type": "histogram2dcontour"
           }
          ],
          "mesh3d": [
           {
            "colorbar": {
             "outlinewidth": 0,
             "ticks": ""
            },
            "type": "mesh3d"
           }
          ],
          "parcoords": [
           {
            "line": {
             "colorbar": {
              "outlinewidth": 0,
              "ticks": ""
             }
            },
            "type": "parcoords"
           }
          ],
          "pie": [
           {
            "automargin": true,
            "type": "pie"
           }
          ],
          "scatter": [
           {
            "marker": {
             "colorbar": {
              "outlinewidth": 0,
              "ticks": ""
             }
            },
            "type": "scatter"
           }
          ],
          "scatter3d": [
           {
            "line": {
             "colorbar": {
              "outlinewidth": 0,
              "ticks": ""
             }
            },
            "marker": {
             "colorbar": {
              "outlinewidth": 0,
              "ticks": ""
             }
            },
            "type": "scatter3d"
           }
          ],
          "scattercarpet": [
           {
            "marker": {
             "colorbar": {
              "outlinewidth": 0,
              "ticks": ""
             }
            },
            "type": "scattercarpet"
           }
          ],
          "scattergeo": [
           {
            "marker": {
             "colorbar": {
              "outlinewidth": 0,
              "ticks": ""
             }
            },
            "type": "scattergeo"
           }
          ],
          "scattergl": [
           {
            "marker": {
             "colorbar": {
              "outlinewidth": 0,
              "ticks": ""
             }
            },
            "type": "scattergl"
           }
          ],
          "scattermapbox": [
           {
            "marker": {
             "colorbar": {
              "outlinewidth": 0,
              "ticks": ""
             }
            },
            "type": "scattermapbox"
           }
          ],
          "scatterpolar": [
           {
            "marker": {
             "colorbar": {
              "outlinewidth": 0,
              "ticks": ""
             }
            },
            "type": "scatterpolar"
           }
          ],
          "scatterpolargl": [
           {
            "marker": {
             "colorbar": {
              "outlinewidth": 0,
              "ticks": ""
             }
            },
            "type": "scatterpolargl"
           }
          ],
          "scatterternary": [
           {
            "marker": {
             "colorbar": {
              "outlinewidth": 0,
              "ticks": ""
             }
            },
            "type": "scatterternary"
           }
          ],
          "surface": [
           {
            "colorbar": {
             "outlinewidth": 0,
             "ticks": ""
            },
            "colorscale": [
             [
              0,
              "#0d0887"
             ],
             [
              0.1111111111111111,
              "#46039f"
             ],
             [
              0.2222222222222222,
              "#7201a8"
             ],
             [
              0.3333333333333333,
              "#9c179e"
             ],
             [
              0.4444444444444444,
              "#bd3786"
             ],
             [
              0.5555555555555556,
              "#d8576b"
             ],
             [
              0.6666666666666666,
              "#ed7953"
             ],
             [
              0.7777777777777778,
              "#fb9f3a"
             ],
             [
              0.8888888888888888,
              "#fdca26"
             ],
             [
              1,
              "#f0f921"
             ]
            ],
            "type": "surface"
           }
          ],
          "table": [
           {
            "cells": {
             "fill": {
              "color": "#EBF0F8"
             },
             "line": {
              "color": "white"
             }
            },
            "header": {
             "fill": {
              "color": "#C8D4E3"
             },
             "line": {
              "color": "white"
             }
            },
            "type": "table"
           }
          ]
         },
         "layout": {
          "annotationdefaults": {
           "arrowcolor": "#2a3f5f",
           "arrowhead": 0,
           "arrowwidth": 1
          },
          "coloraxis": {
           "colorbar": {
            "outlinewidth": 0,
            "ticks": ""
           }
          },
          "colorscale": {
           "diverging": [
            [
             0,
             "#8e0152"
            ],
            [
             0.1,
             "#c51b7d"
            ],
            [
             0.2,
             "#de77ae"
            ],
            [
             0.3,
             "#f1b6da"
            ],
            [
             0.4,
             "#fde0ef"
            ],
            [
             0.5,
             "#f7f7f7"
            ],
            [
             0.6,
             "#e6f5d0"
            ],
            [
             0.7,
             "#b8e186"
            ],
            [
             0.8,
             "#7fbc41"
            ],
            [
             0.9,
             "#4d9221"
            ],
            [
             1,
             "#276419"
            ]
           ],
           "sequential": [
            [
             0,
             "#0d0887"
            ],
            [
             0.1111111111111111,
             "#46039f"
            ],
            [
             0.2222222222222222,
             "#7201a8"
            ],
            [
             0.3333333333333333,
             "#9c179e"
            ],
            [
             0.4444444444444444,
             "#bd3786"
            ],
            [
             0.5555555555555556,
             "#d8576b"
            ],
            [
             0.6666666666666666,
             "#ed7953"
            ],
            [
             0.7777777777777778,
             "#fb9f3a"
            ],
            [
             0.8888888888888888,
             "#fdca26"
            ],
            [
             1,
             "#f0f921"
            ]
           ],
           "sequentialminus": [
            [
             0,
             "#0d0887"
            ],
            [
             0.1111111111111111,
             "#46039f"
            ],
            [
             0.2222222222222222,
             "#7201a8"
            ],
            [
             0.3333333333333333,
             "#9c179e"
            ],
            [
             0.4444444444444444,
             "#bd3786"
            ],
            [
             0.5555555555555556,
             "#d8576b"
            ],
            [
             0.6666666666666666,
             "#ed7953"
            ],
            [
             0.7777777777777778,
             "#fb9f3a"
            ],
            [
             0.8888888888888888,
             "#fdca26"
            ],
            [
             1,
             "#f0f921"
            ]
           ]
          },
          "colorway": [
           "#636efa",
           "#EF553B",
           "#00cc96",
           "#ab63fa",
           "#FFA15A",
           "#19d3f3",
           "#FF6692",
           "#B6E880",
           "#FF97FF",
           "#FECB52"
          ],
          "font": {
           "color": "#2a3f5f"
          },
          "geo": {
           "bgcolor": "white",
           "lakecolor": "white",
           "landcolor": "#E5ECF6",
           "showlakes": true,
           "showland": true,
           "subunitcolor": "white"
          },
          "hoverlabel": {
           "align": "left"
          },
          "hovermode": "closest",
          "mapbox": {
           "style": "light"
          },
          "paper_bgcolor": "white",
          "plot_bgcolor": "#E5ECF6",
          "polar": {
           "angularaxis": {
            "gridcolor": "white",
            "linecolor": "white",
            "ticks": ""
           },
           "bgcolor": "#E5ECF6",
           "radialaxis": {
            "gridcolor": "white",
            "linecolor": "white",
            "ticks": ""
           }
          },
          "scene": {
           "xaxis": {
            "backgroundcolor": "#E5ECF6",
            "gridcolor": "white",
            "gridwidth": 2,
            "linecolor": "white",
            "showbackground": true,
            "ticks": "",
            "zerolinecolor": "white"
           },
           "yaxis": {
            "backgroundcolor": "#E5ECF6",
            "gridcolor": "white",
            "gridwidth": 2,
            "linecolor": "white",
            "showbackground": true,
            "ticks": "",
            "zerolinecolor": "white"
           },
           "zaxis": {
            "backgroundcolor": "#E5ECF6",
            "gridcolor": "white",
            "gridwidth": 2,
            "linecolor": "white",
            "showbackground": true,
            "ticks": "",
            "zerolinecolor": "white"
           }
          },
          "shapedefaults": {
           "line": {
            "color": "#2a3f5f"
           }
          },
          "ternary": {
           "aaxis": {
            "gridcolor": "white",
            "linecolor": "white",
            "ticks": ""
           },
           "baxis": {
            "gridcolor": "white",
            "linecolor": "white",
            "ticks": ""
           },
           "bgcolor": "#E5ECF6",
           "caxis": {
            "gridcolor": "white",
            "linecolor": "white",
            "ticks": ""
           }
          },
          "title": {
           "x": 0.05
          },
          "xaxis": {
           "automargin": true,
           "gridcolor": "white",
           "linecolor": "white",
           "ticks": "",
           "title": {
            "standoff": 15
           },
           "zerolinecolor": "white",
           "zerolinewidth": 2
          },
          "yaxis": {
           "automargin": true,
           "gridcolor": "white",
           "linecolor": "white",
           "ticks": "",
           "title": {
            "standoff": 15
           },
           "zerolinecolor": "white",
           "zerolinewidth": 2
          }
         }
        },
        "title": {
         "text": "Optimization History Plot"
        },
        "xaxis": {
         "title": {
          "text": "#Trials"
         }
        },
        "yaxis": {
         "title": {
          "text": "Objective Value"
         }
        }
       }
      }
     },
     "metadata": {}
    }
   ],
   "source": [
    "import optuna\n",
    "optuna.visualization.plot_optimization_history(study)"
   ]
  },
  {
   "cell_type": "code",
   "execution_count": 2,
   "metadata": {
    "tags": []
   },
   "outputs": [
    {
     "output_type": "stream",
     "name": "stderr",
     "text": "19.06.2020 17:59:11 INFO: Connected to Unity environment with package version 1.0.2-preview and communication version 1.0.0\n19.06.2020 17:59:12 INFO: Connected new brain:\nWormDynamic?team=0\n19.06.2020 17:59:12 INFO: Optuna set up - trials: 2, name: WormDomain-4_HPO_Local\n19.06.2020 17:59:12 INFO: Start optimization!\n19.06.2020 17:59:12 INFO: Start trial#0\n19.06.2020 17:59:12 INFO: Start episodes (9) with 973 steps.\n19.06.2020 18:08:56 INFO: End episode!\n19.06.2020 18:08:56 INFO: Initial model stored.\n19.06.2020 18:08:56 INFO: End trial#0\n[I 2020-06-19 18:08:56,163] Finished trial#0 with value: -3.6340973953669566 with parameters: {'n_layers': 1, 'n_units_l0': 65, 'actor_lr': 3.5527033223440845e-05, 'critic_lr': 0.0006833920882663584, 'gamma': 0.1456759968546808, 'tau': 0.02910558222805777, 'episodes': 9, 'training_steps': 973, 'batch_size': 17}. Best is trial#0 with value: -3.6340973953669566.\n19.06.2020 18:08:56 INFO: Start trial#1\n19.06.2020 18:08:56 INFO: Start episodes (5) with 833 steps.\n19.06.2020 18:13:35 INFO: End episode!\n19.06.2020 18:13:35 INFO: End trial#1\n[I 2020-06-19 18:13:35,255] Finished trial#1 with value: -6.165227492374834 with parameters: {'n_layers': 1, 'n_units_l0': 64, 'actor_lr': 0.000674357018757496, 'critic_lr': 0.0007077296214103908, 'gamma': 0.8240835153089596, 'tau': 0.03840421939321429, 'episodes': 5, 'training_steps': 833, 'batch_size': 10}. Best is trial#0 with value: -3.6340973953669566.\n19.06.2020 18:13:35 INFO: Optimization done.\n19.06.2020 18:13:35 INFO: Study stored. (models/2020-06-19/WormDomain-4_HPO_Local_study.pickle)\n19.06.2020 18:13:36 INFO: Environment shut down with return code 0 (CTRL_C_EVENT).\n"
    }
   ],
   "source": [
    "win_env = \"envs/worm_dynamic_one_agent/win/UnityEnvironment\"\n",
    "env = get_env(win_env, True)\n",
    "\n",
    "trainer = DDPGTrainer()\n",
    "\n",
    "study = trainer.start_training(env, trials=2, render=False, name=\"WormDomain-4_HPO_Local\", default=True)"
   ]
  },
  {
   "cell_type": "code",
   "execution_count": 3,
   "metadata": {
    "tags": []
   },
   "outputs": [
    {
     "output_type": "stream",
     "name": "stderr",
     "text": "26.06.2020 20:31:54 INFO: Environment shut down with return code 0 (CTRL_C_EVENT).\n"
    }
   ],
   "source": [
    "env.close()"
   ]
  },
  {
   "cell_type": "code",
   "execution_count": 3,
   "metadata": {},
   "outputs": [],
   "source": [
    "with open(\"../models/2020-06-17/WormDomain-1.pickle\", 'rb') as f:\n",
    "    best_agent = pickle.load(f)"
   ]
  },
  {
   "cell_type": "code",
   "execution_count": 6,
   "metadata": {},
   "outputs": [
    {
     "output_type": "stream",
     "name": "stderr",
     "text": "INFO:mlagents_envs.environment:Connected to Unity environment with package version 1.0.2-preview and communication version 1.0.0\nINFO:mlagents_envs.environment:Connected new brain:\nWormDynamic?team=0\n"
    }
   ],
   "source": [
    "win_env = \"envs/worm_dynamic_one_agent/win/UnityEnvironment\"\n",
    "env = get_env(win_env, True)\n",
    "\n",
    "best_agent.run(env, steps=1000)"
   ]
  },
  {
   "cell_type": "code",
   "execution_count": 7,
   "metadata": {},
   "outputs": [
    {
     "output_type": "stream",
     "name": "stderr",
     "text": "INFO:mlagents_envs.environment:Environment shut down with return code 0 (CTRL_C_EVENT).\n"
    }
   ],
   "source": [
    "env.close()"
   ]
  },
  {
   "cell_type": "code",
   "execution_count": 4,
   "metadata": {},
   "outputs": [],
   "source": [
    "with open(\"models/2020-06-19/WormDomain-1.pickle\", 'rb') as f:\n",
    "    best_agent = pickle.load(f)\n",
    "\n",
    "with open(\"models/2020-06-19/WormDomain-1_study.pickle\", 'rb') as f:\n",
    "    study = pickle.load(f)\n"
   ]
  },
  {
   "cell_type": "code",
   "execution_count": 5,
   "metadata": {},
   "outputs": [
    {
     "output_type": "execute_result",
     "data": {
      "text/plain": "{'n_layers': 1,\n 'n_units_l0': 64,\n 'actor_lr': 0.0008492177599151795,\n 'critic_lr': 0.0003548308108793824,\n 'gamma': 0.6656424824684831,\n 'tau': 0.04338153107996659,\n 'episodes': 5,\n 'training_steps': 69,\n 'batch_size': 12}"
     },
     "metadata": {},
     "execution_count": 5
    }
   ],
   "source": [
    "study.best_params"
   ]
  },
  {
   "cell_type": "code",
   "execution_count": 13,
   "metadata": {
    "tags": []
   },
   "outputs": [
    {
     "output_type": "stream",
     "name": "stderr",
     "text": "19.06.2020 14:58:05 INFO: Connected to Unity environment with package version 1.0.2-preview and communication version 1.0.0\n19.06.2020 14:58:06 INFO: Connected new brain:\nWormDynamic?team=0\n19.06.2020 14:58:06 INFO: Start trial#0\n19.06.2020 14:58:06 INFO: Start episodes (5) with 1000 steps.\n19.06.2020 15:03:39 INFO: End episode!\n19.06.2020 15:03:39 INFO: End trial#0\n19.06.2020 15:03:40 INFO: Environment shut down with return code 0 (CTRL_C_EVENT).\n"
    }
   ],
   "source": [
    "win_env = \"envs/worm_dynamic_one_agent/win/UnityEnvironment\"\n",
    "env = get_env(win_env, True)\n",
    "\n",
    "trial  = FixedTrial(study.best_params)\n",
    "trainer = DDPGTrainer()\n",
    "\n",
    "trainer.train(trial, env,  render=False, name=\"WormDomain-1x\", training_steps = 1000)\n",
    "env.close()"
   ]
  },
  {
   "cell_type": "code",
   "execution_count": 19,
   "metadata": {
    "tags": []
   },
   "outputs": [],
   "source": [
    "env.close()"
   ]
  },
  {
   "cell_type": "code",
   "execution_count": 18,
   "metadata": {
    "tags": []
   },
   "outputs": [
    {
     "output_type": "stream",
     "name": "stderr",
     "text": "19.06.2020 15:28:16 INFO: Listening on port 5004. Start training by pressing the Play button in the Unity Editor.\n19.06.2020 15:28:27 INFO: Connected to Unity environment with package version 1.0.2 and communication version 1.0.0\n19.06.2020 15:28:27 INFO: Connected new brain:\nWormDynamic?team=0\n"
    }
   ],
   "source": [
    "win_env = \"envs/worm_dynamic_one_agent/win/UnityEnvironment\"\n",
    "env = get_env(None, True)\n",
    "\n",
    "trainer.ddpg_agent.run(env, 1000)"
   ]
  },
  {
   "cell_type": "code",
   "execution_count": 4,
   "metadata": {},
   "outputs": [],
   "source": [
    "import optuna"
   ]
  },
  {
   "cell_type": "code",
   "execution_count": 5,
   "metadata": {},
   "outputs": [
    {
     "output_type": "display_data",
     "data": {
      "application/vnd.plotly.v1+json": {
       "config": {
        "plotlyServerURL": "https://plot.ly"
       },
       "data": [
        {
         "marker": {
          "maxdisplayed": 10
         },
         "mode": "lines+markers",
         "name": "Trial0",
         "type": "scatter",
         "x": [
          0,
          1,
          2,
          3,
          4,
          5,
          6,
          7,
          8
         ],
         "y": [
          -5.689183162525296,
          6.7267369246983435,
          -15.732286790502258,
          -8.785414414283878,
          8.15988617046969,
          10.058776803300134,
          -20.430501144874142,
          -4.056405259179883,
          -2.9584856854053214
         ]
        },
        {
         "marker": {
          "maxdisplayed": 10
         },
         "mode": "lines+markers",
         "name": "Trial1",
         "type": "scatter",
         "x": [
          0,
          1,
          2,
          3,
          4
         ],
         "y": [
          2.8647851223649923,
          -4.723351923166774,
          3.4612075053009903,
          -26.60957829412655,
          -5.819199872246827
         ]
        }
       ],
       "layout": {
        "showlegend": false,
        "template": {
         "data": {
          "bar": [
           {
            "error_x": {
             "color": "#2a3f5f"
            },
            "error_y": {
             "color": "#2a3f5f"
            },
            "marker": {
             "line": {
              "color": "#E5ECF6",
              "width": 0.5
             }
            },
            "type": "bar"
           }
          ],
          "barpolar": [
           {
            "marker": {
             "line": {
              "color": "#E5ECF6",
              "width": 0.5
             }
            },
            "type": "barpolar"
           }
          ],
          "carpet": [
           {
            "aaxis": {
             "endlinecolor": "#2a3f5f",
             "gridcolor": "white",
             "linecolor": "white",
             "minorgridcolor": "white",
             "startlinecolor": "#2a3f5f"
            },
            "baxis": {
             "endlinecolor": "#2a3f5f",
             "gridcolor": "white",
             "linecolor": "white",
             "minorgridcolor": "white",
             "startlinecolor": "#2a3f5f"
            },
            "type": "carpet"
           }
          ],
          "choropleth": [
           {
            "colorbar": {
             "outlinewidth": 0,
             "ticks": ""
            },
            "type": "choropleth"
           }
          ],
          "contour": [
           {
            "colorbar": {
             "outlinewidth": 0,
             "ticks": ""
            },
            "colorscale": [
             [
              0,
              "#0d0887"
             ],
             [
              0.1111111111111111,
              "#46039f"
             ],
             [
              0.2222222222222222,
              "#7201a8"
             ],
             [
              0.3333333333333333,
              "#9c179e"
             ],
             [
              0.4444444444444444,
              "#bd3786"
             ],
             [
              0.5555555555555556,
              "#d8576b"
             ],
             [
              0.6666666666666666,
              "#ed7953"
             ],
             [
              0.7777777777777778,
              "#fb9f3a"
             ],
             [
              0.8888888888888888,
              "#fdca26"
             ],
             [
              1,
              "#f0f921"
             ]
            ],
            "type": "contour"
           }
          ],
          "contourcarpet": [
           {
            "colorbar": {
             "outlinewidth": 0,
             "ticks": ""
            },
            "type": "contourcarpet"
           }
          ],
          "heatmap": [
           {
            "colorbar": {
             "outlinewidth": 0,
             "ticks": ""
            },
            "colorscale": [
             [
              0,
              "#0d0887"
             ],
             [
              0.1111111111111111,
              "#46039f"
             ],
             [
              0.2222222222222222,
              "#7201a8"
             ],
             [
              0.3333333333333333,
              "#9c179e"
             ],
             [
              0.4444444444444444,
              "#bd3786"
             ],
             [
              0.5555555555555556,
              "#d8576b"
             ],
             [
              0.6666666666666666,
              "#ed7953"
             ],
             [
              0.7777777777777778,
              "#fb9f3a"
             ],
             [
              0.8888888888888888,
              "#fdca26"
             ],
             [
              1,
              "#f0f921"
             ]
            ],
            "type": "heatmap"
           }
          ],
          "heatmapgl": [
           {
            "colorbar": {
             "outlinewidth": 0,
             "ticks": ""
            },
            "colorscale": [
             [
              0,
              "#0d0887"
             ],
             [
              0.1111111111111111,
              "#46039f"
             ],
             [
              0.2222222222222222,
              "#7201a8"
             ],
             [
              0.3333333333333333,
              "#9c179e"
             ],
             [
              0.4444444444444444,
              "#bd3786"
             ],
             [
              0.5555555555555556,
              "#d8576b"
             ],
             [
              0.6666666666666666,
              "#ed7953"
             ],
             [
              0.7777777777777778,
              "#fb9f3a"
             ],
             [
              0.8888888888888888,
              "#fdca26"
             ],
             [
              1,
              "#f0f921"
             ]
            ],
            "type": "heatmapgl"
           }
          ],
          "histogram": [
           {
            "marker": {
             "colorbar": {
              "outlinewidth": 0,
              "ticks": ""
             }
            },
            "type": "histogram"
           }
          ],
          "histogram2d": [
           {
            "colorbar": {
             "outlinewidth": 0,
             "ticks": ""
            },
            "colorscale": [
             [
              0,
              "#0d0887"
             ],
             [
              0.1111111111111111,
              "#46039f"
             ],
             [
              0.2222222222222222,
              "#7201a8"
             ],
             [
              0.3333333333333333,
              "#9c179e"
             ],
             [
              0.4444444444444444,
              "#bd3786"
             ],
             [
              0.5555555555555556,
              "#d8576b"
             ],
             [
              0.6666666666666666,
              "#ed7953"
             ],
             [
              0.7777777777777778,
              "#fb9f3a"
             ],
             [
              0.8888888888888888,
              "#fdca26"
             ],
             [
              1,
              "#f0f921"
             ]
            ],
            "type": "histogram2d"
           }
          ],
          "histogram2dcontour": [
           {
            "colorbar": {
             "outlinewidth": 0,
             "ticks": ""
            },
            "colorscale": [
             [
              0,
              "#0d0887"
             ],
             [
              0.1111111111111111,
              "#46039f"
             ],
             [
              0.2222222222222222,
              "#7201a8"
             ],
             [
              0.3333333333333333,
              "#9c179e"
             ],
             [
              0.4444444444444444,
              "#bd3786"
             ],
             [
              0.5555555555555556,
              "#d8576b"
             ],
             [
              0.6666666666666666,
              "#ed7953"
             ],
             [
              0.7777777777777778,
              "#fb9f3a"
             ],
             [
              0.8888888888888888,
              "#fdca26"
             ],
             [
              1,
              "#f0f921"
             ]
            ],
            "type": "histogram2dcontour"
           }
          ],
          "mesh3d": [
           {
            "colorbar": {
             "outlinewidth": 0,
             "ticks": ""
            },
            "type": "mesh3d"
           }
          ],
          "parcoords": [
           {
            "line": {
             "colorbar": {
              "outlinewidth": 0,
              "ticks": ""
             }
            },
            "type": "parcoords"
           }
          ],
          "pie": [
           {
            "automargin": true,
            "type": "pie"
           }
          ],
          "scatter": [
           {
            "marker": {
             "colorbar": {
              "outlinewidth": 0,
              "ticks": ""
             }
            },
            "type": "scatter"
           }
          ],
          "scatter3d": [
           {
            "line": {
             "colorbar": {
              "outlinewidth": 0,
              "ticks": ""
             }
            },
            "marker": {
             "colorbar": {
              "outlinewidth": 0,
              "ticks": ""
             }
            },
            "type": "scatter3d"
           }
          ],
          "scattercarpet": [
           {
            "marker": {
             "colorbar": {
              "outlinewidth": 0,
              "ticks": ""
             }
            },
            "type": "scattercarpet"
           }
          ],
          "scattergeo": [
           {
            "marker": {
             "colorbar": {
              "outlinewidth": 0,
              "ticks": ""
             }
            },
            "type": "scattergeo"
           }
          ],
          "scattergl": [
           {
            "marker": {
             "colorbar": {
              "outlinewidth": 0,
              "ticks": ""
             }
            },
            "type": "scattergl"
           }
          ],
          "scattermapbox": [
           {
            "marker": {
             "colorbar": {
              "outlinewidth": 0,
              "ticks": ""
             }
            },
            "type": "scattermapbox"
           }
          ],
          "scatterpolar": [
           {
            "marker": {
             "colorbar": {
              "outlinewidth": 0,
              "ticks": ""
             }
            },
            "type": "scatterpolar"
           }
          ],
          "scatterpolargl": [
           {
            "marker": {
             "colorbar": {
              "outlinewidth": 0,
              "ticks": ""
             }
            },
            "type": "scatterpolargl"
           }
          ],
          "scatterternary": [
           {
            "marker": {
             "colorbar": {
              "outlinewidth": 0,
              "ticks": ""
             }
            },
            "type": "scatterternary"
           }
          ],
          "surface": [
           {
            "colorbar": {
             "outlinewidth": 0,
             "ticks": ""
            },
            "colorscale": [
             [
              0,
              "#0d0887"
             ],
             [
              0.1111111111111111,
              "#46039f"
             ],
             [
              0.2222222222222222,
              "#7201a8"
             ],
             [
              0.3333333333333333,
              "#9c179e"
             ],
             [
              0.4444444444444444,
              "#bd3786"
             ],
             [
              0.5555555555555556,
              "#d8576b"
             ],
             [
              0.6666666666666666,
              "#ed7953"
             ],
             [
              0.7777777777777778,
              "#fb9f3a"
             ],
             [
              0.8888888888888888,
              "#fdca26"
             ],
             [
              1,
              "#f0f921"
             ]
            ],
            "type": "surface"
           }
          ],
          "table": [
           {
            "cells": {
             "fill": {
              "color": "#EBF0F8"
             },
             "line": {
              "color": "white"
             }
            },
            "header": {
             "fill": {
              "color": "#C8D4E3"
             },
             "line": {
              "color": "white"
             }
            },
            "type": "table"
           }
          ]
         },
         "layout": {
          "annotationdefaults": {
           "arrowcolor": "#2a3f5f",
           "arrowhead": 0,
           "arrowwidth": 1
          },
          "coloraxis": {
           "colorbar": {
            "outlinewidth": 0,
            "ticks": ""
           }
          },
          "colorscale": {
           "diverging": [
            [
             0,
             "#8e0152"
            ],
            [
             0.1,
             "#c51b7d"
            ],
            [
             0.2,
             "#de77ae"
            ],
            [
             0.3,
             "#f1b6da"
            ],
            [
             0.4,
             "#fde0ef"
            ],
            [
             0.5,
             "#f7f7f7"
            ],
            [
             0.6,
             "#e6f5d0"
            ],
            [
             0.7,
             "#b8e186"
            ],
            [
             0.8,
             "#7fbc41"
            ],
            [
             0.9,
             "#4d9221"
            ],
            [
             1,
             "#276419"
            ]
           ],
           "sequential": [
            [
             0,
             "#0d0887"
            ],
            [
             0.1111111111111111,
             "#46039f"
            ],
            [
             0.2222222222222222,
             "#7201a8"
            ],
            [
             0.3333333333333333,
             "#9c179e"
            ],
            [
             0.4444444444444444,
             "#bd3786"
            ],
            [
             0.5555555555555556,
             "#d8576b"
            ],
            [
             0.6666666666666666,
             "#ed7953"
            ],
            [
             0.7777777777777778,
             "#fb9f3a"
            ],
            [
             0.8888888888888888,
             "#fdca26"
            ],
            [
             1,
             "#f0f921"
            ]
           ],
           "sequentialminus": [
            [
             0,
             "#0d0887"
            ],
            [
             0.1111111111111111,
             "#46039f"
            ],
            [
             0.2222222222222222,
             "#7201a8"
            ],
            [
             0.3333333333333333,
             "#9c179e"
            ],
            [
             0.4444444444444444,
             "#bd3786"
            ],
            [
             0.5555555555555556,
             "#d8576b"
            ],
            [
             0.6666666666666666,
             "#ed7953"
            ],
            [
             0.7777777777777778,
             "#fb9f3a"
            ],
            [
             0.8888888888888888,
             "#fdca26"
            ],
            [
             1,
             "#f0f921"
            ]
           ]
          },
          "colorway": [
           "#636efa",
           "#EF553B",
           "#00cc96",
           "#ab63fa",
           "#FFA15A",
           "#19d3f3",
           "#FF6692",
           "#B6E880",
           "#FF97FF",
           "#FECB52"
          ],
          "font": {
           "color": "#2a3f5f"
          },
          "geo": {
           "bgcolor": "white",
           "lakecolor": "white",
           "landcolor": "#E5ECF6",
           "showlakes": true,
           "showland": true,
           "subunitcolor": "white"
          },
          "hoverlabel": {
           "align": "left"
          },
          "hovermode": "closest",
          "mapbox": {
           "style": "light"
          },
          "paper_bgcolor": "white",
          "plot_bgcolor": "#E5ECF6",
          "polar": {
           "angularaxis": {
            "gridcolor": "white",
            "linecolor": "white",
            "ticks": ""
           },
           "bgcolor": "#E5ECF6",
           "radialaxis": {
            "gridcolor": "white",
            "linecolor": "white",
            "ticks": ""
           }
          },
          "scene": {
           "xaxis": {
            "backgroundcolor": "#E5ECF6",
            "gridcolor": "white",
            "gridwidth": 2,
            "linecolor": "white",
            "showbackground": true,
            "ticks": "",
            "zerolinecolor": "white"
           },
           "yaxis": {
            "backgroundcolor": "#E5ECF6",
            "gridcolor": "white",
            "gridwidth": 2,
            "linecolor": "white",
            "showbackground": true,
            "ticks": "",
            "zerolinecolor": "white"
           },
           "zaxis": {
            "backgroundcolor": "#E5ECF6",
            "gridcolor": "white",
            "gridwidth": 2,
            "linecolor": "white",
            "showbackground": true,
            "ticks": "",
            "zerolinecolor": "white"
           }
          },
          "shapedefaults": {
           "line": {
            "color": "#2a3f5f"
           }
          },
          "ternary": {
           "aaxis": {
            "gridcolor": "white",
            "linecolor": "white",
            "ticks": ""
           },
           "baxis": {
            "gridcolor": "white",
            "linecolor": "white",
            "ticks": ""
           },
           "bgcolor": "#E5ECF6",
           "caxis": {
            "gridcolor": "white",
            "linecolor": "white",
            "ticks": ""
           }
          },
          "title": {
           "x": 0.05
          },
          "xaxis": {
           "automargin": true,
           "gridcolor": "white",
           "linecolor": "white",
           "ticks": "",
           "title": {
            "standoff": 15
           },
           "zerolinecolor": "white",
           "zerolinewidth": 2
          },
          "yaxis": {
           "automargin": true,
           "gridcolor": "white",
           "linecolor": "white",
           "ticks": "",
           "title": {
            "standoff": 15
           },
           "zerolinecolor": "white",
           "zerolinewidth": 2
          }
         }
        },
        "title": {
         "text": "Intermediate Values Plot"
        },
        "xaxis": {
         "title": {
          "text": "Step"
         }
        },
        "yaxis": {
         "title": {
          "text": "Intermediate Value"
         }
        }
       }
      }
     },
     "metadata": {}
    }
   ],
   "source": [
    "optuna.visualization.plot_intermediate_values(study)"
   ]
  },
  {
   "cell_type": "code",
   "execution_count": 6,
   "metadata": {},
   "outputs": [
    {
     "output_type": "display_data",
     "data": {
      "application/vnd.plotly.v1+json": {
       "config": {
        "plotlyServerURL": "https://plot.ly"
       },
       "data": [
        {
         "mode": "markers",
         "name": "Objective Value",
         "type": "scatter",
         "x": [
          0,
          1
         ],
         "y": [
          -3.6340973953669566,
          -6.165227492374834
         ]
        },
        {
         "name": "Best Value",
         "type": "scatter",
         "x": [
          0,
          1
         ],
         "y": [
          -3.6340973953669566,
          -3.6340973953669566
         ]
        }
       ],
       "layout": {
        "template": {
         "data": {
          "bar": [
           {
            "error_x": {
             "color": "#2a3f5f"
            },
            "error_y": {
             "color": "#2a3f5f"
            },
            "marker": {
             "line": {
              "color": "#E5ECF6",
              "width": 0.5
             }
            },
            "type": "bar"
           }
          ],
          "barpolar": [
           {
            "marker": {
             "line": {
              "color": "#E5ECF6",
              "width": 0.5
             }
            },
            "type": "barpolar"
           }
          ],
          "carpet": [
           {
            "aaxis": {
             "endlinecolor": "#2a3f5f",
             "gridcolor": "white",
             "linecolor": "white",
             "minorgridcolor": "white",
             "startlinecolor": "#2a3f5f"
            },
            "baxis": {
             "endlinecolor": "#2a3f5f",
             "gridcolor": "white",
             "linecolor": "white",
             "minorgridcolor": "white",
             "startlinecolor": "#2a3f5f"
            },
            "type": "carpet"
           }
          ],
          "choropleth": [
           {
            "colorbar": {
             "outlinewidth": 0,
             "ticks": ""
            },
            "type": "choropleth"
           }
          ],
          "contour": [
           {
            "colorbar": {
             "outlinewidth": 0,
             "ticks": ""
            },
            "colorscale": [
             [
              0,
              "#0d0887"
             ],
             [
              0.1111111111111111,
              "#46039f"
             ],
             [
              0.2222222222222222,
              "#7201a8"
             ],
             [
              0.3333333333333333,
              "#9c179e"
             ],
             [
              0.4444444444444444,
              "#bd3786"
             ],
             [
              0.5555555555555556,
              "#d8576b"
             ],
             [
              0.6666666666666666,
              "#ed7953"
             ],
             [
              0.7777777777777778,
              "#fb9f3a"
             ],
             [
              0.8888888888888888,
              "#fdca26"
             ],
             [
              1,
              "#f0f921"
             ]
            ],
            "type": "contour"
           }
          ],
          "contourcarpet": [
           {
            "colorbar": {
             "outlinewidth": 0,
             "ticks": ""
            },
            "type": "contourcarpet"
           }
          ],
          "heatmap": [
           {
            "colorbar": {
             "outlinewidth": 0,
             "ticks": ""
            },
            "colorscale": [
             [
              0,
              "#0d0887"
             ],
             [
              0.1111111111111111,
              "#46039f"
             ],
             [
              0.2222222222222222,
              "#7201a8"
             ],
             [
              0.3333333333333333,
              "#9c179e"
             ],
             [
              0.4444444444444444,
              "#bd3786"
             ],
             [
              0.5555555555555556,
              "#d8576b"
             ],
             [
              0.6666666666666666,
              "#ed7953"
             ],
             [
              0.7777777777777778,
              "#fb9f3a"
             ],
             [
              0.8888888888888888,
              "#fdca26"
             ],
             [
              1,
              "#f0f921"
             ]
            ],
            "type": "heatmap"
           }
          ],
          "heatmapgl": [
           {
            "colorbar": {
             "outlinewidth": 0,
             "ticks": ""
            },
            "colorscale": [
             [
              0,
              "#0d0887"
             ],
             [
              0.1111111111111111,
              "#46039f"
             ],
             [
              0.2222222222222222,
              "#7201a8"
             ],
             [
              0.3333333333333333,
              "#9c179e"
             ],
             [
              0.4444444444444444,
              "#bd3786"
             ],
             [
              0.5555555555555556,
              "#d8576b"
             ],
             [
              0.6666666666666666,
              "#ed7953"
             ],
             [
              0.7777777777777778,
              "#fb9f3a"
             ],
             [
              0.8888888888888888,
              "#fdca26"
             ],
             [
              1,
              "#f0f921"
             ]
            ],
            "type": "heatmapgl"
           }
          ],
          "histogram": [
           {
            "marker": {
             "colorbar": {
              "outlinewidth": 0,
              "ticks": ""
             }
            },
            "type": "histogram"
           }
          ],
          "histogram2d": [
           {
            "colorbar": {
             "outlinewidth": 0,
             "ticks": ""
            },
            "colorscale": [
             [
              0,
              "#0d0887"
             ],
             [
              0.1111111111111111,
              "#46039f"
             ],
             [
              0.2222222222222222,
              "#7201a8"
             ],
             [
              0.3333333333333333,
              "#9c179e"
             ],
             [
              0.4444444444444444,
              "#bd3786"
             ],
             [
              0.5555555555555556,
              "#d8576b"
             ],
             [
              0.6666666666666666,
              "#ed7953"
             ],
             [
              0.7777777777777778,
              "#fb9f3a"
             ],
             [
              0.8888888888888888,
              "#fdca26"
             ],
             [
              1,
              "#f0f921"
             ]
            ],
            "type": "histogram2d"
           }
          ],
          "histogram2dcontour": [
           {
            "colorbar": {
             "outlinewidth": 0,
             "ticks": ""
            },
            "colorscale": [
             [
              0,
              "#0d0887"
             ],
             [
              0.1111111111111111,
              "#46039f"
             ],
             [
              0.2222222222222222,
              "#7201a8"
             ],
             [
              0.3333333333333333,
              "#9c179e"
             ],
             [
              0.4444444444444444,
              "#bd3786"
             ],
             [
              0.5555555555555556,
              "#d8576b"
             ],
             [
              0.6666666666666666,
              "#ed7953"
             ],
             [
              0.7777777777777778,
              "#fb9f3a"
             ],
             [
              0.8888888888888888,
              "#fdca26"
             ],
             [
              1,
              "#f0f921"
             ]
            ],
            "type": "histogram2dcontour"
           }
          ],
          "mesh3d": [
           {
            "colorbar": {
             "outlinewidth": 0,
             "ticks": ""
            },
            "type": "mesh3d"
           }
          ],
          "parcoords": [
           {
            "line": {
             "colorbar": {
              "outlinewidth": 0,
              "ticks": ""
             }
            },
            "type": "parcoords"
           }
          ],
          "pie": [
           {
            "automargin": true,
            "type": "pie"
           }
          ],
          "scatter": [
           {
            "marker": {
             "colorbar": {
              "outlinewidth": 0,
              "ticks": ""
             }
            },
            "type": "scatter"
           }
          ],
          "scatter3d": [
           {
            "line": {
             "colorbar": {
              "outlinewidth": 0,
              "ticks": ""
             }
            },
            "marker": {
             "colorbar": {
              "outlinewidth": 0,
              "ticks": ""
             }
            },
            "type": "scatter3d"
           }
          ],
          "scattercarpet": [
           {
            "marker": {
             "colorbar": {
              "outlinewidth": 0,
              "ticks": ""
             }
            },
            "type": "scattercarpet"
           }
          ],
          "scattergeo": [
           {
            "marker": {
             "colorbar": {
              "outlinewidth": 0,
              "ticks": ""
             }
            },
            "type": "scattergeo"
           }
          ],
          "scattergl": [
           {
            "marker": {
             "colorbar": {
              "outlinewidth": 0,
              "ticks": ""
             }
            },
            "type": "scattergl"
           }
          ],
          "scattermapbox": [
           {
            "marker": {
             "colorbar": {
              "outlinewidth": 0,
              "ticks": ""
             }
            },
            "type": "scattermapbox"
           }
          ],
          "scatterpolar": [
           {
            "marker": {
             "colorbar": {
              "outlinewidth": 0,
              "ticks": ""
             }
            },
            "type": "scatterpolar"
           }
          ],
          "scatterpolargl": [
           {
            "marker": {
             "colorbar": {
              "outlinewidth": 0,
              "ticks": ""
             }
            },
            "type": "scatterpolargl"
           }
          ],
          "scatterternary": [
           {
            "marker": {
             "colorbar": {
              "outlinewidth": 0,
              "ticks": ""
             }
            },
            "type": "scatterternary"
           }
          ],
          "surface": [
           {
            "colorbar": {
             "outlinewidth": 0,
             "ticks": ""
            },
            "colorscale": [
             [
              0,
              "#0d0887"
             ],
             [
              0.1111111111111111,
              "#46039f"
             ],
             [
              0.2222222222222222,
              "#7201a8"
             ],
             [
              0.3333333333333333,
              "#9c179e"
             ],
             [
              0.4444444444444444,
              "#bd3786"
             ],
             [
              0.5555555555555556,
              "#d8576b"
             ],
             [
              0.6666666666666666,
              "#ed7953"
             ],
             [
              0.7777777777777778,
              "#fb9f3a"
             ],
             [
              0.8888888888888888,
              "#fdca26"
             ],
             [
              1,
              "#f0f921"
             ]
            ],
            "type": "surface"
           }
          ],
          "table": [
           {
            "cells": {
             "fill": {
              "color": "#EBF0F8"
             },
             "line": {
              "color": "white"
             }
            },
            "header": {
             "fill": {
              "color": "#C8D4E3"
             },
             "line": {
              "color": "white"
             }
            },
            "type": "table"
           }
          ]
         },
         "layout": {
          "annotationdefaults": {
           "arrowcolor": "#2a3f5f",
           "arrowhead": 0,
           "arrowwidth": 1
          },
          "coloraxis": {
           "colorbar": {
            "outlinewidth": 0,
            "ticks": ""
           }
          },
          "colorscale": {
           "diverging": [
            [
             0,
             "#8e0152"
            ],
            [
             0.1,
             "#c51b7d"
            ],
            [
             0.2,
             "#de77ae"
            ],
            [
             0.3,
             "#f1b6da"
            ],
            [
             0.4,
             "#fde0ef"
            ],
            [
             0.5,
             "#f7f7f7"
            ],
            [
             0.6,
             "#e6f5d0"
            ],
            [
             0.7,
             "#b8e186"
            ],
            [
             0.8,
             "#7fbc41"
            ],
            [
             0.9,
             "#4d9221"
            ],
            [
             1,
             "#276419"
            ]
           ],
           "sequential": [
            [
             0,
             "#0d0887"
            ],
            [
             0.1111111111111111,
             "#46039f"
            ],
            [
             0.2222222222222222,
             "#7201a8"
            ],
            [
             0.3333333333333333,
             "#9c179e"
            ],
            [
             0.4444444444444444,
             "#bd3786"
            ],
            [
             0.5555555555555556,
             "#d8576b"
            ],
            [
             0.6666666666666666,
             "#ed7953"
            ],
            [
             0.7777777777777778,
             "#fb9f3a"
            ],
            [
             0.8888888888888888,
             "#fdca26"
            ],
            [
             1,
             "#f0f921"
            ]
           ],
           "sequentialminus": [
            [
             0,
             "#0d0887"
            ],
            [
             0.1111111111111111,
             "#46039f"
            ],
            [
             0.2222222222222222,
             "#7201a8"
            ],
            [
             0.3333333333333333,
             "#9c179e"
            ],
            [
             0.4444444444444444,
             "#bd3786"
            ],
            [
             0.5555555555555556,
             "#d8576b"
            ],
            [
             0.6666666666666666,
             "#ed7953"
            ],
            [
             0.7777777777777778,
             "#fb9f3a"
            ],
            [
             0.8888888888888888,
             "#fdca26"
            ],
            [
             1,
             "#f0f921"
            ]
           ]
          },
          "colorway": [
           "#636efa",
           "#EF553B",
           "#00cc96",
           "#ab63fa",
           "#FFA15A",
           "#19d3f3",
           "#FF6692",
           "#B6E880",
           "#FF97FF",
           "#FECB52"
          ],
          "font": {
           "color": "#2a3f5f"
          },
          "geo": {
           "bgcolor": "white",
           "lakecolor": "white",
           "landcolor": "#E5ECF6",
           "showlakes": true,
           "showland": true,
           "subunitcolor": "white"
          },
          "hoverlabel": {
           "align": "left"
          },
          "hovermode": "closest",
          "mapbox": {
           "style": "light"
          },
          "paper_bgcolor": "white",
          "plot_bgcolor": "#E5ECF6",
          "polar": {
           "angularaxis": {
            "gridcolor": "white",
            "linecolor": "white",
            "ticks": ""
           },
           "bgcolor": "#E5ECF6",
           "radialaxis": {
            "gridcolor": "white",
            "linecolor": "white",
            "ticks": ""
           }
          },
          "scene": {
           "xaxis": {
            "backgroundcolor": "#E5ECF6",
            "gridcolor": "white",
            "gridwidth": 2,
            "linecolor": "white",
            "showbackground": true,
            "ticks": "",
            "zerolinecolor": "white"
           },
           "yaxis": {
            "backgroundcolor": "#E5ECF6",
            "gridcolor": "white",
            "gridwidth": 2,
            "linecolor": "white",
            "showbackground": true,
            "ticks": "",
            "zerolinecolor": "white"
           },
           "zaxis": {
            "backgroundcolor": "#E5ECF6",
            "gridcolor": "white",
            "gridwidth": 2,
            "linecolor": "white",
            "showbackground": true,
            "ticks": "",
            "zerolinecolor": "white"
           }
          },
          "shapedefaults": {
           "line": {
            "color": "#2a3f5f"
           }
          },
          "ternary": {
           "aaxis": {
            "gridcolor": "white",
            "linecolor": "white",
            "ticks": ""
           },
           "baxis": {
            "gridcolor": "white",
            "linecolor": "white",
            "ticks": ""
           },
           "bgcolor": "#E5ECF6",
           "caxis": {
            "gridcolor": "white",
            "linecolor": "white",
            "ticks": ""
           }
          },
          "title": {
           "x": 0.05
          },
          "xaxis": {
           "automargin": true,
           "gridcolor": "white",
           "linecolor": "white",
           "ticks": "",
           "title": {
            "standoff": 15
           },
           "zerolinecolor": "white",
           "zerolinewidth": 2
          },
          "yaxis": {
           "automargin": true,
           "gridcolor": "white",
           "linecolor": "white",
           "ticks": "",
           "title": {
            "standoff": 15
           },
           "zerolinecolor": "white",
           "zerolinewidth": 2
          }
         }
        },
        "title": {
         "text": "Optimization History Plot"
        },
        "xaxis": {
         "title": {
          "text": "#Trials"
         }
        },
        "yaxis": {
         "title": {
          "text": "Objective Value"
         }
        }
       }
      }
     },
     "metadata": {}
    }
   ],
   "source": [
    "optuna.visualization.plot_optimization_history(study)"
   ]
  },
  {
   "cell_type": "code",
   "execution_count": 7,
   "metadata": {},
   "outputs": [
    {
     "output_type": "display_data",
     "data": {
      "application/vnd.plotly.v1+json": {
       "config": {
        "plotlyServerURL": "https://plot.ly"
       },
       "data": [
        {
         "dimensions": [
          {
           "label": "Objective Value",
           "range": [
            -0.14343379013007507,
            0.19667559070512652
           ],
           "values": [
            -0.14343379013007507,
            0.19667559070512652
           ]
          },
          {
           "label": "actor_lr",
           "range": [
            0.025745566938806735,
            0.06266178895586882
           ],
           "values": [
            0.025745566938806735,
            0.06266178895586882
           ]
          },
          {
           "label": "batch_size",
           "range": [
            13,
            15
           ],
           "values": [
            13,
            15
           ]
          },
          {
           "label": "critic_lr",
           "range": [
            0.06928840283909589,
            0.08067929643990374
           ],
           "values": [
            0.06928840283909589,
            0.08067929643990374
           ]
          },
          {
           "label": "episodes",
           "range": [
            2,
            4
           ],
           "values": [
            4,
            2
           ]
          },
          {
           "label": "gamma",
           "range": [
            0.7391128320482463,
            0.9021625029074366
           ],
           "values": [
            0.7391128320482463,
            0.9021625029074366
           ]
          },
          {
           "label": "n_layers",
           "range": [
            1,
            3
           ],
           "values": [
            3,
            1
           ]
          },
          {
           "label": "n_units_l0",
           "range": [
            41,
            117
           ],
           "values": [
            41,
            117
           ]
          },
          {
           "label": "n_units_l1",
           "range": [
            70,
            70
           ],
           "values": [
            70
           ]
          },
          {
           "label": "n_units_l2",
           "range": [
            13,
            13
           ],
           "values": [
            13
           ]
          },
          {
           "label": "tau",
           "range": [
            0.011552839077300757,
            0.023627403353571472
           ],
           "values": [
            0.023627403353571472,
            0.011552839077300757
           ]
          },
          {
           "label": "training_steps",
           "range": [
            13,
            13
           ],
           "values": [
            13,
            13
           ]
          }
         ],
         "labelangle": 30,
         "labelside": "bottom",
         "line": {
          "color": [
           -0.14343379013007507,
           0.19667559070512652
          ],
          "colorbar": {
           "title": {
            "text": "Objective Value"
           }
          },
          "colorscale": [
           [
            0,
            "rgb(247,251,255)"
           ],
           [
            0.125,
            "rgb(222,235,247)"
           ],
           [
            0.25,
            "rgb(198,219,239)"
           ],
           [
            0.375,
            "rgb(158,202,225)"
           ],
           [
            0.5,
            "rgb(107,174,214)"
           ],
           [
            0.625,
            "rgb(66,146,198)"
           ],
           [
            0.75,
            "rgb(33,113,181)"
           ],
           [
            0.875,
            "rgb(8,81,156)"
           ],
           [
            1,
            "rgb(8,48,107)"
           ]
          ],
          "reversescale": false,
          "showscale": true
         },
         "type": "parcoords"
        }
       ],
       "layout": {
        "template": {
         "data": {
          "bar": [
           {
            "error_x": {
             "color": "#2a3f5f"
            },
            "error_y": {
             "color": "#2a3f5f"
            },
            "marker": {
             "line": {
              "color": "#E5ECF6",
              "width": 0.5
             }
            },
            "type": "bar"
           }
          ],
          "barpolar": [
           {
            "marker": {
             "line": {
              "color": "#E5ECF6",
              "width": 0.5
             }
            },
            "type": "barpolar"
           }
          ],
          "carpet": [
           {
            "aaxis": {
             "endlinecolor": "#2a3f5f",
             "gridcolor": "white",
             "linecolor": "white",
             "minorgridcolor": "white",
             "startlinecolor": "#2a3f5f"
            },
            "baxis": {
             "endlinecolor": "#2a3f5f",
             "gridcolor": "white",
             "linecolor": "white",
             "minorgridcolor": "white",
             "startlinecolor": "#2a3f5f"
            },
            "type": "carpet"
           }
          ],
          "choropleth": [
           {
            "colorbar": {
             "outlinewidth": 0,
             "ticks": ""
            },
            "type": "choropleth"
           }
          ],
          "contour": [
           {
            "colorbar": {
             "outlinewidth": 0,
             "ticks": ""
            },
            "colorscale": [
             [
              0,
              "#0d0887"
             ],
             [
              0.1111111111111111,
              "#46039f"
             ],
             [
              0.2222222222222222,
              "#7201a8"
             ],
             [
              0.3333333333333333,
              "#9c179e"
             ],
             [
              0.4444444444444444,
              "#bd3786"
             ],
             [
              0.5555555555555556,
              "#d8576b"
             ],
             [
              0.6666666666666666,
              "#ed7953"
             ],
             [
              0.7777777777777778,
              "#fb9f3a"
             ],
             [
              0.8888888888888888,
              "#fdca26"
             ],
             [
              1,
              "#f0f921"
             ]
            ],
            "type": "contour"
           }
          ],
          "contourcarpet": [
           {
            "colorbar": {
             "outlinewidth": 0,
             "ticks": ""
            },
            "type": "contourcarpet"
           }
          ],
          "heatmap": [
           {
            "colorbar": {
             "outlinewidth": 0,
             "ticks": ""
            },
            "colorscale": [
             [
              0,
              "#0d0887"
             ],
             [
              0.1111111111111111,
              "#46039f"
             ],
             [
              0.2222222222222222,
              "#7201a8"
             ],
             [
              0.3333333333333333,
              "#9c179e"
             ],
             [
              0.4444444444444444,
              "#bd3786"
             ],
             [
              0.5555555555555556,
              "#d8576b"
             ],
             [
              0.6666666666666666,
              "#ed7953"
             ],
             [
              0.7777777777777778,
              "#fb9f3a"
             ],
             [
              0.8888888888888888,
              "#fdca26"
             ],
             [
              1,
              "#f0f921"
             ]
            ],
            "type": "heatmap"
           }
          ],
          "heatmapgl": [
           {
            "colorbar": {
             "outlinewidth": 0,
             "ticks": ""
            },
            "colorscale": [
             [
              0,
              "#0d0887"
             ],
             [
              0.1111111111111111,
              "#46039f"
             ],
             [
              0.2222222222222222,
              "#7201a8"
             ],
             [
              0.3333333333333333,
              "#9c179e"
             ],
             [
              0.4444444444444444,
              "#bd3786"
             ],
             [
              0.5555555555555556,
              "#d8576b"
             ],
             [
              0.6666666666666666,
              "#ed7953"
             ],
             [
              0.7777777777777778,
              "#fb9f3a"
             ],
             [
              0.8888888888888888,
              "#fdca26"
             ],
             [
              1,
              "#f0f921"
             ]
            ],
            "type": "heatmapgl"
           }
          ],
          "histogram": [
           {
            "marker": {
             "colorbar": {
              "outlinewidth": 0,
              "ticks": ""
             }
            },
            "type": "histogram"
           }
          ],
          "histogram2d": [
           {
            "colorbar": {
             "outlinewidth": 0,
             "ticks": ""
            },
            "colorscale": [
             [
              0,
              "#0d0887"
             ],
             [
              0.1111111111111111,
              "#46039f"
             ],
             [
              0.2222222222222222,
              "#7201a8"
             ],
             [
              0.3333333333333333,
              "#9c179e"
             ],
             [
              0.4444444444444444,
              "#bd3786"
             ],
             [
              0.5555555555555556,
              "#d8576b"
             ],
             [
              0.6666666666666666,
              "#ed7953"
             ],
             [
              0.7777777777777778,
              "#fb9f3a"
             ],
             [
              0.8888888888888888,
              "#fdca26"
             ],
             [
              1,
              "#f0f921"
             ]
            ],
            "type": "histogram2d"
           }
          ],
          "histogram2dcontour": [
           {
            "colorbar": {
             "outlinewidth": 0,
             "ticks": ""
            },
            "colorscale": [
             [
              0,
              "#0d0887"
             ],
             [
              0.1111111111111111,
              "#46039f"
             ],
             [
              0.2222222222222222,
              "#7201a8"
             ],
             [
              0.3333333333333333,
              "#9c179e"
             ],
             [
              0.4444444444444444,
              "#bd3786"
             ],
             [
              0.5555555555555556,
              "#d8576b"
             ],
             [
              0.6666666666666666,
              "#ed7953"
             ],
             [
              0.7777777777777778,
              "#fb9f3a"
             ],
             [
              0.8888888888888888,
              "#fdca26"
             ],
             [
              1,
              "#f0f921"
             ]
            ],
            "type": "histogram2dcontour"
           }
          ],
          "mesh3d": [
           {
            "colorbar": {
             "outlinewidth": 0,
             "ticks": ""
            },
            "type": "mesh3d"
           }
          ],
          "parcoords": [
           {
            "line": {
             "colorbar": {
              "outlinewidth": 0,
              "ticks": ""
             }
            },
            "type": "parcoords"
           }
          ],
          "pie": [
           {
            "automargin": true,
            "type": "pie"
           }
          ],
          "scatter": [
           {
            "marker": {
             "colorbar": {
              "outlinewidth": 0,
              "ticks": ""
             }
            },
            "type": "scatter"
           }
          ],
          "scatter3d": [
           {
            "line": {
             "colorbar": {
              "outlinewidth": 0,
              "ticks": ""
             }
            },
            "marker": {
             "colorbar": {
              "outlinewidth": 0,
              "ticks": ""
             }
            },
            "type": "scatter3d"
           }
          ],
          "scattercarpet": [
           {
            "marker": {
             "colorbar": {
              "outlinewidth": 0,
              "ticks": ""
             }
            },
            "type": "scattercarpet"
           }
          ],
          "scattergeo": [
           {
            "marker": {
             "colorbar": {
              "outlinewidth": 0,
              "ticks": ""
             }
            },
            "type": "scattergeo"
           }
          ],
          "scattergl": [
           {
            "marker": {
             "colorbar": {
              "outlinewidth": 0,
              "ticks": ""
             }
            },
            "type": "scattergl"
           }
          ],
          "scattermapbox": [
           {
            "marker": {
             "colorbar": {
              "outlinewidth": 0,
              "ticks": ""
             }
            },
            "type": "scattermapbox"
           }
          ],
          "scatterpolar": [
           {
            "marker": {
             "colorbar": {
              "outlinewidth": 0,
              "ticks": ""
             }
            },
            "type": "scatterpolar"
           }
          ],
          "scatterpolargl": [
           {
            "marker": {
             "colorbar": {
              "outlinewidth": 0,
              "ticks": ""
             }
            },
            "type": "scatterpolargl"
           }
          ],
          "scatterternary": [
           {
            "marker": {
             "colorbar": {
              "outlinewidth": 0,
              "ticks": ""
             }
            },
            "type": "scatterternary"
           }
          ],
          "surface": [
           {
            "colorbar": {
             "outlinewidth": 0,
             "ticks": ""
            },
            "colorscale": [
             [
              0,
              "#0d0887"
             ],
             [
              0.1111111111111111,
              "#46039f"
             ],
             [
              0.2222222222222222,
              "#7201a8"
             ],
             [
              0.3333333333333333,
              "#9c179e"
             ],
             [
              0.4444444444444444,
              "#bd3786"
             ],
             [
              0.5555555555555556,
              "#d8576b"
             ],
             [
              0.6666666666666666,
              "#ed7953"
             ],
             [
              0.7777777777777778,
              "#fb9f3a"
             ],
             [
              0.8888888888888888,
              "#fdca26"
             ],
             [
              1,
              "#f0f921"
             ]
            ],
            "type": "surface"
           }
          ],
          "table": [
           {
            "cells": {
             "fill": {
              "color": "#EBF0F8"
             },
             "line": {
              "color": "white"
             }
            },
            "header": {
             "fill": {
              "color": "#C8D4E3"
             },
             "line": {
              "color": "white"
             }
            },
            "type": "table"
           }
          ]
         },
         "layout": {
          "annotationdefaults": {
           "arrowcolor": "#2a3f5f",
           "arrowhead": 0,
           "arrowwidth": 1
          },
          "coloraxis": {
           "colorbar": {
            "outlinewidth": 0,
            "ticks": ""
           }
          },
          "colorscale": {
           "diverging": [
            [
             0,
             "#8e0152"
            ],
            [
             0.1,
             "#c51b7d"
            ],
            [
             0.2,
             "#de77ae"
            ],
            [
             0.3,
             "#f1b6da"
            ],
            [
             0.4,
             "#fde0ef"
            ],
            [
             0.5,
             "#f7f7f7"
            ],
            [
             0.6,
             "#e6f5d0"
            ],
            [
             0.7,
             "#b8e186"
            ],
            [
             0.8,
             "#7fbc41"
            ],
            [
             0.9,
             "#4d9221"
            ],
            [
             1,
             "#276419"
            ]
           ],
           "sequential": [
            [
             0,
             "#0d0887"
            ],
            [
             0.1111111111111111,
             "#46039f"
            ],
            [
             0.2222222222222222,
             "#7201a8"
            ],
            [
             0.3333333333333333,
             "#9c179e"
            ],
            [
             0.4444444444444444,
             "#bd3786"
            ],
            [
             0.5555555555555556,
             "#d8576b"
            ],
            [
             0.6666666666666666,
             "#ed7953"
            ],
            [
             0.7777777777777778,
             "#fb9f3a"
            ],
            [
             0.8888888888888888,
             "#fdca26"
            ],
            [
             1,
             "#f0f921"
            ]
           ],
           "sequentialminus": [
            [
             0,
             "#0d0887"
            ],
            [
             0.1111111111111111,
             "#46039f"
            ],
            [
             0.2222222222222222,
             "#7201a8"
            ],
            [
             0.3333333333333333,
             "#9c179e"
            ],
            [
             0.4444444444444444,
             "#bd3786"
            ],
            [
             0.5555555555555556,
             "#d8576b"
            ],
            [
             0.6666666666666666,
             "#ed7953"
            ],
            [
             0.7777777777777778,
             "#fb9f3a"
            ],
            [
             0.8888888888888888,
             "#fdca26"
            ],
            [
             1,
             "#f0f921"
            ]
           ]
          },
          "colorway": [
           "#636efa",
           "#EF553B",
           "#00cc96",
           "#ab63fa",
           "#FFA15A",
           "#19d3f3",
           "#FF6692",
           "#B6E880",
           "#FF97FF",
           "#FECB52"
          ],
          "font": {
           "color": "#2a3f5f"
          },
          "geo": {
           "bgcolor": "white",
           "lakecolor": "white",
           "landcolor": "#E5ECF6",
           "showlakes": true,
           "showland": true,
           "subunitcolor": "white"
          },
          "hoverlabel": {
           "align": "left"
          },
          "hovermode": "closest",
          "mapbox": {
           "style": "light"
          },
          "paper_bgcolor": "white",
          "plot_bgcolor": "#E5ECF6",
          "polar": {
           "angularaxis": {
            "gridcolor": "white",
            "linecolor": "white",
            "ticks": ""
           },
           "bgcolor": "#E5ECF6",
           "radialaxis": {
            "gridcolor": "white",
            "linecolor": "white",
            "ticks": ""
           }
          },
          "scene": {
           "xaxis": {
            "backgroundcolor": "#E5ECF6",
            "gridcolor": "white",
            "gridwidth": 2,
            "linecolor": "white",
            "showbackground": true,
            "ticks": "",
            "zerolinecolor": "white"
           },
           "yaxis": {
            "backgroundcolor": "#E5ECF6",
            "gridcolor": "white",
            "gridwidth": 2,
            "linecolor": "white",
            "showbackground": true,
            "ticks": "",
            "zerolinecolor": "white"
           },
           "zaxis": {
            "backgroundcolor": "#E5ECF6",
            "gridcolor": "white",
            "gridwidth": 2,
            "linecolor": "white",
            "showbackground": true,
            "ticks": "",
            "zerolinecolor": "white"
           }
          },
          "shapedefaults": {
           "line": {
            "color": "#2a3f5f"
           }
          },
          "ternary": {
           "aaxis": {
            "gridcolor": "white",
            "linecolor": "white",
            "ticks": ""
           },
           "baxis": {
            "gridcolor": "white",
            "linecolor": "white",
            "ticks": ""
           },
           "bgcolor": "#E5ECF6",
           "caxis": {
            "gridcolor": "white",
            "linecolor": "white",
            "ticks": ""
           }
          },
          "title": {
           "x": 0.05
          },
          "xaxis": {
           "automargin": true,
           "gridcolor": "white",
           "linecolor": "white",
           "ticks": "",
           "title": {
            "standoff": 15
           },
           "zerolinecolor": "white",
           "zerolinewidth": 2
          },
          "yaxis": {
           "automargin": true,
           "gridcolor": "white",
           "linecolor": "white",
           "ticks": "",
           "title": {
            "standoff": 15
           },
           "zerolinecolor": "white",
           "zerolinewidth": 2
          }
         }
        },
        "title": {
         "text": "Parallel Coordinate Plot"
        }
       }
      }
     },
     "metadata": {}
    }
   ],
   "source": [
    "optuna.visualization.plot_parallel_coordinate(study)"
   ]
  },
  {
   "cell_type": "markdown",
   "metadata": {},
   "source": [
    "## Training Gym Domains\n",
    "\n",
    "@author: jhuthmacher"
   ]
  },
  {
   "cell_type": "code",
   "execution_count": 1,
   "metadata": {},
   "outputs": [],
   "source": [
    "import logging \n",
    "logging.basicConfig(level=logging.DEBUG)\n",
    "\n",
    "import sys\n",
    "sys.path.insert(0, \"../\")\n",
    "import os\n",
    "os.chdir(\"../\")\n",
    "\n",
    "import pickle\n",
    "\n",
    "import gym\n",
    "from trainer.ddpg_trainer import DDPGTrainer\n",
    "from config.config import log"
   ]
  },
  {
   "cell_type": "markdown",
   "metadata": {},
   "source": [
    "## Pendulum"
   ]
  },
  {
   "cell_type": "code",
   "execution_count": 3,
   "metadata": {
    "tags": []
   },
   "outputs": [
    {
     "output_type": "stream",
     "name": "stderr",
     "text": "INFO:root:Start DDPG training (Pendulum)...\nINFO:root:Epoch: 0 / 5\nINFO:root:Epoch: 1 / 5\nINFO:root:Epoch: 2 / 5\nINFO:root:Epoch: 3 / 5\nINFO:root:Epoch: 4 / 5\nINFO:root:Training done!\n"
    }
   ],
   "source": [
    "############\n",
    "# Penduluu #\n",
    "############\n",
    "env = gym.make(\"Pendulum-v0\")\n",
    "\n",
    "trainer = DDPGTrainer()\n",
    "\n",
    "log.info(\"Start DDPG training (Pendulum)...\")\n",
    "\n",
    "trainer.config[\"training_steps\"] = 200\n",
    "trainer.config[\"episodes\"] = 50\n",
    "\n",
    "trainer.train_baseline(env, name=\"Test-File-Logging\",render=False, nb_epochs=5,\n",
    "                       nb_epoch_cycles=1, nb_rollout_steps=1,\n",
    "                       nb_train_steps=1, nb_eval_steps=1)\n",
    "\n",
    "log.info(\"Training done!\")"
   ]
  },
  {
   "cell_type": "code",
   "execution_count": 2,
   "metadata": {},
   "outputs": [
    {
     "output_type": "error",
     "ename": "NameError",
     "evalue": "name 'trainer' is not defined",
     "traceback": [
      "\u001b[1;31m---------------------------------------------------------------------------\u001b[0m",
      "\u001b[1;31mNameError\u001b[0m                                 Traceback (most recent call last)",
      "\u001b[1;32m<ipython-input-2-1a170d6ae5e7>\u001b[0m in \u001b[0;36m<module>\u001b[1;34m\u001b[0m\n\u001b[0;32m      4\u001b[0m \u001b[1;33m\u001b[0m\u001b[0m\n\u001b[0;32m      5\u001b[0m \u001b[1;32mwith\u001b[0m \u001b[0mopen\u001b[0m\u001b[1;33m(\u001b[0m\u001b[1;34mr\"C:\\Users\\email\\Documents\\LMU\\4_Semester\\ASP\\Project\\AlphaWorm\\dev\\models\\2020-07-03\\DDPG-Pendulum-2\\ddpg_baseline_training.pickle\"\u001b[0m\u001b[1;33m,\u001b[0m \u001b[1;34m\"wb+\"\u001b[0m\u001b[1;33m)\u001b[0m \u001b[1;32mas\u001b[0m \u001b[0mf\u001b[0m\u001b[1;33m:\u001b[0m\u001b[1;33m\u001b[0m\u001b[1;33m\u001b[0m\u001b[0m\n\u001b[1;32m----> 6\u001b[1;33m     \u001b[0mpickle\u001b[0m\u001b[1;33m.\u001b[0m\u001b[0mdump\u001b[0m\u001b[1;33m(\u001b[0m\u001b[0mtrainer\u001b[0m\u001b[1;33m.\u001b[0m\u001b[0mddpg_agent\u001b[0m\u001b[1;33m,\u001b[0m \u001b[0mf\u001b[0m\u001b[1;33m)\u001b[0m\u001b[1;33m\u001b[0m\u001b[1;33m\u001b[0m\u001b[0m\n\u001b[0m",
      "\u001b[1;31mNameError\u001b[0m: name 'trainer' is not defined"
     ]
    }
   ],
   "source": [
    "import pickle\n",
    "\n",
    "\n",
    "with open(r\"C:\\Users\\email\\Documents\\LMU\\4_Semester\\ASP\\Project\\AlphaWorm\\dev\\models\\2020-07-03\\DDPG-Pendulum-2\\ddpg_baseline_training.pickle\", \"wb+\") as f:\n",
    "    pickle.dump(trainer.ddpg_agent, f)"
   ]
  },
  {
   "cell_type": "code",
   "execution_count": 3,
   "metadata": {},
   "outputs": [
    {
     "output_type": "error",
     "ename": "EOFError",
     "evalue": "Ran out of input",
     "traceback": [
      "\u001b[1;31m---------------------------------------------------------------------------\u001b[0m",
      "\u001b[1;31mEOFError\u001b[0m                                  Traceback (most recent call last)",
      "\u001b[1;32m<ipython-input-3-6b4a6455e5eb>\u001b[0m in \u001b[0;36m<module>\u001b[1;34m\u001b[0m\n\u001b[0;32m      5\u001b[0m \u001b[1;33m\u001b[0m\u001b[0m\n\u001b[0;32m      6\u001b[0m \u001b[1;32mwith\u001b[0m \u001b[0mopen\u001b[0m\u001b[1;33m(\u001b[0m\u001b[1;34mr\"C:\\Users\\email\\Documents\\LMU\\4_Semester\\ASP\\Project\\AlphaWorm\\dev\\models\\2020-07-03\\DDPG-Pendulum-2\\ddpg_baseline_training.pickle\"\u001b[0m\u001b[1;33m,\u001b[0m \u001b[1;34m\"rb\"\u001b[0m\u001b[1;33m)\u001b[0m \u001b[1;32mas\u001b[0m \u001b[0mf\u001b[0m\u001b[1;33m:\u001b[0m\u001b[1;33m\u001b[0m\u001b[1;33m\u001b[0m\u001b[0m\n\u001b[1;32m----> 7\u001b[1;33m     \u001b[0mddpg_agent\u001b[0m \u001b[1;33m=\u001b[0m \u001b[0mpickle\u001b[0m\u001b[1;33m.\u001b[0m\u001b[0mload\u001b[0m\u001b[1;33m(\u001b[0m\u001b[0mf\u001b[0m\u001b[1;33m)\u001b[0m\u001b[1;33m\u001b[0m\u001b[1;33m\u001b[0m\u001b[0m\n\u001b[0m\u001b[0;32m      8\u001b[0m     \u001b[1;31m# ddpg_agent.run(env, steps=100, render=True)\u001b[0m\u001b[1;33m\u001b[0m\u001b[1;33m\u001b[0m\u001b[1;33m\u001b[0m\u001b[0m\n",
      "\u001b[1;31mEOFError\u001b[0m: Ran out of input"
     ]
    }
   ],
   "source": [
    "import pickle\n",
    "\n",
    "import sys\n",
    "sys.path.insert(0, \"../\")\n",
    "\n",
    "with open(r\"C:\\Users\\email\\Documents\\LMU\\4_Semester\\ASP\\Project\\AlphaWorm\\dev\\models\\2020-07-03\\DDPG-Pendulum-2\\ddpg_baseline_training.pickle\", \"rb\") as f:\n",
    "    ddpg_agent = pickle.load(f)\n",
    "    # ddpg_agent.run(env, steps=100, render=True)"
   ]
  },
  {
   "cell_type": "code",
   "execution_count": 6,
   "metadata": {},
   "outputs": [
    {
     "output_type": "execute_result",
     "data": {
      "text/plain": "<agents.ddpg.ddpg.DDPGagent at 0x29479d4be48>"
     },
     "metadata": {},
     "execution_count": 6
    }
   ],
   "source": [
    "ddpg_agent"
   ]
  },
  {
   "cell_type": "markdown",
   "metadata": {},
   "source": [
    "---"
   ]
  },
  {
   "cell_type": "markdown",
   "metadata": {},
   "source": [
    "## Mountain Car"
   ]
  },
  {
   "cell_type": "code",
   "execution_count": 9,
   "metadata": {},
   "outputs": [
    {
     "output_type": "stream",
     "name": "stderr",
     "text": "[I 2020-06-17 09:55:19,172] Finished trial#0 with value: -0.86143798645482 with parameters: {'n_layers': 2, 'n_units_l0': 80, 'n_units_l1': 20, 'actor_lr': 0.07243559536176297, 'critic_lr': 0.01320511907578651, 'gamma': 0.9046742938788728, 'tau': 0.012398941132184193, 'episodes': 14, 'training_steps': 13, 'batch_size': 15}. Best is trial#0 with value: -0.86143798645482.\n[I 2020-06-17 09:55:19,632] Finished trial#1 with value: -0.6300303396351985 with parameters: {'n_layers': 2, 'n_units_l0': 54, 'n_units_l1': 116, 'actor_lr': 0.06879994480195133, 'critic_lr': 0.08549541625359897, 'gamma': 0.1509626716289234, 'tau': 0.015412280329085837, 'episodes': 13, 'training_steps': 10, 'batch_size': 11}. Best is trial#1 with value: -0.6300303396351985.\n[I 2020-06-17 09:55:20,042] Finished trial#2 with value: -0.9198870582350983 with parameters: {'n_layers': 2, 'n_units_l0': 104, 'n_units_l1': 78, 'actor_lr': 0.0892403870902108, 'critic_lr': 0.03489305319800736, 'gamma': 0.1372472427008143, 'tau': 0.014894760124585876, 'episodes': 10, 'training_steps': 12, 'batch_size': 14}. Best is trial#1 with value: -0.6300303396351985.\n[I 2020-06-17 09:55:21,003] Finished trial#3 with value: -0.23986159626641573 with parameters: {'n_layers': 3, 'n_units_l0': 36, 'n_units_l1': 123, 'n_units_l2': 117, 'actor_lr': 0.033746533947382605, 'critic_lr': 0.0006800615482189221, 'gamma': 0.504372160553548, 'tau': 0.05513925218575275, 'episodes': 15, 'training_steps': 11, 'batch_size': 15}. Best is trial#3 with value: -0.23986159626641573.\n[I 2020-06-17 09:55:21,731] Finished trial#4 with value: -0.7270812497620344 with parameters: {'n_layers': 3, 'n_units_l0': 76, 'n_units_l1': 75, 'n_units_l2': 118, 'actor_lr': 0.07233061009247942, 'critic_lr': 0.06417894361661022, 'gamma': 0.5627637832187656, 'tau': 0.01478222237636431, 'episodes': 15, 'training_steps': 10, 'batch_size': 14}. Best is trial#3 with value: -0.23986159626641573.\n[I 2020-06-17 09:55:22,533] Finished trial#5 with value: -0.9364048305719533 with parameters: {'n_layers': 3, 'n_units_l0': 49, 'n_units_l1': 47, 'n_units_l2': 50, 'actor_lr': 0.022122505548866994, 'critic_lr': 0.0411818177907792, 'gamma': 0.05990611614458813, 'tau': 0.006044388300464079, 'episodes': 15, 'training_steps': 13, 'batch_size': 10}. Best is trial#3 with value: -0.23986159626641573.\n[I 2020-06-17 09:55:23,374] Finished trial#6 with value: -0.7348062612710431 with parameters: {'n_layers': 3, 'n_units_l0': 13, 'n_units_l1': 117, 'n_units_l2': 113, 'actor_lr': 0.07664998284197215, 'critic_lr': 0.029476624009432486, 'gamma': 0.573213526521193, 'tau': 0.08600410832701529, 'episodes': 15, 'training_steps': 11, 'batch_size': 13}. Best is trial#3 with value: -0.23986159626641573.\n[I 2020-06-17 09:55:24,180] Finished trial#7 with value: -0.936439634387881 with parameters: {'n_layers': 3, 'n_units_l0': 102, 'n_units_l1': 105, 'n_units_l2': 69, 'actor_lr': 0.04715252729062802, 'critic_lr': 0.03523765031457345, 'gamma': 0.11972638804856556, 'tau': 0.053722875586755106, 'episodes': 12, 'training_steps': 13, 'batch_size': 12}. Best is trial#3 with value: -0.23986159626641573.\n[I 2020-06-17 09:55:24,552] Finished trial#8 with value: -0.8942886916608912 with parameters: {'n_layers': 1, 'n_units_l0': 88, 'actor_lr': 0.024269641096022716, 'critic_lr': 0.05574285449136025, 'gamma': 0.7483834232345123, 'tau': 0.08639324103984915, 'episodes': 11, 'training_steps': 14, 'batch_size': 10}. Best is trial#3 with value: -0.23986159626641573.\n[I 2020-06-17 09:55:25,013] Finished trial#9 with value: -0.7631896583811865 with parameters: {'n_layers': 2, 'n_units_l0': 64, 'n_units_l1': 52, 'actor_lr': 0.06162380249277835, 'critic_lr': 0.07374238897854882, 'gamma': 0.6069923614839028, 'tau': 0.030251319351626553, 'episodes': 12, 'training_steps': 12, 'batch_size': 13}. Best is trial#3 with value: -0.23986159626641573.\n"
    }
   ],
   "source": [
    "env = gym.make(\"MountainCarContinuous-v0\")\n",
    "\n",
    "trainer = DDPGTrainer()\n",
    "\n",
    "study = trainer.start_training(env, trials=10, render=False, name=\"MountainCar-1\")"
   ]
  },
  {
   "cell_type": "code",
   "execution_count": 10,
   "metadata": {},
   "outputs": [],
   "source": [
    "with open(\"../models/2020-06-17/MountainCar-1.pickle\", 'rb') as f:\n",
    "    best_agent = pickle.load(f)"
   ]
  },
  {
   "cell_type": "code",
   "execution_count": 15,
   "metadata": {},
   "outputs": [],
   "source": [
    "best_agent.run(env, steps=1000)"
   ]
  },
  {
   "cell_type": "code",
   "execution_count": 16,
   "metadata": {},
   "outputs": [],
   "source": [
    "env.close()"
   ]
  },
  {
   "cell_type": "code",
   "execution_count": 6,
   "metadata": {},
   "outputs": [
    {
     "output_type": "display_data",
     "data": {
      "application/vnd.plotly.v1+json": {
       "config": {
        "plotlyServerURL": "https://plot.ly"
       },
       "data": [
        {
         "marker": {
          "maxdisplayed": 10
         },
         "mode": "lines+markers",
         "name": "Trial0",
         "type": "scatter",
         "x": [
          0,
          1,
          2,
          3,
          4,
          5,
          6,
          7,
          8,
          9,
          10,
          11,
          12,
          13
         ],
         "y": [
          -1.0861234189178517,
          -0.26190481307196856,
          -0.9075496557315113,
          -0.7040580433106461,
          -0.42608378447277906,
          -1.333869336334732,
          -0.4631698488753752,
          -0.6048092272924275,
          -0.5054511597756309,
          -0.9455099525644929,
          -1.167369394952757,
          -1.5000000000000002,
          -0.7644181794007777,
          -1.0053345690090172
         ]
        }
       ],
       "layout": {
        "showlegend": false,
        "template": {
         "data": {
          "bar": [
           {
            "error_x": {
             "color": "#2a3f5f"
            },
            "error_y": {
             "color": "#2a3f5f"
            },
            "marker": {
             "line": {
              "color": "#E5ECF6",
              "width": 0.5
             }
            },
            "type": "bar"
           }
          ],
          "barpolar": [
           {
            "marker": {
             "line": {
              "color": "#E5ECF6",
              "width": 0.5
             }
            },
            "type": "barpolar"
           }
          ],
          "carpet": [
           {
            "aaxis": {
             "endlinecolor": "#2a3f5f",
             "gridcolor": "white",
             "linecolor": "white",
             "minorgridcolor": "white",
             "startlinecolor": "#2a3f5f"
            },
            "baxis": {
             "endlinecolor": "#2a3f5f",
             "gridcolor": "white",
             "linecolor": "white",
             "minorgridcolor": "white",
             "startlinecolor": "#2a3f5f"
            },
            "type": "carpet"
           }
          ],
          "choropleth": [
           {
            "colorbar": {
             "outlinewidth": 0,
             "ticks": ""
            },
            "type": "choropleth"
           }
          ],
          "contour": [
           {
            "colorbar": {
             "outlinewidth": 0,
             "ticks": ""
            },
            "colorscale": [
             [
              0,
              "#0d0887"
             ],
             [
              0.1111111111111111,
              "#46039f"
             ],
             [
              0.2222222222222222,
              "#7201a8"
             ],
             [
              0.3333333333333333,
              "#9c179e"
             ],
             [
              0.4444444444444444,
              "#bd3786"
             ],
             [
              0.5555555555555556,
              "#d8576b"
             ],
             [
              0.6666666666666666,
              "#ed7953"
             ],
             [
              0.7777777777777778,
              "#fb9f3a"
             ],
             [
              0.8888888888888888,
              "#fdca26"
             ],
             [
              1,
              "#f0f921"
             ]
            ],
            "type": "contour"
           }
          ],
          "contourcarpet": [
           {
            "colorbar": {
             "outlinewidth": 0,
             "ticks": ""
            },
            "type": "contourcarpet"
           }
          ],
          "heatmap": [
           {
            "colorbar": {
             "outlinewidth": 0,
             "ticks": ""
            },
            "colorscale": [
             [
              0,
              "#0d0887"
             ],
             [
              0.1111111111111111,
              "#46039f"
             ],
             [
              0.2222222222222222,
              "#7201a8"
             ],
             [
              0.3333333333333333,
              "#9c179e"
             ],
             [
              0.4444444444444444,
              "#bd3786"
             ],
             [
              0.5555555555555556,
              "#d8576b"
             ],
             [
              0.6666666666666666,
              "#ed7953"
             ],
             [
              0.7777777777777778,
              "#fb9f3a"
             ],
             [
              0.8888888888888888,
              "#fdca26"
             ],
             [
              1,
              "#f0f921"
             ]
            ],
            "type": "heatmap"
           }
          ],
          "heatmapgl": [
           {
            "colorbar": {
             "outlinewidth": 0,
             "ticks": ""
            },
            "colorscale": [
             [
              0,
              "#0d0887"
             ],
             [
              0.1111111111111111,
              "#46039f"
             ],
             [
              0.2222222222222222,
              "#7201a8"
             ],
             [
              0.3333333333333333,
              "#9c179e"
             ],
             [
              0.4444444444444444,
              "#bd3786"
             ],
             [
              0.5555555555555556,
              "#d8576b"
             ],
             [
              0.6666666666666666,
              "#ed7953"
             ],
             [
              0.7777777777777778,
              "#fb9f3a"
             ],
             [
              0.8888888888888888,
              "#fdca26"
             ],
             [
              1,
              "#f0f921"
             ]
            ],
            "type": "heatmapgl"
           }
          ],
          "histogram": [
           {
            "marker": {
             "colorbar": {
              "outlinewidth": 0,
              "ticks": ""
             }
            },
            "type": "histogram"
           }
          ],
          "histogram2d": [
           {
            "colorbar": {
             "outlinewidth": 0,
             "ticks": ""
            },
            "colorscale": [
             [
              0,
              "#0d0887"
             ],
             [
              0.1111111111111111,
              "#46039f"
             ],
             [
              0.2222222222222222,
              "#7201a8"
             ],
             [
              0.3333333333333333,
              "#9c179e"
             ],
             [
              0.4444444444444444,
              "#bd3786"
             ],
             [
              0.5555555555555556,
              "#d8576b"
             ],
             [
              0.6666666666666666,
              "#ed7953"
             ],
             [
              0.7777777777777778,
              "#fb9f3a"
             ],
             [
              0.8888888888888888,
              "#fdca26"
             ],
             [
              1,
              "#f0f921"
             ]
            ],
            "type": "histogram2d"
           }
          ],
          "histogram2dcontour": [
           {
            "colorbar": {
             "outlinewidth": 0,
             "ticks": ""
            },
            "colorscale": [
             [
              0,
              "#0d0887"
             ],
             [
              0.1111111111111111,
              "#46039f"
             ],
             [
              0.2222222222222222,
              "#7201a8"
             ],
             [
              0.3333333333333333,
              "#9c179e"
             ],
             [
              0.4444444444444444,
              "#bd3786"
             ],
             [
              0.5555555555555556,
              "#d8576b"
             ],
             [
              0.6666666666666666,
              "#ed7953"
             ],
             [
              0.7777777777777778,
              "#fb9f3a"
             ],
             [
              0.8888888888888888,
              "#fdca26"
             ],
             [
              1,
              "#f0f921"
             ]
            ],
            "type": "histogram2dcontour"
           }
          ],
          "mesh3d": [
           {
            "colorbar": {
             "outlinewidth": 0,
             "ticks": ""
            },
            "type": "mesh3d"
           }
          ],
          "parcoords": [
           {
            "line": {
             "colorbar": {
              "outlinewidth": 0,
              "ticks": ""
             }
            },
            "type": "parcoords"
           }
          ],
          "pie": [
           {
            "automargin": true,
            "type": "pie"
           }
          ],
          "scatter": [
           {
            "marker": {
             "colorbar": {
              "outlinewidth": 0,
              "ticks": ""
             }
            },
            "type": "scatter"
           }
          ],
          "scatter3d": [
           {
            "line": {
             "colorbar": {
              "outlinewidth": 0,
              "ticks": ""
             }
            },
            "marker": {
             "colorbar": {
              "outlinewidth": 0,
              "ticks": ""
             }
            },
            "type": "scatter3d"
           }
          ],
          "scattercarpet": [
           {
            "marker": {
             "colorbar": {
              "outlinewidth": 0,
              "ticks": ""
             }
            },
            "type": "scattercarpet"
           }
          ],
          "scattergeo": [
           {
            "marker": {
             "colorbar": {
              "outlinewidth": 0,
              "ticks": ""
             }
            },
            "type": "scattergeo"
           }
          ],
          "scattergl": [
           {
            "marker": {
             "colorbar": {
              "outlinewidth": 0,
              "ticks": ""
             }
            },
            "type": "scattergl"
           }
          ],
          "scattermapbox": [
           {
            "marker": {
             "colorbar": {
              "outlinewidth": 0,
              "ticks": ""
             }
            },
            "type": "scattermapbox"
           }
          ],
          "scatterpolar": [
           {
            "marker": {
             "colorbar": {
              "outlinewidth": 0,
              "ticks": ""
             }
            },
            "type": "scatterpolar"
           }
          ],
          "scatterpolargl": [
           {
            "marker": {
             "colorbar": {
              "outlinewidth": 0,
              "ticks": ""
             }
            },
            "type": "scatterpolargl"
           }
          ],
          "scatterternary": [
           {
            "marker": {
             "colorbar": {
              "outlinewidth": 0,
              "ticks": ""
             }
            },
            "type": "scatterternary"
           }
          ],
          "surface": [
           {
            "colorbar": {
             "outlinewidth": 0,
             "ticks": ""
            },
            "colorscale": [
             [
              0,
              "#0d0887"
             ],
             [
              0.1111111111111111,
              "#46039f"
             ],
             [
              0.2222222222222222,
              "#7201a8"
             ],
             [
              0.3333333333333333,
              "#9c179e"
             ],
             [
              0.4444444444444444,
              "#bd3786"
             ],
             [
              0.5555555555555556,
              "#d8576b"
             ],
             [
              0.6666666666666666,
              "#ed7953"
             ],
             [
              0.7777777777777778,
              "#fb9f3a"
             ],
             [
              0.8888888888888888,
              "#fdca26"
             ],
             [
              1,
              "#f0f921"
             ]
            ],
            "type": "surface"
           }
          ],
          "table": [
           {
            "cells": {
             "fill": {
              "color": "#EBF0F8"
             },
             "line": {
              "color": "white"
             }
            },
            "header": {
             "fill": {
              "color": "#C8D4E3"
             },
             "line": {
              "color": "white"
             }
            },
            "type": "table"
           }
          ]
         },
         "layout": {
          "annotationdefaults": {
           "arrowcolor": "#2a3f5f",
           "arrowhead": 0,
           "arrowwidth": 1
          },
          "coloraxis": {
           "colorbar": {
            "outlinewidth": 0,
            "ticks": ""
           }
          },
          "colorscale": {
           "diverging": [
            [
             0,
             "#8e0152"
            ],
            [
             0.1,
             "#c51b7d"
            ],
            [
             0.2,
             "#de77ae"
            ],
            [
             0.3,
             "#f1b6da"
            ],
            [
             0.4,
             "#fde0ef"
            ],
            [
             0.5,
             "#f7f7f7"
            ],
            [
             0.6,
             "#e6f5d0"
            ],
            [
             0.7,
             "#b8e186"
            ],
            [
             0.8,
             "#7fbc41"
            ],
            [
             0.9,
             "#4d9221"
            ],
            [
             1,
             "#276419"
            ]
           ],
           "sequential": [
            [
             0,
             "#0d0887"
            ],
            [
             0.1111111111111111,
             "#46039f"
            ],
            [
             0.2222222222222222,
             "#7201a8"
            ],
            [
             0.3333333333333333,
             "#9c179e"
            ],
            [
             0.4444444444444444,
             "#bd3786"
            ],
            [
             0.5555555555555556,
             "#d8576b"
            ],
            [
             0.6666666666666666,
             "#ed7953"
            ],
            [
             0.7777777777777778,
             "#fb9f3a"
            ],
            [
             0.8888888888888888,
             "#fdca26"
            ],
            [
             1,
             "#f0f921"
            ]
           ],
           "sequentialminus": [
            [
             0,
             "#0d0887"
            ],
            [
             0.1111111111111111,
             "#46039f"
            ],
            [
             0.2222222222222222,
             "#7201a8"
            ],
            [
             0.3333333333333333,
             "#9c179e"
            ],
            [
             0.4444444444444444,
             "#bd3786"
            ],
            [
             0.5555555555555556,
             "#d8576b"
            ],
            [
             0.6666666666666666,
             "#ed7953"
            ],
            [
             0.7777777777777778,
             "#fb9f3a"
            ],
            [
             0.8888888888888888,
             "#fdca26"
            ],
            [
             1,
             "#f0f921"
            ]
           ]
          },
          "colorway": [
           "#636efa",
           "#EF553B",
           "#00cc96",
           "#ab63fa",
           "#FFA15A",
           "#19d3f3",
           "#FF6692",
           "#B6E880",
           "#FF97FF",
           "#FECB52"
          ],
          "font": {
           "color": "#2a3f5f"
          },
          "geo": {
           "bgcolor": "white",
           "lakecolor": "white",
           "landcolor": "#E5ECF6",
           "showlakes": true,
           "showland": true,
           "subunitcolor": "white"
          },
          "hoverlabel": {
           "align": "left"
          },
          "hovermode": "closest",
          "mapbox": {
           "style": "light"
          },
          "paper_bgcolor": "white",
          "plot_bgcolor": "#E5ECF6",
          "polar": {
           "angularaxis": {
            "gridcolor": "white",
            "linecolor": "white",
            "ticks": ""
           },
           "bgcolor": "#E5ECF6",
           "radialaxis": {
            "gridcolor": "white",
            "linecolor": "white",
            "ticks": ""
           }
          },
          "scene": {
           "xaxis": {
            "backgroundcolor": "#E5ECF6",
            "gridcolor": "white",
            "gridwidth": 2,
            "linecolor": "white",
            "showbackground": true,
            "ticks": "",
            "zerolinecolor": "white"
           },
           "yaxis": {
            "backgroundcolor": "#E5ECF6",
            "gridcolor": "white",
            "gridwidth": 2,
            "linecolor": "white",
            "showbackground": true,
            "ticks": "",
            "zerolinecolor": "white"
           },
           "zaxis": {
            "backgroundcolor": "#E5ECF6",
            "gridcolor": "white",
            "gridwidth": 2,
            "linecolor": "white",
            "showbackground": true,
            "ticks": "",
            "zerolinecolor": "white"
           }
          },
          "shapedefaults": {
           "line": {
            "color": "#2a3f5f"
           }
          },
          "ternary": {
           "aaxis": {
            "gridcolor": "white",
            "linecolor": "white",
            "ticks": ""
           },
           "baxis": {
            "gridcolor": "white",
            "linecolor": "white",
            "ticks": ""
           },
           "bgcolor": "#E5ECF6",
           "caxis": {
            "gridcolor": "white",
            "linecolor": "white",
            "ticks": ""
           }
          },
          "title": {
           "x": 0.05
          },
          "xaxis": {
           "automargin": true,
           "gridcolor": "white",
           "linecolor": "white",
           "ticks": "",
           "title": {
            "standoff": 15
           },
           "zerolinecolor": "white",
           "zerolinewidth": 2
          },
          "yaxis": {
           "automargin": true,
           "gridcolor": "white",
           "linecolor": "white",
           "ticks": "",
           "title": {
            "standoff": 15
           },
           "zerolinecolor": "white",
           "zerolinewidth": 2
          }
         }
        },
        "title": {
         "text": "Intermediate Values Plot"
        },
        "xaxis": {
         "title": {
          "text": "Step"
         }
        },
        "yaxis": {
         "title": {
          "text": "Intermediate Value"
         }
        }
       }
      }
     },
     "metadata": {}
    }
   ],
   "source": [
    "import optuna\n",
    "\n",
    "# Read the study from a specific run to visualize.\n",
    "with open(\"../models/2020-06-17/MountainCar_study.pickle\", 'rb') as f:\n",
    "    study = pickle.load(f)\n",
    "optuna.visualization.plot_intermediate_values(study)"
   ]
  },
  {
   "cell_type": "code",
   "execution_count": 7,
   "metadata": {},
   "outputs": [
    {
     "output_type": "display_data",
     "data": {
      "application/vnd.plotly.v1+json": {
       "config": {
        "plotlyServerURL": "https://plot.ly"
       },
       "data": [
        {
         "mode": "markers",
         "name": "Objective Value",
         "type": "scatter",
         "x": [
          0
         ],
         "y": [
          -0.5576260429835437
         ]
        },
        {
         "name": "Best Value",
         "type": "scatter",
         "x": [
          0
         ],
         "y": [
          -0.5576260429835437
         ]
        }
       ],
       "layout": {
        "template": {
         "data": {
          "bar": [
           {
            "error_x": {
             "color": "#2a3f5f"
            },
            "error_y": {
             "color": "#2a3f5f"
            },
            "marker": {
             "line": {
              "color": "#E5ECF6",
              "width": 0.5
             }
            },
            "type": "bar"
           }
          ],
          "barpolar": [
           {
            "marker": {
             "line": {
              "color": "#E5ECF6",
              "width": 0.5
             }
            },
            "type": "barpolar"
           }
          ],
          "carpet": [
           {
            "aaxis": {
             "endlinecolor": "#2a3f5f",
             "gridcolor": "white",
             "linecolor": "white",
             "minorgridcolor": "white",
             "startlinecolor": "#2a3f5f"
            },
            "baxis": {
             "endlinecolor": "#2a3f5f",
             "gridcolor": "white",
             "linecolor": "white",
             "minorgridcolor": "white",
             "startlinecolor": "#2a3f5f"
            },
            "type": "carpet"
           }
          ],
          "choropleth": [
           {
            "colorbar": {
             "outlinewidth": 0,
             "ticks": ""
            },
            "type": "choropleth"
           }
          ],
          "contour": [
           {
            "colorbar": {
             "outlinewidth": 0,
             "ticks": ""
            },
            "colorscale": [
             [
              0,
              "#0d0887"
             ],
             [
              0.1111111111111111,
              "#46039f"
             ],
             [
              0.2222222222222222,
              "#7201a8"
             ],
             [
              0.3333333333333333,
              "#9c179e"
             ],
             [
              0.4444444444444444,
              "#bd3786"
             ],
             [
              0.5555555555555556,
              "#d8576b"
             ],
             [
              0.6666666666666666,
              "#ed7953"
             ],
             [
              0.7777777777777778,
              "#fb9f3a"
             ],
             [
              0.8888888888888888,
              "#fdca26"
             ],
             [
              1,
              "#f0f921"
             ]
            ],
            "type": "contour"
           }
          ],
          "contourcarpet": [
           {
            "colorbar": {
             "outlinewidth": 0,
             "ticks": ""
            },
            "type": "contourcarpet"
           }
          ],
          "heatmap": [
           {
            "colorbar": {
             "outlinewidth": 0,
             "ticks": ""
            },
            "colorscale": [
             [
              0,
              "#0d0887"
             ],
             [
              0.1111111111111111,
              "#46039f"
             ],
             [
              0.2222222222222222,
              "#7201a8"
             ],
             [
              0.3333333333333333,
              "#9c179e"
             ],
             [
              0.4444444444444444,
              "#bd3786"
             ],
             [
              0.5555555555555556,
              "#d8576b"
             ],
             [
              0.6666666666666666,
              "#ed7953"
             ],
             [
              0.7777777777777778,
              "#fb9f3a"
             ],
             [
              0.8888888888888888,
              "#fdca26"
             ],
             [
              1,
              "#f0f921"
             ]
            ],
            "type": "heatmap"
           }
          ],
          "heatmapgl": [
           {
            "colorbar": {
             "outlinewidth": 0,
             "ticks": ""
            },
            "colorscale": [
             [
              0,
              "#0d0887"
             ],
             [
              0.1111111111111111,
              "#46039f"
             ],
             [
              0.2222222222222222,
              "#7201a8"
             ],
             [
              0.3333333333333333,
              "#9c179e"
             ],
             [
              0.4444444444444444,
              "#bd3786"
             ],
             [
              0.5555555555555556,
              "#d8576b"
             ],
             [
              0.6666666666666666,
              "#ed7953"
             ],
             [
              0.7777777777777778,
              "#fb9f3a"
             ],
             [
              0.8888888888888888,
              "#fdca26"
             ],
             [
              1,
              "#f0f921"
             ]
            ],
            "type": "heatmapgl"
           }
          ],
          "histogram": [
           {
            "marker": {
             "colorbar": {
              "outlinewidth": 0,
              "ticks": ""
             }
            },
            "type": "histogram"
           }
          ],
          "histogram2d": [
           {
            "colorbar": {
             "outlinewidth": 0,
             "ticks": ""
            },
            "colorscale": [
             [
              0,
              "#0d0887"
             ],
             [
              0.1111111111111111,
              "#46039f"
             ],
             [
              0.2222222222222222,
              "#7201a8"
             ],
             [
              0.3333333333333333,
              "#9c179e"
             ],
             [
              0.4444444444444444,
              "#bd3786"
             ],
             [
              0.5555555555555556,
              "#d8576b"
             ],
             [
              0.6666666666666666,
              "#ed7953"
             ],
             [
              0.7777777777777778,
              "#fb9f3a"
             ],
             [
              0.8888888888888888,
              "#fdca26"
             ],
             [
              1,
              "#f0f921"
             ]
            ],
            "type": "histogram2d"
           }
          ],
          "histogram2dcontour": [
           {
            "colorbar": {
             "outlinewidth": 0,
             "ticks": ""
            },
            "colorscale": [
             [
              0,
              "#0d0887"
             ],
             [
              0.1111111111111111,
              "#46039f"
             ],
             [
              0.2222222222222222,
              "#7201a8"
             ],
             [
              0.3333333333333333,
              "#9c179e"
             ],
             [
              0.4444444444444444,
              "#bd3786"
             ],
             [
              0.5555555555555556,
              "#d8576b"
             ],
             [
              0.6666666666666666,
              "#ed7953"
             ],
             [
              0.7777777777777778,
              "#fb9f3a"
             ],
             [
              0.8888888888888888,
              "#fdca26"
             ],
             [
              1,
              "#f0f921"
             ]
            ],
            "type": "histogram2dcontour"
           }
          ],
          "mesh3d": [
           {
            "colorbar": {
             "outlinewidth": 0,
             "ticks": ""
            },
            "type": "mesh3d"
           }
          ],
          "parcoords": [
           {
            "line": {
             "colorbar": {
              "outlinewidth": 0,
              "ticks": ""
             }
            },
            "type": "parcoords"
           }
          ],
          "pie": [
           {
            "automargin": true,
            "type": "pie"
           }
          ],
          "scatter": [
           {
            "marker": {
             "colorbar": {
              "outlinewidth": 0,
              "ticks": ""
             }
            },
            "type": "scatter"
           }
          ],
          "scatter3d": [
           {
            "line": {
             "colorbar": {
              "outlinewidth": 0,
              "ticks": ""
             }
            },
            "marker": {
             "colorbar": {
              "outlinewidth": 0,
              "ticks": ""
             }
            },
            "type": "scatter3d"
           }
          ],
          "scattercarpet": [
           {
            "marker": {
             "colorbar": {
              "outlinewidth": 0,
              "ticks": ""
             }
            },
            "type": "scattercarpet"
           }
          ],
          "scattergeo": [
           {
            "marker": {
             "colorbar": {
              "outlinewidth": 0,
              "ticks": ""
             }
            },
            "type": "scattergeo"
           }
          ],
          "scattergl": [
           {
            "marker": {
             "colorbar": {
              "outlinewidth": 0,
              "ticks": ""
             }
            },
            "type": "scattergl"
           }
          ],
          "scattermapbox": [
           {
            "marker": {
             "colorbar": {
              "outlinewidth": 0,
              "ticks": ""
             }
            },
            "type": "scattermapbox"
           }
          ],
          "scatterpolar": [
           {
            "marker": {
             "colorbar": {
              "outlinewidth": 0,
              "ticks": ""
             }
            },
            "type": "scatterpolar"
           }
          ],
          "scatterpolargl": [
           {
            "marker": {
             "colorbar": {
              "outlinewidth": 0,
              "ticks": ""
             }
            },
            "type": "scatterpolargl"
           }
          ],
          "scatterternary": [
           {
            "marker": {
             "colorbar": {
              "outlinewidth": 0,
              "ticks": ""
             }
            },
            "type": "scatterternary"
           }
          ],
          "surface": [
           {
            "colorbar": {
             "outlinewidth": 0,
             "ticks": ""
            },
            "colorscale": [
             [
              0,
              "#0d0887"
             ],
             [
              0.1111111111111111,
              "#46039f"
             ],
             [
              0.2222222222222222,
              "#7201a8"
             ],
             [
              0.3333333333333333,
              "#9c179e"
             ],
             [
              0.4444444444444444,
              "#bd3786"
             ],
             [
              0.5555555555555556,
              "#d8576b"
             ],
             [
              0.6666666666666666,
              "#ed7953"
             ],
             [
              0.7777777777777778,
              "#fb9f3a"
             ],
             [
              0.8888888888888888,
              "#fdca26"
             ],
             [
              1,
              "#f0f921"
             ]
            ],
            "type": "surface"
           }
          ],
          "table": [
           {
            "cells": {
             "fill": {
              "color": "#EBF0F8"
             },
             "line": {
              "color": "white"
             }
            },
            "header": {
             "fill": {
              "color": "#C8D4E3"
             },
             "line": {
              "color": "white"
             }
            },
            "type": "table"
           }
          ]
         },
         "layout": {
          "annotationdefaults": {
           "arrowcolor": "#2a3f5f",
           "arrowhead": 0,
           "arrowwidth": 1
          },
          "coloraxis": {
           "colorbar": {
            "outlinewidth": 0,
            "ticks": ""
           }
          },
          "colorscale": {
           "diverging": [
            [
             0,
             "#8e0152"
            ],
            [
             0.1,
             "#c51b7d"
            ],
            [
             0.2,
             "#de77ae"
            ],
            [
             0.3,
             "#f1b6da"
            ],
            [
             0.4,
             "#fde0ef"
            ],
            [
             0.5,
             "#f7f7f7"
            ],
            [
             0.6,
             "#e6f5d0"
            ],
            [
             0.7,
             "#b8e186"
            ],
            [
             0.8,
             "#7fbc41"
            ],
            [
             0.9,
             "#4d9221"
            ],
            [
             1,
             "#276419"
            ]
           ],
           "sequential": [
            [
             0,
             "#0d0887"
            ],
            [
             0.1111111111111111,
             "#46039f"
            ],
            [
             0.2222222222222222,
             "#7201a8"
            ],
            [
             0.3333333333333333,
             "#9c179e"
            ],
            [
             0.4444444444444444,
             "#bd3786"
            ],
            [
             0.5555555555555556,
             "#d8576b"
            ],
            [
             0.6666666666666666,
             "#ed7953"
            ],
            [
             0.7777777777777778,
             "#fb9f3a"
            ],
            [
             0.8888888888888888,
             "#fdca26"
            ],
            [
             1,
             "#f0f921"
            ]
           ],
           "sequentialminus": [
            [
             0,
             "#0d0887"
            ],
            [
             0.1111111111111111,
             "#46039f"
            ],
            [
             0.2222222222222222,
             "#7201a8"
            ],
            [
             0.3333333333333333,
             "#9c179e"
            ],
            [
             0.4444444444444444,
             "#bd3786"
            ],
            [
             0.5555555555555556,
             "#d8576b"
            ],
            [
             0.6666666666666666,
             "#ed7953"
            ],
            [
             0.7777777777777778,
             "#fb9f3a"
            ],
            [
             0.8888888888888888,
             "#fdca26"
            ],
            [
             1,
             "#f0f921"
            ]
           ]
          },
          "colorway": [
           "#636efa",
           "#EF553B",
           "#00cc96",
           "#ab63fa",
           "#FFA15A",
           "#19d3f3",
           "#FF6692",
           "#B6E880",
           "#FF97FF",
           "#FECB52"
          ],
          "font": {
           "color": "#2a3f5f"
          },
          "geo": {
           "bgcolor": "white",
           "lakecolor": "white",
           "landcolor": "#E5ECF6",
           "showlakes": true,
           "showland": true,
           "subunitcolor": "white"
          },
          "hoverlabel": {
           "align": "left"
          },
          "hovermode": "closest",
          "mapbox": {
           "style": "light"
          },
          "paper_bgcolor": "white",
          "plot_bgcolor": "#E5ECF6",
          "polar": {
           "angularaxis": {
            "gridcolor": "white",
            "linecolor": "white",
            "ticks": ""
           },
           "bgcolor": "#E5ECF6",
           "radialaxis": {
            "gridcolor": "white",
            "linecolor": "white",
            "ticks": ""
           }
          },
          "scene": {
           "xaxis": {
            "backgroundcolor": "#E5ECF6",
            "gridcolor": "white",
            "gridwidth": 2,
            "linecolor": "white",
            "showbackground": true,
            "ticks": "",
            "zerolinecolor": "white"
           },
           "yaxis": {
            "backgroundcolor": "#E5ECF6",
            "gridcolor": "white",
            "gridwidth": 2,
            "linecolor": "white",
            "showbackground": true,
            "ticks": "",
            "zerolinecolor": "white"
           },
           "zaxis": {
            "backgroundcolor": "#E5ECF6",
            "gridcolor": "white",
            "gridwidth": 2,
            "linecolor": "white",
            "showbackground": true,
            "ticks": "",
            "zerolinecolor": "white"
           }
          },
          "shapedefaults": {
           "line": {
            "color": "#2a3f5f"
           }
          },
          "ternary": {
           "aaxis": {
            "gridcolor": "white",
            "linecolor": "white",
            "ticks": ""
           },
           "baxis": {
            "gridcolor": "white",
            "linecolor": "white",
            "ticks": ""
           },
           "bgcolor": "#E5ECF6",
           "caxis": {
            "gridcolor": "white",
            "linecolor": "white",
            "ticks": ""
           }
          },
          "title": {
           "x": 0.05
          },
          "xaxis": {
           "automargin": true,
           "gridcolor": "white",
           "linecolor": "white",
           "ticks": "",
           "title": {
            "standoff": 15
           },
           "zerolinecolor": "white",
           "zerolinewidth": 2
          },
          "yaxis": {
           "automargin": true,
           "gridcolor": "white",
           "linecolor": "white",
           "ticks": "",
           "title": {
            "standoff": 15
           },
           "zerolinecolor": "white",
           "zerolinewidth": 2
          }
         }
        },
        "title": {
         "text": "Optimization History Plot"
        },
        "xaxis": {
         "title": {
          "text": "#Trials"
         }
        },
        "yaxis": {
         "title": {
          "text": "Objective Value"
         }
        }
       }
      }
     },
     "metadata": {}
    }
   ],
   "source": [
    "optuna.visualization.plot_optimization_history(study)"
   ]
  }
 ],
 "metadata": {
  "language_info": {
   "codemirror_mode": {
    "name": "ipython",
    "version": 3
   },
   "file_extension": ".py",
   "mimetype": "text/x-python",
   "name": "python",
   "nbconvert_exporter": "python",
   "pygments_lexer": "ipython3",
   "version": "3.7.7-final"
  },
  "orig_nbformat": 2,
  "kernelspec": {
   "name": "python37764bitaspconda76abd147041447eca13278d9df449fb2",
   "display_name": "Python 3.7.7 64-bit ('asp': conda)"
  }
 },
 "nbformat": 4,
 "nbformat_minor": 2
}